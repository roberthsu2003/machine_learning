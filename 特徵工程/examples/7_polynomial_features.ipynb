{
 "cells": [
  {
   "cell_type": "code",
   "execution_count": null,
   "metadata": {},
   "outputs": [],
   "source": [
    "import pandas as pd\n",
    "from sklearn.preprocessing import PolynomialFeatures\n",
    "\n",
    "# 建立一個範例 DataFrame\n",
    "data = {'x1': [1, 2, 3],\n",
    "        'x2': [4, 5, 6]}",
    "df = pd.DataFrame(data)\n",
    "\n",
    "print(\"原始數據:\")\n",
    "print(df)\n",
    "print(\"\\n\")\n",
    "\n",
    "# --- 使用 PolynomialFeatures ---",
    "# 建立 PolynomialFeatures 物件\n",
    "# degree=2 表示我們想要建立二次多項式特徵\n",
    "# include_bias=False 表示我們不想要包含偏差項 (常數 1)",
    "poly = PolynomialFeatures(degree=2, include_bias=False)\n",
    "\n",
    "# 對數據進行擬合與轉換\n",
    "poly_features = poly.fit_transform(df)\n",
    "\n",
    "# 將轉換後的特徵轉換為 DataFrame\n",
    "poly_df = pd.DataFrame(poly_features, columns=poly.get_feature_names_out(df.columns))\n",
    "\n",
    "print(\"建立二次多項式特徵後的數據:\")\n",
    "print(poly_df)\n",
    "print(\"\\n\")\n",
    "\n",
    "# --- 多項式特徵的說明 ---",
    "# 多項式特徵可以幫助模型捕捉特徵之間的非線性關係。\n",
    "# 在這個範例中，我們有兩個原始特徵 x1 和 x2。\n",
    "# degree=2 的多項式特徵包括：\n",
    "# - x1, x2 (原始特徵)\n",
    "# - x1^2, x2^2 (二次項)\n",
    "# - x1*x2 (互動項)\n",
    "\n",
    "# 適用時機：\n",
    "# - 當你懷疑特徵之間存在非線性關係時。\n",
    "# - 常用於線性模型 (例如線性迴歸)，以增加模型的複雜度，\n",
    "#   使其能夠擬合更複雜的數據。\n",
    "\n",
    "# 注意事項：\n",
    "# - degree 的選擇很重要，過高的 degree 可能會導致模型過擬合。\n",
    "# - 多項式特徵會顯著增加特徵的數量，可能會增加計算成本。"
   ]
  }
 ],
 "metadata": {
  "kernelspec": {
   "display_name": "Python 3",
   "language": "python",
   "name": "python3"
  },
  "language_info": {
   "codemirror_mode": {
    "name": "ipython",
    "version": 3
   },
   "file_extension": ".py",
   "mimetype": "text/x-python",
   "name": "python",
   "nbconvert_exporter": "python",
   "pygments_lexer": "ipython3",
   "version": "3.10.9"
  }
 },
 "nbformat": 4,
 "nbformat_minor": 4
}
