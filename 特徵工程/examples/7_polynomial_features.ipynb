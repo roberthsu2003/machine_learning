{
 "cells": [
  {
   "cell_type": "code",
   "execution_count": 1,
   "metadata": {},
   "outputs": [
    {
     "name": "stdout",
     "output_type": "stream",
     "text": [
      "原始數據:\n",
      "   x1  x2\n",
      "0   1   4\n",
      "1   2   5\n",
      "2   3   6\n",
      "\n",
      "\n",
      "建立二次多項式特徵後的數據:\n",
      "    x1   x2  x1^2  x1 x2  x2^2\n",
      "0  1.0  4.0   1.0    4.0  16.0\n",
      "1  2.0  5.0   4.0   10.0  25.0\n",
      "2  3.0  6.0   9.0   18.0  36.0\n",
      "\n",
      "\n"
     ]
    }
   ],
   "source": [
    "import pandas as pd\n",
    "from sklearn.preprocessing import PolynomialFeatures\n",
    "\n",
    "# 建立一個範例 DataFrame\n",
    "data = {'x1': [1, 2, 3],\n",
    "        'x2': [4, 5, 6]}\n",
    "df = pd.DataFrame(data)\n",
    "\n",
    "print(\"原始數據:\")\n",
    "print(df)\n",
    "print(\"\\n\")\n",
    "\n",
    "# --- 使用 PolynomialFeatures ---\n",
    "# 建立 PolynomialFeatures 物件\n",
    "# degree=2 表示我們想要建立二次多項式特徵\n",
    "# include_bias=False 表示我們不想要包含偏差項 (常數 1)\n",
    "poly = PolynomialFeatures(degree=2, include_bias=False)\n",
    "\n",
    "# 對數據進行擬合與轉換\n",
    "poly_features = poly.fit_transform(df)\n",
    "\n",
    "# 將轉換後的特徵轉換為 DataFrame\n",
    "poly_df = pd.DataFrame(poly_features, columns=poly.get_feature_names_out(df.columns))\n",
    "\n",
    "print(\"建立二次多項式特徵後的數據:\")\n",
    "print(poly_df)\n",
    "print(\"\\n\")\n",
    "\n",
    "# --- 多項式特徵的說明 ---\n",
    "# 多項式特徵可以幫助模型捕捉特徵之間的非線性關係。\n",
    "# 在這個範例中，我們有兩個原始特徵 x1 和 x2。\n",
    "# degree=2 的多項式特徵包括：\n",
    "# - x1, x2 (原始特徵)\n",
    "# - x1^2, x2^2 (二次項)\n",
    "# - x1*x2 (互動項)\n",
    "\n",
    "# 適用時機：\n",
    "# - 當你懷疑特徵之間存在非線性關係時。\n",
    "# - 常用於線性模型 (例如線性迴歸)，以增加模型的複雜度，\n",
    "#   使其能夠擬合更複雜的數據。\n",
    "\n",
    "# 注意事項：\n",
    "# - degree 的選擇很重要，過高的 degree 可能會導致模型過擬合。\n",
    "# - 多項式特徵會顯著增加特徵的數量，可能會增加計算成本。"
   ]
  }
 ],
 "metadata": {
  "kernelspec": {
   "display_name": "machine_learning",
   "language": "python",
   "name": "python3"
  },
  "language_info": {
   "codemirror_mode": {
    "name": "ipython",
    "version": 3
   },
   "file_extension": ".py",
   "mimetype": "text/x-python",
   "name": "python",
   "nbconvert_exporter": "python",
   "pygments_lexer": "ipython3",
   "version": "3.10.18"
  }
 },
 "nbformat": 4,
 "nbformat_minor": 4
}
