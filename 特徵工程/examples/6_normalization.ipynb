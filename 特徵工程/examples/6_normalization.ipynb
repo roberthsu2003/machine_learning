{
 "cells": [
  {
   "cell_type": "code",
   "execution_count": null,
   "metadata": {},
   "outputs": [],
   "source": [
    "import pandas as pd\n",
    "from sklearn.preprocessing import MinMaxScaler\n",
    "\n",
    "# 建立一個範例 DataFrame\n",
    "data = {'age': [25, 30, 35, 40, 45],\n",
    "        'salary': [50000, 60000, 70000, 80000, 90000]}"",
    "df = pd.DataFrame(data)\n",
    "\n",
    "print(\"原始數據:\")\n",
    "print(df)\n",
    "print(\"\\n\")\n",
    "\n",
    "# --- 使用 MinMaxScaler --- \n",
    "# 建立 MinMaxScaler 物件\n",
    "# feature_range=(0, 1) 是預設值，表示將數據縮放到 0 到 1 之間\n",
    "scaler = MinMaxScaler()\n",
    "\n",
    "# 對數據進行擬合與轉換\n",
    "df_scaled = scaler.fit_transform(df)\n",
    "\n",
    "# 將轉換後的數據轉換回 DataFrame\n",
    "df_scaled = pd.DataFrame(df_scaled, columns=df.columns)\n",
    "\n",
    "print(\"歸一化 (Normalization) 後的數據:\")\n",
    "print(df_scaled)\n",
    "print(\"\\n\")\n",
    "\n",
    "# 檢查轉換後數據的統計特性\n",
    "print(\"歸一化後數據的最小值:\")\n",
    "print(df_scaled.min())\n",
    "print(\"\\n\")\n",
    "\n",
    "print(\"歸一化後數據的最大值:\")\n",
    "print(df_scaled.max())\n",
    "print(\"\\n\")\n",
    "\n",
    "# --- 歸一化的說明 --- \n",
    "# 歸一化是將數據縮放到一個指定的範圍，通常是 [0, 1]。\n",
    "# 公式為：x_scaled = (x - x_min) / (x_max - x_min)\n",
    "# 其中 x_min 是最小值，x_max 是最大值。\n",
    "\n",
    "# 適用時機：\n",
    "# - 當你希望將數據限制在一個特定的範圍時。\n",
    "# - 適用於一些對數據範圍敏感的演算法，例如：\n",
    "#   - 類神經網路 (Neural Networks)\n",
    "#   - K-近鄰演算法 (K-Nearest Neighbors, KNN)\n",
    "# - 當數據的分佈不符合常態分佈，或者包含許多離群值時，\n",
    "#   歸一化可能比標準化更穩定。"
   ]
  }
 ],
 "metadata": {
  "kernelspec": {
   "display_name": "Python 3",
   "language": "python",
   "name": "python3"
  },
  "language_info": {
   "codemirror_mode": {
    "name": "ipython",
    "version": 3
   },
   "file_extension": ".py",
   "mimetype": "text/x-python",
   "name": "python",
   "nbconvert_exporter": "python",
   "pygments_lexer": "ipython3",
   "version": "3.10.9"
  }
 },
 "nbformat": 4,
 "nbformat_minor": 4
}
