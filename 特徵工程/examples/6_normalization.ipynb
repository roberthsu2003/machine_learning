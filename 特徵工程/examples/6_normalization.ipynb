{
 "cells": [
  {
   "cell_type": "code",
   "execution_count": 1,
   "metadata": {},
   "outputs": [
    {
     "name": "stdout",
     "output_type": "stream",
     "text": [
      "原始數據:\n",
      "   age  salary\n",
      "0   25   50000\n",
      "1   30   60000\n",
      "2   35   70000\n",
      "3   40   80000\n",
      "4   45   90000\n",
      "\n",
      "\n",
      "歸一化 (Normalization) 後的數據:\n",
      "    age  salary\n",
      "0  0.00    0.00\n",
      "1  0.25    0.25\n",
      "2  0.50    0.50\n",
      "3  0.75    0.75\n",
      "4  1.00    1.00\n",
      "\n",
      "\n",
      "歸一化後數據的最小值:\n",
      "age       0.0\n",
      "salary    0.0\n",
      "dtype: float64\n",
      "\n",
      "\n",
      "歸一化後數據的最大值:\n",
      "age       1.0\n",
      "salary    1.0\n",
      "dtype: float64\n",
      "\n",
      "\n"
     ]
    }
   ],
   "source": [
    "import pandas as pd\n",
    "from sklearn.preprocessing import MinMaxScaler\n",
    "\n",
    "# 建立一個範例 DataFrame\n",
    "data = {'age': [25, 30, 35, 40, 45],\n",
    "        'salary': [50000, 60000, 70000, 80000, 90000]}\n",
    "df = pd.DataFrame(data)\n",
    "\n",
    "print(\"原始數據:\")\n",
    "print(df)\n",
    "print(\"\\n\")\n",
    "\n",
    "# --- 使用 MinMaxScaler --- \n",
    "# 建立 MinMaxScaler 物件\n",
    "# feature_range=(0, 1) 是預設值，表示將數據縮放到 0 到 1 之間\n",
    "scaler = MinMaxScaler()\n",
    "\n",
    "# 對數據進行擬合與轉換\n",
    "df_scaled = scaler.fit_transform(df)\n",
    "\n",
    "# 將轉換後的數據轉換回 DataFrame\n",
    "df_scaled = pd.DataFrame(df_scaled, columns=df.columns)\n",
    "\n",
    "print(\"歸一化 (Normalization) 後的數據:\")\n",
    "print(df_scaled)\n",
    "print(\"\\n\")\n",
    "\n",
    "# 檢查轉換後數據的統計特性\n",
    "print(\"歸一化後數據的最小值:\")\n",
    "print(df_scaled.min())\n",
    "print(\"\\n\")\n",
    "\n",
    "print(\"歸一化後數據的最大值:\")\n",
    "print(df_scaled.max())\n",
    "print(\"\\n\")\n",
    "\n",
    "# --- 歸一化的說明 --- \n",
    "# 歸一化是將數據縮放到一個指定的範圍，通常是 [0, 1]。\n",
    "# 公式為：x_scaled = (x - x_min) / (x_max - x_min)\n",
    "# 其中 x_min 是最小值，x_max 是最大值。\n",
    "\n",
    "# 適用時機：\n",
    "# - 當你希望將數據限制在一個特定的範圍時。\n",
    "# - 適用於一些對數據範圍敏感的演算法，例如：\n",
    "#   - 類神經網路 (Neural Networks)\n",
    "#   - K-近鄰演算法 (K-Nearest Neighbors, KNN)\n",
    "# - 當數據的分佈不符合常態分佈，或者包含許多離群值時，\n",
    "#   歸一化可能比標準化更穩定。"
   ]
  }
 ],
 "metadata": {
  "kernelspec": {
   "display_name": "machine_learning",
   "language": "python",
   "name": "python3"
  },
  "language_info": {
   "codemirror_mode": {
    "name": "ipython",
    "version": 3
   },
   "file_extension": ".py",
   "mimetype": "text/x-python",
   "name": "python",
   "nbconvert_exporter": "python",
   "pygments_lexer": "ipython3",
   "version": "3.10.18"
  }
 },
 "nbformat": 4,
 "nbformat_minor": 4
}
