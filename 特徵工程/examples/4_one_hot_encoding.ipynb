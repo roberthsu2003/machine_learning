{
 "cells": [
  {
   "cell_type": "code",
   "execution_count": 1,
   "metadata": {},
   "outputs": [
    {
     "name": "stdout",
     "output_type": "stream",
     "text": [
      "原始數據:\n",
      "   color\n",
      "0    Red\n",
      "1  Green\n",
      "2   Blue\n",
      "3  Green\n",
      "4    Red\n",
      "\n",
      "\n",
      "使用 scikit-learn 的 OneHotEncoder 轉換後的數據:\n",
      "   color  color_Blue  color_Green  color_Red\n",
      "0    Red         0.0          0.0        1.0\n",
      "1  Green         0.0          1.0        0.0\n",
      "2   Blue         1.0          0.0        0.0\n",
      "3  Green         0.0          1.0        0.0\n",
      "4    Red         0.0          0.0        1.0\n",
      "\n",
      "\n",
      "使用 pandas 的 get_dummies 轉換後的數據:\n",
      "   color_Blue  color_Green  color_Red\n",
      "0       False        False       True\n",
      "1       False         True      False\n",
      "2        True        False      False\n",
      "3       False         True      False\n",
      "4       False        False       True\n",
      "\n",
      "\n"
     ]
    }
   ],
   "source": [
    "import pandas as pd\n",
    "from sklearn.preprocessing import OneHotEncoder\n",
    "\n",
    "# 建立一個包含類別數據的範例 DataFrame\n",
    "data = {'color': ['Red', 'Green', 'Blue', 'Green', 'Red']}\n",
    "df = pd.DataFrame(data)\n",
    "\n",
    "print(\"原始數據:\")\n",
    "print(df)\n",
    "print(\"\\n\")\n",
    "\n",
    "# --- 方法一：使用 scikit-learn 的 OneHotEncoder ---\n",
    "# 建立 OneHotEncoder 物件\n",
    "# sparse=False 表示我們想要得到一個 NumPy 陣列，而不是稀疏矩陣\n",
    "ohe = OneHotEncoder(sparse_output=False)\n",
    "\n",
    "# 對 'color' 欄位進行擬合與轉換\n",
    "# fit_transform 需要 2D 陣列，所以我們使用 [['color']]\n",
    "encoded_features = ohe.fit_transform(df[['color']])\n",
    "\n",
    "# 將轉換後的特徵轉換為 DataFrame\n",
    "encoded_df = pd.DataFrame(encoded_features, columns=ohe.get_feature_names_out(['color']))\n",
    "\n",
    "# 將編碼後的特徵與原始數據合併\n",
    "df_ohe = pd.concat([df, encoded_df], axis=1)\n",
    "\n",
    "print(\"使用 scikit-learn 的 OneHotEncoder 轉換後的數據:\")\n",
    "print(df_ohe)\n",
    "print(\"\\n\")\n",
    "\n",
    "\n",
    "# --- 方法二：使用 pandas 的 get_dummies ---\n",
    "# get_dummies 是一個更簡單直接的方法\n",
    "df_dummies = pd.get_dummies(df, columns=['color'], prefix='color')\n",
    "\n",
    "print(\"使用 pandas 的 get_dummies 轉換後的數據:\")\n",
    "print(df_dummies)\n",
    "print(\"\\n\")\n",
    "\n",
    "# --- One-Hot Encoding 的優缺點 ---\n",
    "# 優點：\n",
    "# - 解決了 Label Encoding 引入不存在順序關係的問題。\n",
    "# - 每個類別都是獨立的特徵，模型不會對它們進行排序。\n",
    "\n",
    "# 缺點：\n",
    "# - 當類別數量很多時，會產生大量的特徵 (維度災難)。\n",
    "# - 可能會導致數據稀疏，增加計算成本。"
   ]
  }
 ],
 "metadata": {
  "kernelspec": {
   "display_name": "machine_learning",
   "language": "python",
   "name": "python3"
  },
  "language_info": {
   "codemirror_mode": {
    "name": "ipython",
    "version": 3
   },
   "file_extension": ".py",
   "mimetype": "text/x-python",
   "name": "python",
   "nbconvert_exporter": "python",
   "pygments_lexer": "ipython3",
   "version": "3.10.18"
  }
 },
 "nbformat": 4,
 "nbformat_minor": 4
}
