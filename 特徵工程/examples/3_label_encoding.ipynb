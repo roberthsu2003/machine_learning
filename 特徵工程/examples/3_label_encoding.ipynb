{
 "cells": [
  {
   "cell_type": "code",
   "execution_count": 1,
   "metadata": {},
   "outputs": [
    {
     "name": "stdout",
     "output_type": "stream",
     "text": [
      "原始數據:\n",
      "  size\n",
      "0    S\n",
      "1    M\n",
      "2    L\n",
      "3   XL\n",
      "4    S\n",
      "5    M\n",
      "\n",
      "\n",
      "使用 LabelEncoder 轉換後的數據:\n",
      "  size  size_encoded\n",
      "0    S             2\n",
      "1    M             1\n",
      "2    L             0\n",
      "3   XL             3\n",
      "4    S             2\n",
      "5    M             1\n",
      "\n",
      "\n",
      "編碼的對應關係:\n",
      "L -> 0\n",
      "M -> 1\n",
      "S -> 2\n",
      "XL -> 3\n"
     ]
    }
   ],
   "source": [
    "import pandas as pd\n",
    "from sklearn.preprocessing import LabelEncoder\n",
    "\n",
    "# 建立一個包含類別數據的範例 DataFrame\n",
    "data = {'size': ['S', 'M', 'L', 'XL', 'S', 'M']}\n",
    "df = pd.DataFrame(data)\n",
    "\n",
    "print(\"原始數據:\")\n",
    "print(df)\n",
    "print(\"\\n\")\n",
    "\n",
    "# --- 使用 LabelEncoder ---\n",
    "# 建立 LabelEncoder 物件\n",
    "le = LabelEncoder()\n",
    "\n",
    "# 對 'size' 欄位進行擬合與轉換\n",
    "df['size_encoded'] = le.fit_transform(df['size'])\n",
    "\n",
    "print(\"使用 LabelEncoder 轉換後的數據:\")\n",
    "print(df)\n",
    "print(\"\\n\")\n",
    "\n",
    "# 查看編碼的對應關係\n",
    "# classes_ 屬性會顯示原始的類別\n",
    "print(\"編碼的對應關係:\")\n",
    "for i, label in enumerate(le.classes_):\n",
    "    print(f\"{label} -> {i}\")\n",
    "\n",
    "# --- Label Encoding 的優缺點 ---\n",
    "# 優點：\n",
    "# - 實現簡單，計算速度快。\n",
    "# - 節省空間，因為只用一個欄位來表示。\n",
    "\n",
    "# 缺點：\n",
    "# - 引入了不存在的順序關係。\n",
    "#   例如，在這個範例中，L=0, M=1, S=2, XL=3。\n",
    "#   模型可能會誤認為 S > M > L，這在很多情況下是不正確的。\n",
    "# - 因此，Label Encoding 通常適用於有序的類別數據 (Ordinal Data)，\n",
    "#   例如 \"低\"、\"中\"、\"高\".\n",
    "#   "
   ]
  }
 ],
 "metadata": {
  "kernelspec": {
   "display_name": "machine_learning",
   "language": "python",
   "name": "python3"
  },
  "language_info": {
   "codemirror_mode": {
    "name": "ipython",
    "version": 3
   },
   "file_extension": ".py",
   "mimetype": "text/x-python",
   "name": "python",
   "nbconvert_exporter": "python",
   "pygments_lexer": "ipython3",
   "version": "3.10.18"
  }
 },
 "nbformat": 4,
 "nbformat_minor": 4
}
