{
 "cells": [
  {
   "cell_type": "code",
   "execution_count": null,
   "metadata": {},
   "outputs": [],
   "source": [
    "import pandas as pd\n",
    "\n",
    "# 建立一個包含不一致和重複數據的範例 DataFrame\n",
    "data = {'age': ['25', '30', '25', '35', '30', '40', '40'],\n",
    "        'gender': ['Male', 'Female', 'male', 'Female', 'Male', 'Female', 'Female'],\n",
    "        'salary': [50000, 60000, 50000, 70000, 60000, 80000, 80000]}",
    "df = pd.DataFrame(data)\n",
    "\n",
    "print(\"原始數據:\")\n",
    "print(df)\n",
    "print(\"\\n\")\n",
    "\n",
    "# --- 數據清洗步驟 ---",
    "\n",
    "# 1. 處理重複數據\n",
    "# duplicated() 會標記重複的行\n",
    "print(\"檢查重複數據:\")\n",
    "print(df.duplicated())\n",
    "print(\"\\n\")\n",
    "\n",
    "# drop_duplicates() 會刪除重複的行\n",
    "df_no_duplicates = df.drop_duplicates()\n",
    "print(\"刪除重複數據後:\")\n",
    "print(df_no_duplicates)\n",
    "print(\"\\n\")\n",
    "\n",
    "\n",
    "# 2. 處理數據格式不一致\n",
    "# 將 'age' 欄位轉換為數值型態\n",
    "df_cleaned = df_no_duplicates.copy()\n",
    "df_cleaned['age'] = pd.to_numeric(df_cleaned['age'])\n",
    "print(\"將 'age' 轉換為數值型態:\")\n",
    "print(df_cleaned.dtypes)\n",
    "print(\"\\n\")\n",
    "\n",
    "# 3. 處理類別數據不一致\n",
    "# 將 'gender' 欄位統一轉換為小寫\n",
    "df_cleaned['gender'] = df_cleaned['gender'].str.lower()\n",
    "print(\"將 'gender' 統一為小寫:\")\n",
    "print(df_cleaned)\n",
    "print(\"\\n\")\n",
    "\n",
    "# 現在 'gender' 欄位的值變為一致\n",
    "print(\"清洗後的 'gender' 欄位唯一值:\")\n",
    "print(df_cleaned['gender'].unique())"
   ]
  }
 ],
 "metadata": {
  "kernelspec": {
   "display_name": "Python 3",
   "language": "python",
   "name": "python3"
  },
  "language_info": {
   "codemirror_mode": {
    "name": "ipython",
    "version": 3
   },
   "file_extension": ".py",
   "mimetype": "text/x-python",
   "name": "python",
   "nbconvert_exporter": "python",
   "pygments_lexer": "ipython3",
   "version": "3.10.9"
  }
 },
 "nbformat": 4,
 "nbformat_minor": 4
}