{
 "cells": [
  {
   "cell_type": "code",
   "execution_count": null,
   "metadata": {},
   "outputs": [],
   "source": [
    "import pandas as pd\n",
    "import numpy as np\n",
    "from sklearn.impute import SimpleImputer\n",
    "\n",
    "# 建立一個包含缺失值的範例 DataFrame\n",
    "data = {'A': [1, 2, np.nan, 4, 5],\n",
    "        'B': [np.nan, 2, 3, 4, 5],\n",
    "        'C': ['apple', 'banana', 'apple', np.nan, 'banana']}\n",
    "df = pd.DataFrame(data)\n",
    "\n",
    "print(\"原始數據:\")\n",
    "print(df)\n",
    "print(\"\\n\")\n",
    "\n",
    "# --- 方法一：刪除缺失值 ---\n",
    "# dropna() 會刪除任何包含缺失值的行\n",
    "df_dropped = df.dropna()\n",
    "print(\"方法一：刪除缺失值後的數據:\")\n",
    "print(df_dropped)\n",
    "print(\"\\n\")\n",
    "\n",
    "# --- 方法二：填補缺失值 ---\n",
    "# 使用 SimpleImputer 來填補缺失值\n",
    "# 對於數值型數據，我們可以使用平均值 (mean)\n",
    "imputer_mean = SimpleImputer(strategy='mean')\n",
    "df_mean_imputed = df.copy()\n",
    "df_mean_imputed[['A', 'B']] = imputer_mean.fit_transform(df_mean_imputed[['A', 'B']])\n",
    "print(\"方法二：使用平均值填補數值型缺失值:\")\n",
    "print(df_mean_imputed)\n",
    "print(\"\\n\")\n",
    "\n",
    "# 對於類別型數據，我們可以使用最頻繁的值 (most_frequent)\n",
    "imputer_most_frequent = SimpleImputer(strategy='most_frequent')\n",
    "df_most_frequent_imputed = df.copy()\n",
    "# SimpleImputer 需要 2D 陣列，所以我們需要 reshape\n",
    "df_most_frequent_imputed['C'] = imputer_most_frequent.fit_transform(df_most_frequent_imputed['C'].values.reshape(-1, 1))\n",
    "print(\"方法二：使用最頻繁值填補類別型缺失值:\")\n",
    "print(df_most_frequent_imputed)\n",
    "print(\"\\n\")\n",
    "\n",
    "# --- 結合填補 ---\n",
    "df_imputed = df.copy()\n",
    "df_imputed[['A', 'B']] = imputer_mean.fit_transform(df_imputed[['A', 'B']])\n",
    "df_imputed['C'] = imputer_most_frequent.fit_transform(df_imputed['C'].values.reshape(-1, 1))\n",
    "print(\"結合兩種填補方法:\")\n",
    "print(df_imputed)"
   ]
  }
 ],
 "metadata": {
  "kernelspec": {
   "display_name": "Python 3",
   "language": "python",
   "name": "python3"
  },
  "language_info": {
   "codemirror_mode": {
    "name": "ipython",
    "version": 3
   },
   "file_extension": ".py",
   "mimetype": "text/x-python",
   "name": "python",
   "nbconvert_exporter": "python",
   "pygments_lexer": "ipython3",
   "version": "3.10.9"
  }
 },
 "nbformat": 4,
 "nbformat_minor": 4
}
