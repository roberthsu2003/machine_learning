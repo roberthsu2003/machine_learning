{
 "cells": [
  {
   "cell_type": "code",
   "execution_count": null,
   "metadata": {},
   "outputs": [],
   "source": [
    "import pandas as pd\n",
    "from sklearn.preprocessing import StandardScaler\n",
    "\n",
    "# 建立一個範例 DataFrame\n",
    "data = {'age': [25, 30, 35, 40, 45],\n",
    "        'salary': [50000, 60000, 70000, 80000, 90000]}",
    "df = pd.DataFrame(data)\n",
    "\n",
    "print(\"原始數據:\")\n",
    "print(df)\n",
    "print(\"\\n\")\n",
    "\n",
    "# --- 使用 StandardScaler ---",
    "# 建立 StandardScaler 物件\n",
    "scaler = StandardScaler()\n",
    "\n",
    "# 對數據進行擬合與轉換\n",
    "df_scaled = scaler.fit_transform(df)\n",
    "\n",
    "# 將轉換後的數據轉換回 DataFrame\n",
    "df_scaled = pd.DataFrame(df_scaled, columns=df.columns)\n",
    "\n",
    "print(\"標準化 (Standardization) 後的數據:\")\n",
    "print(df_scaled)\n",
    "print(\"\\n\")\n",
    "\n",
    "# 檢查轉換後數據的統計特性\n",
    "print(\"標準化後數據的平均值:\")\n",
    "print(df_scaled.mean())\n",
    "print(\"\\n\")\n",
    "\n",
    "print(\"標準化後數據的標準差:\")\n",
    "print(df_scaled.std())\n",
    "print(\"\\n\")\n",
    "\n",
    "# --- 標準化的說明 ---",
    "# 標準化是將數據轉換為平均值為 0，標準差為 1 的分佈。\n",
    "# 公式為：z = (x - μ) / σ\n",
    "# 其中 μ 是平均值，σ 是標準差。\n",
    "\n",
    "# 適用時機：\n",
    "# - 當特徵的數值範圍差異很大時。\n",
    "# - 適用於許多機器學習演算法，例如：\n",
    "#   - 線性迴歸 (Linear Regression)\n",
    "#   - 邏輯迴歸 (Logistic Regression)\n",
    "#   - 支援向量機 (Support Vector Machines, SVM)\n",
    "#   - 主成分分析 (Principal Component Analysis, PCA)\n",
    "# - 當數據的分佈接近常態分佈時，效果很好。"
   ]
  }
 ],
 "metadata": {
  "kernelspec": {
   "display_name": "Python 3",
   "language": "python",
   "name": "python3"
  },
  "language_info": {
   "codemirror_mode": {
    "name": "ipython",
    "version": 3
   },
   "file_extension": ".py",
   "mimetype": "text/x-python",
   "name": "python",
   "nbconvert_exporter": "python",
   "pygments_lexer": "ipython3",
   "version": "3.10.9"
  }
 },
 "nbformat": 4,
 "nbformat_minor": 4
}