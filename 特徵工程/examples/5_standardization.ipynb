{
 "cells": [
  {
   "cell_type": "code",
   "execution_count": 1,
   "metadata": {},
   "outputs": [
    {
     "name": "stdout",
     "output_type": "stream",
     "text": [
      "原始數據:\n",
      "   age  salary\n",
      "0   25   50000\n",
      "1   30   60000\n",
      "2   35   70000\n",
      "3   40   80000\n",
      "4   45   90000\n",
      "\n",
      "\n",
      "標準化 (Standardization) 後的數據:\n",
      "        age    salary\n",
      "0 -1.414214 -1.414214\n",
      "1 -0.707107 -0.707107\n",
      "2  0.000000  0.000000\n",
      "3  0.707107  0.707107\n",
      "4  1.414214  1.414214\n",
      "\n",
      "\n",
      "標準化後數據的平均值:\n",
      "age       0.000000e+00\n",
      "salary   -4.440892e-17\n",
      "dtype: float64\n",
      "\n",
      "\n",
      "標準化後數據的標準差:\n",
      "age       1.118034\n",
      "salary    1.118034\n",
      "dtype: float64\n",
      "\n",
      "\n"
     ]
    }
   ],
   "source": [
    "import pandas as pd\n",
    "from sklearn.preprocessing import StandardScaler\n",
    "\n",
    "# 建立一個範例 DataFrame\n",
    "data = {'age': [25, 30, 35, 40, 45],\n",
    "        'salary': [50000, 60000, 70000, 80000, 90000]}\n",
    "df = pd.DataFrame(data)\n",
    "\n",
    "print(\"原始數據:\")\n",
    "print(df)\n",
    "print(\"\\n\")\n",
    "\n",
    "# --- 使用 StandardScaler ---\n",
    "# 建立 StandardScaler 物件\n",
    "scaler = StandardScaler()\n",
    "\n",
    "# 對數據進行擬合與轉換\n",
    "df_scaled = scaler.fit_transform(df)\n",
    "\n",
    "# 將轉換後的數據轉換回 DataFrame\n",
    "df_scaled = pd.DataFrame(df_scaled, columns=df.columns)\n",
    "\n",
    "print(\"標準化 (Standardization) 後的數據:\")\n",
    "print(df_scaled)\n",
    "print(\"\\n\")\n",
    "\n",
    "# 檢查轉換後數據的統計特性\n",
    "print(\"標準化後數據的平均值:\")\n",
    "print(df_scaled.mean())\n",
    "print(\"\\n\")\n",
    "\n",
    "print(\"標準化後數據的標準差:\")\n",
    "print(df_scaled.std())\n",
    "print(\"\\n\")\n",
    "\n",
    "# --- 標準化的說明 ---\n",
    "# 標準化是將數據轉換為平均值為 0，標準差為 1 的分佈。\n",
    "# 公式為：z = (x - μ) / σ\n",
    "# 其中 μ 是平均值，σ 是標準差。\n",
    "\n",
    "# 適用時機：\n",
    "# - 當特徵的數值範圍差異很大時。\n",
    "# - 適用於許多機器學習演算法，例如：\n",
    "#   - 線性迴歸 (Linear Regression)\n",
    "#   - 邏輯迴歸 (Logistic Regression)\n",
    "#   - 支援向量機 (Support Vector Machines, SVM)\n",
    "#   - 主成分分析 (Principal Component Analysis, PCA)\n",
    "# - 當數據的分佈接近常態分佈時，效果很好。"
   ]
  }
 ],
 "metadata": {
  "kernelspec": {
   "display_name": "machine_learning",
   "language": "python",
   "name": "python3"
  },
  "language_info": {
   "codemirror_mode": {
    "name": "ipython",
    "version": 3
   },
   "file_extension": ".py",
   "mimetype": "text/x-python",
   "name": "python",
   "nbconvert_exporter": "python",
   "pygments_lexer": "ipython3",
   "version": "3.10.18"
  }
 },
 "nbformat": 4,
 "nbformat_minor": 4
}
