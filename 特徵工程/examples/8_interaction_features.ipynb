{
 "cells": [
  {
   "cell_type": "code",
   "execution_count": null,
   "metadata": {},
   "outputs": [],
   "source": [
    "import pandas as pd\n",
    "from sklearn.preprocessing import PolynomialFeatures\n",
    "\n",
    "# 建立一個範例 DataFrame\n",
    "data = {'x1': [1, 2, 3],\n",
    "        'x2': [4, 5, 6],\n",
    "        'x3': [7, 8, 9]}\n",
    "df = pd.DataFrame(data)\n",
    "\n",
    "print(\"原始數據:\")\n",
    "print(df)\n",
    "print(\"\\n\")\n",
    "\n",
    "# --- 使用 PolynomialFeatures 建立互動特徵 ---"",
    "# 建立 PolynomialFeatures 物件\n",
    "# interaction_only=True 表示我們只想要互動特徵，不要二次項 (例如 x1^2)\n",
    "# include_bias=False 表示我們不想要包含偏差項 (常數 1)\n",
    "poly = PolynomialFeatures(interaction_only=True, include_bias=False)\n",
    "\n",
    "# 對數據進行擬合與轉換\n",
    "interaction_features = poly.fit_transform(df)\n",
    "\n",
    "# 將轉換後的特徵轉換為 DataFrame\n",
    "interaction_df = pd.DataFrame(interaction_features, columns=poly.get_feature_names_out(df.columns))\n",
    "\n",
    "print(\"只建立互動特徵後的數據:\")\n",
    "print(interaction_df)\n",
    "print(\"\\n\")\n",
    "\n",
    "# --- 互動特徵的說明 ---"",
    "# 互動特徵是兩個或多個特徵的乘積。\n",
    "# 它可以幫助模型捕捉特徵之間的協同效應。\n",
    "# 例如，房價可能不僅取決於房間數量和房屋大小，\n",
    "# 還取決於這兩者的互動 (例如，大房屋的每個房間可能更有價值)。\n",
    "\n",
    "# 在這個範例中，我們有三個原始特徵 x1, x2, x3。\n",
    "# 互動特徵包括：\n",
    "# - x1, x2, x3 (原始特徵)\n",
    "# - x1*x2, x1*x3, x2*x3 (兩個特徵的互動)\n",
    "\n",
    "# 適用時機：\n",
    "# - 當你根據領域知識，認為某些特徵的組合具有特殊的意義時。\n",
    "# - 常用於線性模型，以增加模型的表達能力。\n",
    "\n",
    "# 與多項式特徵的比較：\n",
    "# - PolynomialFeatures(degree=2) 會產生 x1, x2, x1^2, x1*x2, x2^2\n",
    "# - PolynomialFeatures(interaction_only=True) 會產生 x1, x2, x1*x2\n",
    "# - 互動特徵是多項式特徵的一個子集。"
   ]
  }
 ],
 "metadata": {
  "kernelspec": {
   "display_name": "Python 3",
   "language": "python",
   "name": "python3"
  },
  "language_info": {
   "codemirror_mode": {
    "name": "ipython",
    "version": 3
   },
   "file_extension": ".py",
   "mimetype": "text/x-python",
   "name": "python",
   "nbconvert_exporter": "python",
   "pygments_lexer": "ipython3",
   "version": "3.10.9"
  }
 },
 "nbformat": 4,
 "nbformat_minor": 4
}
