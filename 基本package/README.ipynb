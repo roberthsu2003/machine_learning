{
  "cells": [
    {
      "cell_type": "markdown",
      "metadata": {
        "id": "view-in-github",
        "colab_type": "text"
      },
      "source": [
        "<a href=\"https://colab.research.google.com/github/roberthsu2003/machine_learning/blob/main/%E5%9F%BA%E6%9C%ACpackage/README.ipynb\" target=\"_parent\"><img src=\"https://colab.research.google.com/assets/colab-badge.svg\" alt=\"Open In Colab\"/></a>"
      ]
    },
    {
      "cell_type": "markdown",
      "metadata": {
        "id": "LleSBdnvEnc5"
      },
      "source": [
        "**需要安裝的套件**\n",
        "\n",
        "`$ pip install jupyter numpy scipy matplotlib ipython scikit-learn pandas  mglearn`\n",
        "\n",
        "mglean可以下載資料夾後,放至工作資料夾內\n"
      ]
    },
    {
      "cell_type": "code",
      "execution_count": null,
      "metadata": {
        "id": "tG5JO6k7Enc7"
      },
      "outputs": [],
      "source": [
        "! pip install jupyter numpy scipy matplotlib ipython scikit-learn pandas  mglearn"
      ]
    },
    {
      "cell_type": "code",
      "execution_count": null,
      "metadata": {
        "id": "dme9mJm3Enc7"
      },
      "outputs": [],
      "source": [
        "#numpy\n",
        "import numpy as np\n",
        "x = np.array([[1, 2, 3],[4, 5, 6]])\n",
        "print(\"x:\\n{}\".format(x))"
      ]
    },
    {
      "cell_type": "code",
      "execution_count": null,
      "metadata": {
        "id": "oimVNlRDEnc8"
      },
      "outputs": [],
      "source": [
        "#scipy\n",
        "from scipy import sparse\n",
        "\n",
        "eye = np.eye(4)\n",
        "print(\"numpy array:\\n{}\".format(eye))\n",
        "\n",
        "#轉換為稀疏矩陣\n",
        "sparse_matrix = sparse.csr_matrix(eye)\n",
        "print(\"\\nScipy sparse CSR matrix:\\n{}\".format(sparse_matrix))"
      ]
    },
    {
      "cell_type": "code",
      "execution_count": null,
      "metadata": {
        "id": "GC_KMTiKEnc9"
      },
      "outputs": [],
      "source": [
        "#使用COO格式建立(coordinate format)\n",
        "data = np.ones(4)\n",
        "row_indices = np.arange(4)\n",
        "col_indices = np.arange(4)\n",
        "eye_coo = sparse.coo_matrix((data,(row_indices, col_indices)))\n",
        "print(\"COO representation:\\n{}\".format(eye_coo))"
      ]
    },
    {
      "cell_type": "code",
      "execution_count": null,
      "metadata": {
        "id": "8-uRp5QVEnc9"
      },
      "outputs": [],
      "source": [
        "import matplotlib.pyplot as plt\n",
        "x = np.linspace(-10, 10, 100)\n",
        "y = np.sin(x)\n",
        "plt.plot(x, y, marker=\"x\")"
      ]
    },
    {
      "cell_type": "code",
      "execution_count": null,
      "metadata": {
        "id": "ym-2Dkb0Enc9"
      },
      "outputs": [],
      "source": [
        "## pandas\n",
        "import pandas as pd\n",
        "\n",
        "data ={\n",
        "    'Name':[\"John\", \"Anna\", \"Peter\", \"Linda\"],\n",
        "    \"Location\":[\"New York\", \"Paris\", \"Berlin\", \"London\"],\n",
        "    \"Age\":[24, 13, 53, 33]\n",
        "}\n",
        "\n",
        "data_pandas = pd.DataFrame(data)\n",
        "display(data_pandas)\n",
        "\n",
        "#選擇大於30歲的\n",
        "display(data_pandas[data_pandas.Age > 30])"
      ]
    },
    {
      "cell_type": "markdown",
      "metadata": {
        "id": "Gk2shxOjEnc9"
      },
      "source": [
        "## 第一個應用程式:分類Iris(鳶尾屬的花)的種類\n",
        "### 了解下面名詞\n",
        "- supervised learning\n",
        "- classification\n",
        "- output are called classes\n",
        "- label"
      ]
    },
    {
      "cell_type": "markdown",
      "metadata": {
        "id": "lKynzMPAEnc-"
      },
      "source": [
        "### 1. 取得資料\n",
        "- scikit-learn內建的資料"
      ]
    },
    {
      "cell_type": "code",
      "execution_count": null,
      "metadata": {
        "id": "5THmpvMaEnc-"
      },
      "outputs": [],
      "source": [
        "from sklearn.datasets import load_iris\n",
        "import pandas as pd\n",
        "iris_dataset = load_iris()\n",
        "iris_dataset"
      ]
    },
    {
      "cell_type": "code",
      "execution_count": null,
      "metadata": {
        "id": "sOjehSnHEnc-"
      },
      "outputs": [],
      "source": [
        "print(\"keys of iris_dataset:\\n{}\".format(iris_dataset.keys()))"
      ]
    },
    {
      "cell_type": "code",
      "execution_count": null,
      "metadata": {
        "id": "ghguL6lREnc-"
      },
      "outputs": [],
      "source": [
        "#DESCR是描述資料\n",
        "print(iris_dataset['DESCR'][:193] + '\\n...')"
      ]
    },
    {
      "cell_type": "code",
      "execution_count": null,
      "metadata": {
        "id": "t1JcvagCEnc-"
      },
      "outputs": [],
      "source": [
        "#target_names是想要預測的iris的種類(3個)\n",
        "print(\"target names: {}\".format(iris_dataset['target_names']))"
      ]
    },
    {
      "cell_type": "code",
      "execution_count": null,
      "metadata": {
        "id": "rGvE9xCuEnc-"
      },
      "outputs": [],
      "source": [
        "#feature_names,特徵名稱\n",
        "print(\"feature names:\\n{}\".format(iris_dataset['feature_names']))"
      ]
    },
    {
      "cell_type": "code",
      "execution_count": null,
      "metadata": {
        "id": "huC0w_C1Enc-"
      },
      "outputs": [],
      "source": [
        "#data是儲存特徵的資料\n",
        "#numpy的ndarray\n",
        "print(\"type of data:{}\".format(type(iris_dataset['data'])))"
      ]
    },
    {
      "cell_type": "code",
      "execution_count": null,
      "metadata": {
        "id": "0yGsoe3NEnc-"
      },
      "outputs": [],
      "source": [
        "#檢查ndarray的外觀\n",
        "#150筆資料,每筆有4個特徵資料\n",
        "#這些現有的資料被稱為samples,4個特徵被稱為features\n",
        "print(\"Shape of data:{}\".format(iris_dataset['data'].shape))"
      ]
    },
    {
      "cell_type": "code",
      "execution_count": null,
      "metadata": {
        "id": "HgwOx6JUEnc_"
      },
      "outputs": [],
      "source": [
        "#顯示前5筆資料\n",
        "print(\"First five columns of data:\\n{}\".format(iris_dataset['data'][:5]))"
      ]
    },
    {
      "cell_type": "code",
      "execution_count": null,
      "metadata": {
        "id": "6SVTvmIFEnc_"
      },
      "outputs": [],
      "source": [
        "#target記錄是那一種類的iris\n",
        "print(\"type of target:{}\".format(type(iris_dataset['target'])))"
      ]
    },
    {
      "cell_type": "code",
      "execution_count": null,
      "metadata": {
        "id": "ocFH7UztEnc_"
      },
      "outputs": [],
      "source": [
        "#target記錄150筆的種類,是一維資料\n",
        "print(\"Shape of target: {}\".format(iris_dataset['target'].shape))"
      ]
    },
    {
      "cell_type": "code",
      "execution_count": null,
      "metadata": {
        "id": "7J8BuAgnEnc_"
      },
      "outputs": [],
      "source": [
        "#target的內容\n",
        "print('Target:\\n{}'.format(iris_dataset['target']))"
      ]
    },
    {
      "cell_type": "markdown",
      "metadata": {
        "id": "9xlWhLjREnc_"
      },
      "source": [
        "### 2.訓練和測試的資料(training Data and testing Data)\n",
        "- 訓練的資料必需分為2部份,一為訓練用資料(training data,training set)\n",
        "- 評估準確度的資料(test data)\n",
        "- 無法使用訓練資料評估的原因是,訓練的資料會被模型記憶,使用訓練的資料將會非常準確,所以訓練的資料不適用來評估準確性\n",
        "- scikit-learn提供train_test_split(),預設為使用所有資料的75%當作training set,25%資料當作testing set\n",
        "- scikit-learn通常使用大寫的X表示資料,小寫的y表示label\n",
        "- f(x)=y,代表的意思是將資料放入至模型內,會得到輸出的label"
      ]
    },
    {
      "cell_type": "code",
      "execution_count": null,
      "metadata": {
        "id": "n-DEibftEnc_"
      },
      "outputs": [],
      "source": [
        "from sklearn.model_selection import train_test_split\n",
        "#大寫的資料X代表要輸入的資料\n",
        "#y小寫代表label的資料\n",
        "#75%的資料是shuffle(打亂順序)後的資料\n",
        "X_train, X_test, y_train, y_test = train_test_split(iris_dataset['data'], iris_dataset['target'],random_state=0)\n",
        "print('X_train shape:{}'.format(X_train.shape))\n",
        "print('y_train shape:{}'.format(y_train.shape))\n",
        "print('X_test shape:{}'.format(X_test.shape))\n",
        "print('y_test shape:{}'.format(y_test.shape))"
      ]
    },
    {
      "cell_type": "markdown",
      "metadata": {
        "id": "lOzFQM04Enc_"
      },
      "source": [
        "### 3. 觀察資料\n",
        "- 機器學習的好習慣是審視訓練的資料\n",
        "- 審視資料可以發現一些異常的資料"
      ]
    },
    {
      "cell_type": "code",
      "execution_count": null,
      "metadata": {
        "id": "tcSe4-KBEnc_"
      },
      "outputs": [],
      "source": [
        "#create dataframe from data in X_train\n",
        "#label the columns using the strings in iris_dataset.feature_names\n",
        "iris_dataframe = pd.DataFrame(X_train,columns=iris_dataset.feature_names)\n",
        "iris_dataframe"
      ]
    },
    {
      "cell_type": "code",
      "execution_count": null,
      "metadata": {
        "id": "SLQ3pcgAEnc_"
      },
      "outputs": [],
      "source": [
        "from pandas.plotting import scatter_matrix\n",
        "import mglearn\n",
        "#create a scatter matrix from the dataframe, color by y_train\n",
        "\n",
        "grr = scatter_matrix(iris_dataframe, c=y_train, figsize=(15, 15), marker='o', hist_kwds={'bins':20}, s=60, alpha=.8, cmap=mglearn.cm3)"
      ]
    },
    {
      "cell_type": "markdown",
      "metadata": {
        "id": "tEvW5NIkEnc_"
      },
      "source": [
        "### 4. 建立第一個模型:(近鄰演算法 K-Nearest Neighbors[KNN])\n"
      ]
    },
    {
      "cell_type": "code",
      "execution_count": null,
      "metadata": {
        "id": "cHfc56TcEnc_"
      },
      "outputs": [],
      "source": [
        "from sklearn.neighbors import KNeighborsClassifier\n",
        "knn = KNeighborsClassifier(n_neighbors=1)\n",
        "knn.fit(X_train,y_train)"
      ]
    },
    {
      "cell_type": "markdown",
      "metadata": {
        "id": "-wHGzy1OEnc_"
      },
      "source": [
        "### 5. 建立預測"
      ]
    },
    {
      "cell_type": "code",
      "execution_count": null,
      "metadata": {
        "id": "OUZsZMqDEnc_"
      },
      "outputs": [],
      "source": [
        "X_new = np.array([[5, 2.9, 1, 0.2]])\n",
        "print(\"X_new.shape: {}\".format(X_new.shape))"
      ]
    },
    {
      "cell_type": "code",
      "execution_count": null,
      "metadata": {
        "id": "zXCEJv8OEnc_"
      },
      "outputs": [],
      "source": [
        "prediction = knn.predict(X_new)\n",
        "print(\"Prediction: {}\".format(prediction))\n",
        "print(\"Predicted target name: {}\".format(iris_dataset['target_names'][prediction]))"
      ]
    },
    {
      "cell_type": "markdown",
      "metadata": {
        "id": "YXYXbaX7EndA"
      },
      "source": [
        "### 6. 評估模型"
      ]
    },
    {
      "cell_type": "code",
      "execution_count": null,
      "metadata": {
        "id": "4gPa_gTvEndA"
      },
      "outputs": [],
      "source": [
        "y_pred = knn.predict(X_test)\n",
        "print(\"Test set predictions:\\n {}\".format(y_pred))"
      ]
    },
    {
      "cell_type": "code",
      "execution_count": null,
      "metadata": {
        "id": "D8-amgT1EndA"
      },
      "outputs": [],
      "source": [
        "#使用ndarray評估\n",
        "print(\"Test set scores:{:.2f}\".format(np.mean(y_pred == y_test)))"
      ]
    },
    {
      "cell_type": "code",
      "execution_count": null,
      "metadata": {
        "id": "J9P7mk1VEndA"
      },
      "outputs": [],
      "source": [
        "#使用knn評估\n",
        "print(\"Test set score:{:.2f}\".format(knn.score(X_test, y_test)))"
      ]
    }
  ],
  "metadata": {
    "kernelspec": {
      "display_name": "base",
      "language": "python",
      "name": "python3"
    },
    "language_info": {
      "codemirror_mode": {
        "name": "ipython",
        "version": 3
      },
      "file_extension": ".py",
      "mimetype": "text/x-python",
      "name": "python",
      "nbconvert_exporter": "python",
      "pygments_lexer": "ipython3",
      "version": "3.12.2"
    },
    "colab": {
      "provenance": [],
      "include_colab_link": true
    }
  },
  "nbformat": 4,
  "nbformat_minor": 0
}