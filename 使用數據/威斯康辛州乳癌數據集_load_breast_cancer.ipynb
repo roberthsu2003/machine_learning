{
  "cells": [
    {
      "cell_type": "markdown",
      "id": "a8f2f0b2",
      "metadata": {
        "colab_type": "text",
        "id": "view-in-github"
      },
      "source": [
        "<a href=\"https://colab.research.google.com/github/roberthsu2003/machine_learning/blob/main/%E4%BD%BF%E7%94%A8%E6%95%B8%E6%93%9A/%E5%A8%81%E6%96%AF%E5%BA%B7%E8%BE%9B%E5%B7%9E%E4%B9%B3%E7%99%8C%E6%95%B8%E6%93%9A%E9%9B%86_load_breast_cancer.ipynb\" target=\"_parent\"><img src=\"https://colab.research.google.com/assets/colab-badge.svg\" alt=\"Open In Colab\"/></a>"
      ]
    },
    {
      "cell_type": "code",
      "execution_count": null,
      "id": "79883a27",
      "metadata": {
        "id": "79883a27"
      },
      "outputs": [],
      "source": [
        "%%capture\n",
        "%pip install wget\n",
        "%pip install mglearn"
      ]
    },
    {
      "cell_type": "code",
      "execution_count": null,
      "id": "d380dfce",
      "metadata": {
        "id": "d380dfce"
      },
      "outputs": [],
      "source": [
        "import wget\n",
        "wget.download(\"https://github.com/roberthsu2003/machine_learning/raw/refs/heads/main/source_data/ChineseFont.ttf\")\n"
      ]
    },
    {
      "cell_type": "code",
      "execution_count": null,
      "id": "979b9d47",
      "metadata": {
        "id": "979b9d47"
      },
      "outputs": [],
      "source": [
        "import matplotlib as mpl\n",
        "from matplotlib.font_manager import fontManager\n",
        "\n",
        "fontManager.addfont(\"ChineseFont.ttf\")\n",
        "mpl.rc('font', family=\"ChineseFont\")"
      ]
    },
    {
      "cell_type": "markdown",
      "id": "08ca619a",
      "metadata": {
        "id": "08ca619a"
      },
      "source": [
        "## 範例：威斯康辛州乳癌數據集 (Scikit-learn)\n",
        "\n",
        "`load_breast_cancer` 是 Scikit-learn 提供的一個經典的真實世界二元分類數據集。它包含了從乳腺腫塊細針穿刺 (FNA) 數位化影像中計算出的特徵，目標是預測腫瘤是惡性 (malignant) 還是良性 (benign)。\n",
        "\n",
        "- **用途**：常用於測試和比較各種分類演算法的性能。\n",
        "- **特點**：\n",
        "    - 包含 30 個數值型特徵。\n",
        "    - 兩個類別：惡性 (malignant) 和良性 (benign)。\n",
        "    - 數據相對乾淨，不需要太多預處理。"
      ]
    },
    {
      "cell_type": "markdown",
      "id": "69aa7950",
      "metadata": {
        "id": "69aa7950"
      },
      "source": [
        "### Wisconsin Breast Cancer dataset(威斯康辛州乳癌資料集)"
      ]
    },
    {
      "cell_type": "code",
      "execution_count": null,
      "id": "e586f2bc",
      "metadata": {
        "id": "e586f2bc",
        "outputId": "825e0371-9f34-47f1-a446-5182793e2efd"
      },
      "outputs": [
        {
          "name": "stdout",
          "output_type": "stream",
          "text": [
            "cancer.keys():\n",
            "dict_keys(['data', 'target', 'frame', 'target_names', 'DESCR', 'feature_names', 'filename', 'data_module'])\n",
            "乳癌資料集資料形狀: (569, 30)\n",
            "每個類別的樣本數:\n",
            "{np.str_('malignant'): np.int64(212), np.str_('benign'): np.int64(357)}\n",
            "特徵名稱:\n",
            "['mean radius' 'mean texture' 'mean perimeter' 'mean area'\n",
            " 'mean smoothness' 'mean compactness' 'mean concavity'\n",
            " 'mean concave points' 'mean symmetry' 'mean fractal dimension'\n",
            " 'radius error' 'texture error' 'perimeter error' 'area error'\n",
            " 'smoothness error' 'compactness error' 'concavity error'\n",
            " 'concave points error' 'symmetry error' 'fractal dimension error'\n",
            " 'worst radius' 'worst texture' 'worst perimeter' 'worst area'\n",
            " 'worst smoothness' 'worst compactness' 'worst concavity'\n",
            " 'worst concave points' 'worst symmetry' 'worst fractal dimension']\n"
          ]
        },
        {
          "data": {
            "text/html": [
              "<div>\n",
              "<style scoped>\n",
              "    .dataframe tbody tr th:only-of-type {\n",
              "        vertical-align: middle;\n",
              "    }\n",
              "\n",
              "    .dataframe tbody tr th {\n",
              "        vertical-align: top;\n",
              "    }\n",
              "\n",
              "    .dataframe thead th {\n",
              "        text-align: right;\n",
              "    }\n",
              "</style>\n",
              "<table border=\"1\" class=\"dataframe\">\n",
              "  <thead>\n",
              "    <tr style=\"text-align: right;\">\n",
              "      <th></th>\n",
              "      <th>平均半徑</th>\n",
              "      <th>平均紋理</th>\n",
              "      <th>平均周長</th>\n",
              "      <th>平均面積</th>\n",
              "      <th>平均平滑度</th>\n",
              "      <th>平均緊密度</th>\n",
              "      <th>平均凹度</th>\n",
              "      <th>平均凹點數</th>\n",
              "      <th>平均對稱性</th>\n",
              "      <th>平均分形維度</th>\n",
              "      <th>...</th>\n",
              "      <th>最差紋理</th>\n",
              "      <th>最差周長</th>\n",
              "      <th>最差面積</th>\n",
              "      <th>最差平滑度</th>\n",
              "      <th>最差緊密度</th>\n",
              "      <th>最差凹度</th>\n",
              "      <th>最差凹點數</th>\n",
              "      <th>最差對稱性</th>\n",
              "      <th>最差分形維度</th>\n",
              "      <th>診斷結果</th>\n",
              "    </tr>\n",
              "  </thead>\n",
              "  <tbody>\n",
              "    <tr>\n",
              "      <th>0</th>\n",
              "      <td>17.99</td>\n",
              "      <td>10.38</td>\n",
              "      <td>122.80</td>\n",
              "      <td>1001.0</td>\n",
              "      <td>0.11840</td>\n",
              "      <td>0.27760</td>\n",
              "      <td>0.3001</td>\n",
              "      <td>0.14710</td>\n",
              "      <td>0.2419</td>\n",
              "      <td>0.07871</td>\n",
              "      <td>...</td>\n",
              "      <td>17.33</td>\n",
              "      <td>184.60</td>\n",
              "      <td>2019.0</td>\n",
              "      <td>0.1622</td>\n",
              "      <td>0.6656</td>\n",
              "      <td>0.7119</td>\n",
              "      <td>0.2654</td>\n",
              "      <td>0.4601</td>\n",
              "      <td>0.11890</td>\n",
              "      <td>malignant</td>\n",
              "    </tr>\n",
              "    <tr>\n",
              "      <th>1</th>\n",
              "      <td>20.57</td>\n",
              "      <td>17.77</td>\n",
              "      <td>132.90</td>\n",
              "      <td>1326.0</td>\n",
              "      <td>0.08474</td>\n",
              "      <td>0.07864</td>\n",
              "      <td>0.0869</td>\n",
              "      <td>0.07017</td>\n",
              "      <td>0.1812</td>\n",
              "      <td>0.05667</td>\n",
              "      <td>...</td>\n",
              "      <td>23.41</td>\n",
              "      <td>158.80</td>\n",
              "      <td>1956.0</td>\n",
              "      <td>0.1238</td>\n",
              "      <td>0.1866</td>\n",
              "      <td>0.2416</td>\n",
              "      <td>0.1860</td>\n",
              "      <td>0.2750</td>\n",
              "      <td>0.08902</td>\n",
              "      <td>malignant</td>\n",
              "    </tr>\n",
              "    <tr>\n",
              "      <th>2</th>\n",
              "      <td>19.69</td>\n",
              "      <td>21.25</td>\n",
              "      <td>130.00</td>\n",
              "      <td>1203.0</td>\n",
              "      <td>0.10960</td>\n",
              "      <td>0.15990</td>\n",
              "      <td>0.1974</td>\n",
              "      <td>0.12790</td>\n",
              "      <td>0.2069</td>\n",
              "      <td>0.05999</td>\n",
              "      <td>...</td>\n",
              "      <td>25.53</td>\n",
              "      <td>152.50</td>\n",
              "      <td>1709.0</td>\n",
              "      <td>0.1444</td>\n",
              "      <td>0.4245</td>\n",
              "      <td>0.4504</td>\n",
              "      <td>0.2430</td>\n",
              "      <td>0.3613</td>\n",
              "      <td>0.08758</td>\n",
              "      <td>malignant</td>\n",
              "    </tr>\n",
              "    <tr>\n",
              "      <th>3</th>\n",
              "      <td>11.42</td>\n",
              "      <td>20.38</td>\n",
              "      <td>77.58</td>\n",
              "      <td>386.1</td>\n",
              "      <td>0.14250</td>\n",
              "      <td>0.28390</td>\n",
              "      <td>0.2414</td>\n",
              "      <td>0.10520</td>\n",
              "      <td>0.2597</td>\n",
              "      <td>0.09744</td>\n",
              "      <td>...</td>\n",
              "      <td>26.50</td>\n",
              "      <td>98.87</td>\n",
              "      <td>567.7</td>\n",
              "      <td>0.2098</td>\n",
              "      <td>0.8663</td>\n",
              "      <td>0.6869</td>\n",
              "      <td>0.2575</td>\n",
              "      <td>0.6638</td>\n",
              "      <td>0.17300</td>\n",
              "      <td>malignant</td>\n",
              "    </tr>\n",
              "    <tr>\n",
              "      <th>4</th>\n",
              "      <td>20.29</td>\n",
              "      <td>14.34</td>\n",
              "      <td>135.10</td>\n",
              "      <td>1297.0</td>\n",
              "      <td>0.10030</td>\n",
              "      <td>0.13280</td>\n",
              "      <td>0.1980</td>\n",
              "      <td>0.10430</td>\n",
              "      <td>0.1809</td>\n",
              "      <td>0.05883</td>\n",
              "      <td>...</td>\n",
              "      <td>16.67</td>\n",
              "      <td>152.20</td>\n",
              "      <td>1575.0</td>\n",
              "      <td>0.1374</td>\n",
              "      <td>0.2050</td>\n",
              "      <td>0.4000</td>\n",
              "      <td>0.1625</td>\n",
              "      <td>0.2364</td>\n",
              "      <td>0.07678</td>\n",
              "      <td>malignant</td>\n",
              "    </tr>\n",
              "  </tbody>\n",
              "</table>\n",
              "<p>5 rows × 31 columns</p>\n",
              "</div>"
            ],
            "text/plain": [
              "    平均半徑   平均紋理    平均周長    平均面積    平均平滑度    平均緊密度    平均凹度    平均凹點數   平均對稱性  \\\n",
              "0  17.99  10.38  122.80  1001.0  0.11840  0.27760  0.3001  0.14710  0.2419   \n",
              "1  20.57  17.77  132.90  1326.0  0.08474  0.07864  0.0869  0.07017  0.1812   \n",
              "2  19.69  21.25  130.00  1203.0  0.10960  0.15990  0.1974  0.12790  0.2069   \n",
              "3  11.42  20.38   77.58   386.1  0.14250  0.28390  0.2414  0.10520  0.2597   \n",
              "4  20.29  14.34  135.10  1297.0  0.10030  0.13280  0.1980  0.10430  0.1809   \n",
              "\n",
              "    平均分形維度  ...   最差紋理    最差周長    最差面積   最差平滑度   最差緊密度    最差凹度   最差凹點數  \\\n",
              "0  0.07871  ...  17.33  184.60  2019.0  0.1622  0.6656  0.7119  0.2654   \n",
              "1  0.05667  ...  23.41  158.80  1956.0  0.1238  0.1866  0.2416  0.1860   \n",
              "2  0.05999  ...  25.53  152.50  1709.0  0.1444  0.4245  0.4504  0.2430   \n",
              "3  0.09744  ...  26.50   98.87   567.7  0.2098  0.8663  0.6869  0.2575   \n",
              "4  0.05883  ...  16.67  152.20  1575.0  0.1374  0.2050  0.4000  0.1625   \n",
              "\n",
              "    最差對稱性   最差分形維度       診斷結果  \n",
              "0  0.4601  0.11890  malignant  \n",
              "1  0.2750  0.08902  malignant  \n",
              "2  0.3613  0.08758  malignant  \n",
              "3  0.6638  0.17300  malignant  \n",
              "4  0.2364  0.07678  malignant  \n",
              "\n",
              "[5 rows x 31 columns]"
            ]
          },
          "execution_count": 4,
          "metadata": {},
          "output_type": "execute_result"
        }
      ],
      "source": [
        "import pandas as pd\n",
        "\n",
        "# 英文特徵名稱對應到繁體中文\n",
        "feature_names_zh = [\n",
        "    '平均半徑', '平均紋理', '平均周長', '平均面積', '平均平滑度', '平均緊密度', '平均凹度', '平均凹點數', '平均對稱性', '平均分形維度',\n",
        "    '半徑標準差', '紋理標準差', '周長標準差', '面積標準差', '平滑度標準差', '緊密度標準差', '凹度標準差', '凹點數標準差', '對稱性標準差', '分形維度標準差',\n",
        "    '最差半徑', '最差紋理', '最差周長', '最差面積', '最差平滑度', '最差緊密度', '最差凹度', '最差凹點數', '最差對稱性', '最差分形維度'\n",
        "]\n",
        "from sklearn.datasets import load_breast_cancer\n",
        "import numpy as np # np.bincount 需要 numpy\n",
        "\n",
        "# 載入乳癌資料集並顯示基本資訊（繁體中文）\n",
        "print(\"cancer.keys():\\n{}\".format(cancer.keys()))\n",
        "print(\"乳癌資料集資料形狀: {}\".format(cancer.data.shape))\n",
        "print(\"每個類別的樣本數:\\n{}\".format(\n",
        "    {n: v for n, v in zip(cancer.target_names, np.bincount(cancer.target))}\n",
        "))\n",
        "print(\"特徵名稱:\\n{}\".format(cancer.feature_names))\n",
        "# 建立 DataFrame\n",
        "df_cancer = pd.DataFrame(cancer.data, columns=feature_names_zh)\n",
        "df_cancer['診斷結果'] = [cancer.target_names[t] for t in cancer.target]\n",
        "df_cancer.head()"
      ]
    },
    {
      "cell_type": "code",
      "execution_count": null,
      "id": "9a840ab0",
      "metadata": {
        "id": "9a840ab0"
      },
      "outputs": [],
      "source": []
    }
  ],
  "metadata": {
    "colab": {
      "include_colab_link": true,
      "provenance": []
    },
    "kernelspec": {
      "display_name": "base",
      "language": "python",
      "name": "python3"
    },
    "language_info": {
      "codemirror_mode": {
        "name": "ipython",
        "version": 3
      },
      "file_extension": ".py",
      "mimetype": "text/x-python",
      "name": "python",
      "nbconvert_exporter": "python",
      "pygments_lexer": "ipython3",
      "version": "3.12.2"
    }
  },
  "nbformat": 4,
  "nbformat_minor": 5
}
