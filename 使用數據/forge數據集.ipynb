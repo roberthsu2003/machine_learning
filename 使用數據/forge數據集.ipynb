{
 "cells": [
  {
   "cell_type": "code",
   "execution_count": null,
   "id": "450f8dec",
   "metadata": {},
   "outputs": [],
   "source": [
    "%%capture\n",
    "%pip install wget\n",
    "%pip install mglearn"
   ]
  },
  {
   "cell_type": "code",
   "execution_count": null,
   "id": "c0643875",
   "metadata": {},
   "outputs": [],
   "source": [
    "import wget\n",
    "wget.download(\"https://github.com/roberthsu2003/machine_learning/raw/refs/heads/main/source_data/ChineseFont.ttf\")\n"
   ]
  },
  {
   "cell_type": "code",
   "execution_count": null,
   "id": "57638ab6",
   "metadata": {},
   "outputs": [],
   "source": [
    "import matplotlib as mpl\n",
    "from matplotlib.font_manager import fontManager\n",
    "\n",
    "fontManager.addfont(\"ChineseFont.ttf\")\n",
    "mpl.rc('font', family=\"ChineseFont\")"
   ]
  },
  {
   "cell_type": "markdown",
   "id": "ec2a1621",
   "metadata": {},
   "source": [
    "## 範例：Forge 數據集 (mglearn)\n",
    "\n",
    "`make_forge` 是 `mglearn` 套件中一個用於產生小型合成二元分類數據集的函式。這個數據集包含兩個特徵，通常用於視覺化分類演算法的決策邊界。\n",
    "\n",
    "- **用途**：主要用於教學和視覺化，展示分類問題的基本概念。\n",
    "- **特點**：數據點少，特徵維度低 (2D)，方便繪製散佈圖。"
   ]
  },
  {
   "cell_type": "markdown",
   "id": "c2b5ea7c",
   "metadata": {},
   "source": [
    "### forge(真偽數據集)\n",
    "\n",
    "- two-class classification(2個種類的分類)"
   ]
  },
  {
   "cell_type": "markdown",
   "id": "798a9008",
   "metadata": {},
   "source": [
    "## 使用mglearn產生的圖表"
   ]
  },
  {
   "cell_type": "code",
   "execution_count": null,
   "id": "c5611dd0",
   "metadata": {},
   "outputs": [],
   "source": [
    "import mglearn\n",
    "import matplotlib.pyplot as plt\n",
    "import matplotlib as mpl\n",
    "from matplotlib.font_manager import fontManager\n",
    "\n",
    "# 設定中文字型\n",
    "try:\n",
    "    fontManager.addfont(\"ChineseFont.ttf\")\n",
    "    mpl.rc('font', family=\"ChineseFont\")\n",
    "except Exception as e:\n",
    "    print(f\"中文字型設定失敗: {e}\")\n",
    "\n",
    "X, y = mglearn.datasets.make_forge()\n",
    "#print(X, y)\n",
    "mglearn.discrete_scatter(X[:,0],X[:,1],y)\n",
    "plt.legend([\"類別 0\", \"類別 1\"], loc=4)\n",
    "plt.xlabel(\"第一個特徵\")\n",
    "plt.ylabel(\"第二個特徵\")\n",
    "plt.title(\"Forge 數據集散佈圖 (mglearn)\")\n",
    "print(\"X.shape:{}\".format(X.shape))"
   ]
  }
 ],
 "metadata": {
  "kernelspec": {
   "display_name": "base",
   "language": "python",
   "name": "python3"
  },
  "language_info": {
   "name": "python",
   "version": "3.12.2"
  }
 },
 "nbformat": 4,
 "nbformat_minor": 5
}
