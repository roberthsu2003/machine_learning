{
 "cells": [
  {
   "cell_type": "code",
   "execution_count": null,
   "id": "450f8dec",
   "metadata": {},
   "outputs": [],
   "source": [
    "%%capture\n",
    "%pip install wget\n",
    "%pip install mglearn"
   ]
  },
  {
   "cell_type": "code",
   "execution_count": null,
   "id": "c0643875",
   "metadata": {},
   "outputs": [],
   "source": [
    "import wget\n",
    "wget.download(\"https://github.com/roberthsu2003/machine_learning/raw/refs/heads/main/source_data/ChineseFont.ttf\")\n"
   ]
  },
  {
   "cell_type": "code",
   "execution_count": null,
   "id": "57638ab6",
   "metadata": {},
   "outputs": [],
   "source": []
  }
 ],
 "metadata": {
  "kernelspec": {
   "display_name": "base",
   "language": "python",
   "name": "python3"
  },
  "language_info": {
   "name": "python",
   "version": "3.12.2"
  }
 },
 "nbformat": 4,
 "nbformat_minor": 5
}
