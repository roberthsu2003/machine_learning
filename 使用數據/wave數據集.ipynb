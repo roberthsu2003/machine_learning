{
  "cells": [
    {
      "cell_type": "markdown",
      "metadata": {
        "id": "view-in-github",
        "colab_type": "text"
      },
      "source": [
        "<a href=\"https://colab.research.google.com/github/roberthsu2003/machine_learning/blob/main/%E4%BD%BF%E7%94%A8%E6%95%B8%E6%93%9A/wave%E6%95%B8%E6%93%9A%E9%9B%86.ipynb\" target=\"_parent\"><img src=\"https://colab.research.google.com/assets/colab-badge.svg\" alt=\"Open In Colab\"/></a>"
      ]
    },
    {
      "cell_type": "code",
      "execution_count": 1,
      "id": "7c8ebe6f",
      "metadata": {
        "id": "7c8ebe6f"
      },
      "outputs": [],
      "source": [
        "%%capture\n",
        "%pip install wget\n",
        "%pip install mglearn"
      ]
    },
    {
      "cell_type": "code",
      "execution_count": 2,
      "id": "f6d14f49",
      "metadata": {
        "id": "f6d14f49",
        "outputId": "4d10af9d-6989-487a-dddc-d36dcca8a5c5",
        "colab": {
          "base_uri": "https://localhost:8080/",
          "height": 35
        }
      },
      "outputs": [
        {
          "output_type": "execute_result",
          "data": {
            "text/plain": [
              "'ChineseFont.ttf'"
            ],
            "application/vnd.google.colaboratory.intrinsic+json": {
              "type": "string"
            }
          },
          "metadata": {},
          "execution_count": 2
        }
      ],
      "source": [
        "import wget\n",
        "wget.download(\"https://github.com/roberthsu2003/machine_learning/raw/refs/heads/main/source_data/ChineseFont.ttf\")"
      ]
    },
    {
      "cell_type": "markdown",
      "id": "f33423e0",
      "metadata": {
        "id": "f33423e0"
      },
      "source": [
        "## 範例：Wave 數據集 (mglearn)\n",
        "\n",
        "`make_wave` 是 `mglearn` 套件中用於產生小型合成迴歸數據集的函式。這個數據集通常包含一個輸入特徵和一個目標變數，用於視覺化迴歸演算法的擬合情況。\n",
        "\n",
        "- **用途**：主要用於教學和視覺化，展示迴歸問題的基本概念。\n",
        "- **特點**：數據點少，通常只有一個輸入特徵，方便繪製 2D 圖形。"
      ]
    },
    {
      "cell_type": "markdown",
      "id": "fc09c88e",
      "metadata": {
        "id": "fc09c88e"
      },
      "source": [
        "## Wave\n",
        "\n",
        "- regression 迴歸的演算法\n",
        "- X:1個feature\n",
        "- y:1個label"
      ]
    },
    {
      "cell_type": "code",
      "execution_count": 3,
      "id": "b05d00a6",
      "metadata": {
        "id": "b05d00a6",
        "outputId": "0500a6b8-5a64-489e-d61c-81b310ea5dfd",
        "colab": {
          "base_uri": "https://localhost:8080/",
          "height": 472
        }
      },
      "outputs": [
        {
          "output_type": "display_data",
          "data": {
            "text/plain": [
              "<Figure size 640x480 with 1 Axes>"
            ],
            "image/png": "[encoded data removed]"
          },
          "metadata": {}
        }
      ],
      "source": [
        "import mglearn # mglearn 已經在前面 import 過，但為了儲存格獨立性可保留\n",
        "import matplotlib.pyplot as plt\n",
        "import matplotlib as mpl\n",
        "from matplotlib.font_manager import fontManager\n",
        "\n",
        "# 設定中文字型\n",
        "try:\n",
        "    fontManager.addfont(\"ChineseFont.ttf\")\n",
        "    mpl.rc('font', family=\"ChineseFont\")\n",
        "except Exception as e:\n",
        "    print(f\"中文字型設定失敗: {e}\")\n",
        "\n",
        "X, y = mglearn.datasets.make_wave(n_samples=40)\n",
        "plt.plot(X, y, 'o')\n",
        "plt.ylim(-3, 3)\n",
        "plt.xlabel(\"特徵\")\n",
        "plt.ylabel(\"目標\")\n",
        "plt.title(\"Wave 數據集\")\n",
        "plt.show()"
      ]
    }
  ],
  "metadata": {
    "kernelspec": {
      "display_name": "base",
      "language": "python",
      "name": "python3"
    },
    "language_info": {
      "codemirror_mode": {
        "name": "ipython",
        "version": 3
      },
      "file_extension": ".py",
      "mimetype": "text/x-python",
      "name": "python",
      "nbconvert_exporter": "python",
      "pygments_lexer": "ipython3",
      "version": "3.12.2"
    },
    "colab": {
      "provenance": [],
      "include_colab_link": true
    }
  },
  "nbformat": 4,
  "nbformat_minor": 5
}