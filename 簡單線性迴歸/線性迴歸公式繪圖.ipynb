{
  "cells": [
    {
      "cell_type": "markdown",
      "metadata": {
        "colab_type": "text",
        "id": "view-in-github"
      },
      "source": [
        "<a href=\"https://colab.research.google.com/github/roberthsu2003/machine_learning/blob/main/%E7%B0%A1%E5%96%AE%E7%B7%9A%E6%80%A7%E8%BF%B4%E6%AD%B8/%E7%B7%9A%E6%80%A7%E8%BF%B4%E6%AD%B8%E5%85%AC%E5%BC%8F%E7%B9%AA%E5%9C%96.ipynb\" target=\"_parent\"><img src=\"https://colab.research.google.com/assets/colab-badge.svg\" alt=\"Open In Colab\"/></a>"
      ]
    },
    {
      "cell_type": "code",
      "execution_count": 2,
      "metadata": {
        "id": "9POkDvMgq03Z"
      },
      "outputs": [
        {
          "name": "stderr",
          "output_type": "stream",
          "text": [
            "UsageError: Line magic function `%%capture` not found.\n"
          ]
        }
      ],
      "source": [
        "# 步驟1: 安裝必要的套件\n",
        "# 使用 %%capture 隱藏安裝過程的輸出訊息，讓介面更乾淨\n",
        "# wget 是用來下載檔案的套件，我們需要它來下載中文字體檔案\n",
        "%%capture\n",
        "%pip install wget"
      ]
    },
    {
      "cell_type": "code",
      "execution_count": 3,
      "metadata": {
        "id": "L5VY31ohq03b"
      },
      "outputs": [
        {
          "name": "stdout",
          "output_type": "stream",
          "text": [
            "字體檔案已存在: ChineseFont.ttf\n"
          ]
        }
      ],
      "source": [
        "\n",
        "# 步驟2: 下載中文字體檔案\n",
        "# 這個步驟確保我們有中文字體來正確顯示中文標籤和標題\n",
        "\n",
        "import wget  # 用於下載檔案的套件\n",
        "import os    # 用於檔案系統操作的套件\n",
        "\n",
        "# 檢查字體檔案是否已存在 - 避免重複下載\n",
        "font_path = \"ChineseFont.ttf\"  # 定義字體檔案路徑\n",
        "\n",
        "if not os.path.exists(font_path):  # 如果檔案不存在\n",
        "    print(\"字體檔案不存在，正在下載...\")\n",
        "    try:\n",
        "        # 從 GitHub 下載中文字體檔案\n",
        "        wget.download(\"https://github.com/roberthsu2003/machine_learning/raw/refs/heads/main/source_data/ChineseFont.ttf\")\n",
        "        print(f\"\\n字體檔案下載完成: {font_path}\")\n",
        "    except Exception as e:  # 處理下載錯誤\n",
        "        print(f\"下載字體檔案時發生錯誤: {e}\")\n",
        "        print(\"將使用系統預設字體\")\n",
        "else:\n",
        "    print(f\"字體檔案已存在: {font_path}\")  # 檔案已存在，無需下載"
      ]
    },
    {
      "cell_type": "markdown",
      "metadata": {
        "id": "-0RtyIfoq03b"
      },
      "source": [
        "# 📊 簡單線性迴歸視覺化教學\n",
        "\n",
        "## 🎯 **學習目標**\n",
        "使用 NumPy 和 Matplotlib 來繪製簡單線性迴歸的程式碼。這個範例會包含：\n",
        "\n",
        "### **主要步驟**\n",
        "1. **📦 套件導入與環境設定** - 導入必要的套件並設定中文字體\n",
        "2. **📈 數據生成** - 產生模擬的線性迴歸數據\n",
        "3. **🎨 視覺化函數** - 建立互動式繪圖函數\n",
        "4. **🎛️ 互動控制** - 創建滑桿來調整參數\n",
        "5. **📊 圖表展示** - 顯示最終的互動式圖表\n",
        "\n",
        "### **核心概念**\n",
        "- **線性迴歸公式**: `y = wX + b`\n",
        "  - `w`: 斜率 (slope/weight) - 控制線的傾斜程度\n",
        "  - `b`: 截距 (bias/intercept) - 控制線與Y軸的交點\n",
        "  - `X`: 特徵變數 (feature)\n",
        "  - `y`: 目標變數 (target/label)\n",
        "\n",
        "### **教學重點**\n",
        "- 理解線性迴歸的基本概念\n",
        "- 學習如何視覺化數據和模型\n",
        "- 體驗參數調整對模型的影響"
      ]
    },
    {
      "cell_type": "code",
      "execution_count": 4,
      "metadata": {
        "id": "0winh4-Tq03c"
      },
      "outputs": [
        {
          "name": "stdout",
          "output_type": "stream",
          "text": [
            "中文字體設定成功\n"
          ]
        },
        {
          "data": {
            "application/vnd.jupyter.widget-view+json": {
              "model_id": "9e9f2dbed4e249a49fd41500a750c68b",
              "version_major": 2,
              "version_minor": 0
            },
            "text/plain": [
              "interactive(children=(Dropdown(description='y', options=(np.float64(1.4967141530112327), np.float64(1.06375590…"
            ]
          },
          "execution_count": 4,
          "metadata": {},
          "output_type": "execute_result"
        }
      ],
      "source": [
        "# 步驟3: 套件導入與環境設定\n",
        "# 導入所有必要的套件來進行數據處理和視覺化\n",
        "\n",
        "import numpy as np                    # 數值計算套件，用於生成和處理數據\n",
        "import matplotlib.pyplot as plt       # 繪圖套件，用於創建圖表\n",
        "import matplotlib as mpl             # matplotlib 的主要模組\n",
        "from matplotlib.font_manager import fontManager  # 字體管理器\n",
        "from ipywidgets import interactive    # 互動式控制項套件\n",
        "import ipywidgets as widgets          # 小工具套件，用於創建滑桿等控制項\n",
        "\n",
        "# 步驟4: 設定中文字體 - 確保中文標籤能正確顯示\n",
        "try:\n",
        "    if os.path.exists(\"ChineseFont.ttf\"):\n",
        "        fontManager.addfont(\"ChineseFont.ttf\")  # 添加中文字體到字體管理器\n",
        "        mpl.rc('font', family=\"ChineseFont\")   # 設定預設字體為中文字體\n",
        "        print(\"中文字體設定成功\")\n",
        "    else:\n",
        "        print(\"中文字體檔案不存在，使用系統預設字體\")\n",
        "        # 可以設定其他中文字體作為備選\n",
        "        mpl.rc('font', family=['DejaVu Sans', 'SimHei', 'Microsoft YaHei'])\n",
        "except Exception as e:\n",
        "    print(f\"字體設定失敗: {e}\")\n",
        "    print(\"使用系統預設字體\")\n",
        "    mpl.rc('font', family=['DejaVu Sans', 'SimHei', 'Microsoft YaHei'])\n",
        "\n",
        "# 步驟5: 設定隨機種子 - 確保每次執行的結果都相同，便於教學\n",
        "np.random.seed(42)  # 42 是一個常用的隨機種子值\n",
        "\n",
        "# 步驟6: 生成模擬數據\n",
        "# 使用 linspace 在 0 到 10 之間產生 100 個均勻分布的 X 值\n",
        "X = np.linspace(0, 10, 100)  # 創建 100 個從 0 到 10 的均勻分布點\n",
        "\n",
        "# 定義真實的線性迴歸參數\n",
        "w_true = 2.0  # 真實斜率 - 這是要學習的參數\n",
        "b_true = 1.0  # 真實截距 - 這是要學習的參數\n",
        "\n",
        "# 生成帶有雜訊的 y 值：y = w_true * X + b_true + 雜訊\n",
        "# np.random.normal(0, 1, 100) 產生平均值為 0，標準差為 1 的 100 個隨機數\n",
        "y = w_true * X + b_true + np.random.normal(0, 1, 100)\n",
        "\n",
        "# 步驟7: 定義互動式繪圖函數\n",
        "def plot_regression(y, w, b):\n",
        "    \"\"\"\n",
        "    繪製線性迴歸圖表的函數\n",
        "    \n",
        "    參數:\n",
        "    - y: 目標變數數據\n",
        "    - w: 斜率參數\n",
        "    - b: 截距參數\n",
        "    \"\"\"\n",
        "    \n",
        "    # 建立新的圖表，設定大小為 10x6 英寸\n",
        "    plt.figure(figsize=(10, 6))\n",
        "\n",
        "    # 繪製散佈圖 - 顯示原始數據點\n",
        "    # 註解掉是因為在互動式教學中，我們主要關注回歸線的變化\n",
        "    # plt.scatter(X, y, color='blue', alpha=0.5, label='數據點')\n",
        "\n",
        "    # 繪製回歸線 - 根據當前參數 w 和 b 繪製直線\n",
        "    plt.plot(X, w * X + b, color='red', linewidth=2, label='回歸線')\n",
        "\n",
        "    # 設定圖表標題和軸標籤\n",
        "    plt.title(f'簡單線性迴歸示例 (斜率={w:.1f}, 截距={b:.1f})', fontsize=14)\n",
        "    plt.xlabel('X (特徵變數)', fontsize=12)\n",
        "    plt.ylabel('y (目標變數)', fontsize=12)\n",
        "    \n",
        "    # 設定座標軸範圍\n",
        "    plt.xlim(0, 10)   # X 軸範圍：0 到 10\n",
        "    plt.ylim(-5, 15)  # Y 軸範圍：-5 到 15\n",
        "    \n",
        "    # 添加圖例和網格\n",
        "    plt.legend(fontsize=12)  # 顯示圖例\n",
        "    plt.grid(True, alpha=0.3)  # 顯示網格，透明度為 0.3\n",
        "    plt.show()\n",
        "\n",
        "# 步驟8: 創建互動式控制項\n",
        "# 使用 interactive 函數創建可以調整參數的互動式圖表\n",
        "interactive_plot = interactive(\n",
        "    plot_regression,  # 要互動的函數\n",
        "    y=y,              # 固定參數：數據\n",
        "    w=widgets.FloatSlider(  # 斜率滑桿\n",
        "        value=0,           # 初始值\n",
        "        min=-5,           # 最小值\n",
        "        max=5,            # 最大值\n",
        "        step=0.1,         # 步長\n",
        "        description='斜率 (w):',  # 滑桿標籤\n",
        "        continuous_update=False   # 不連續更新，提升性能\n",
        "    ),\n",
        "    b=widgets.FloatSlider(  # 截距滑桿\n",
        "        value=1,           # 初始值\n",
        "        min=-5,           # 最小值\n",
        "        max=5,            # 最大值\n",
        "        step=0.1,         # 步長\n",
        "        description='截距 (b):',  # 滑桿標籤\n",
        "        continuous_update=False   # 不連續更新，提升性能\n",
        "    )\n",
        ")\n",
        "\n",
        "# 步驟9: 顯示互動式圖表\n",
        "# 執行這行會顯示帶有滑桿控制的圖表\n",
        "interactive_plot"
      ]
    },
    {
      "cell_type": "markdown",
      "metadata": {
        "id": "jS4oJOdeq03d"
      },
      "source": [
        "\n",
        "\n",
        "## 📚 **程式碼執行結果說明**\n",
        "\n",
        "### **🎯 程式碼功能**\n",
        "這段程式碼會執行以下操作：\n",
        "\n",
        "1. **📊 數據生成**\n",
        "   - 使用 `np.linspace()` 在 0 到 10 之間產生 100 個均勻分布的點\n",
        "   - 設定真實的斜率 `w = 2.0` 和截距 `b = 1.0`\n",
        "   - 加入隨機雜訊來模擬真實世界的數據不確定性\n",
        "\n",
        "2. **🎨 視覺化元素**\n",
        "   - 使用紅色線顯示回歸線 (在互動模式中主要關注點)\n",
        "   - 藍色散佈點代表原始數據 (可選擇性顯示)\n",
        "   - 加入圖例、標題和座標軸標籤\n",
        "\n",
        "3. **🎛️ 互動功能**\n",
        "   - 提供滑桿來調整斜率 (w) 和截距 (b) 參數\n",
        "   - 即時更新圖表，觀察參數變化對回歸線的影響\n",
        "\n",
        "### **📈 預期結果**\n",
        "執行這段程式碼後，您將看到：\n",
        "\n",
        "- **🎯 互動式圖表**：包含滑桿控制的線性迴歸視覺化\n",
        "- **📊 回歸線**：紅色直線代表當前參數下的回歸模型\n",
        "- **🎛️ 控制面板**：兩個滑桿分別控制斜率和截距\n",
        "- **📝 動態標題**：顯示當前的參數值\n",
        "\n",
        "### **🔍 學習重點**\n",
        "- **參數理解**：觀察斜率如何影響線的傾斜程度\n",
        "- **截距影響**：了解截距如何改變線與Y軸的交點\n",
        "- **模型擬合**：嘗試調整參數使回歸線更好地擬合數據\n",
        "- **線性關係**：理解 `y = wX + b` 公式的視覺化表現\n",
        "\n",
        "### **💡 教學建議**\n",
        "1. **先觀察**：讓學生觀察預設參數下的回歸線\n",
        "2. **調整斜率**：移動斜率滑桿，觀察線的傾斜變化\n",
        "3. **調整截距**：移動截距滑桿，觀察線的上下移動\n",
        "4. **最佳擬合**：嘗試找到最接近真實參數 (w=2, b=1) 的設定"
      ]
    }
  ],
  "metadata": {
    "colab": {
      "include_colab_link": true,
      "provenance": []
    },
    "kernelspec": {
      "display_name": "machine_learning",
      "language": "python",
      "name": "python3"
    },
    "language_info": {
      "codemirror_mode": {
        "name": "ipython",
        "version": 3
      },
      "file_extension": ".py",
      "mimetype": "text/x-python",
      "name": "python",
      "nbconvert_exporter": "python",
      "pygments_lexer": "ipython3",
      "version": "3.10.18"
    }
  },
  "nbformat": 4,
  "nbformat_minor": 0
}
