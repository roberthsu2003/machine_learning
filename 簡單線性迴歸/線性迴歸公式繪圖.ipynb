{
 "cells": [
  {
   "cell_type": "code",
   "execution_count": null,
   "metadata": {},
   "outputs": [],
   "source": [
    "%pip install wget"
   ]
  },
  {
   "cell_type": "code",
   "execution_count": null,
   "metadata": {},
   "outputs": [],
   "source": [
    "\n",
    "import wget\n",
    "\n",
    "wget.download(\"https://github.com/roberthsu2003/machine_learning/raw/refs/heads/main/source_data/ChineseFont.ttf\")"
   ]
  },
  {
   "cell_type": "markdown",
   "metadata": {},
   "source": [
    "使用 NumPy 和 Matplotlib 來繪製簡單線性迴歸的程式碼。這個範例會包含：\n",
    "1. 產生隨機數據\n",
    "2. 繪製散佈圖\n",
    "3. 繪製回歸線\n",
    "\n",
    "**目標**\n",
    "- 了解線性迴歸公式y=wX + b"
   ]
  },
  {
   "cell_type": "code",
   "execution_count": null,
   "metadata": {},
   "outputs": [
    {
     "data": {
      "application/vnd.jupyter.widget-view+json": {
       "model_id": "8ac68e619e09445f9489a69f50c2a742",
       "version_major": 2,
       "version_minor": 0
      },
      "text/plain": [
       "interactive(children=(Dropdown(description='y', options=(np.float64(1.4967141530112327), np.float64(1.06375590…"
      ]
     },
     "execution_count": 13,
     "metadata": {},
     "output_type": "execute_result"
    }
   ],
   "source": [
    "import numpy as np\n",
    "import matplotlib.pyplot as plt\n",
    "import matplotlib as mpl\n",
    "from matplotlib.font_manager import fontManager\n",
    "from ipywidgets import interactive\n",
    "import ipywidgets as widgets\n",
    "# 設定字型\n",
    "fontManager.addfont(\"ChineseFont.ttf\")\n",
    "mpl.rc('font', family=\"ChineseFont\")\n",
    "# 設定隨機種子確保結果可重現\n",
    "np.random.seed(42)\n",
    "\n",
    "# 使用 linspace 產生 X 值\n",
    "X = np.linspace(0, 10, 100)\n",
    "# 產生有雜訊的 y 值\n",
    "w_true = 2.0  # 真實斜率\n",
    "b_true = 1.0  # 真實截距\n",
    "\n",
    "y = w_true * X + b_true + np.random.normal(0, 1, 100)\n",
    "# 定義簡單線性迴歸函數\n",
    "def plot_regression(y,w, b):   \n",
    "    \n",
    "    # 建立圖表\n",
    "    plt.figure(figsize=(10, 6))\n",
    "    \n",
    "    # 繪製散佈圖-示範時要打開\n",
    "    #plt.scatter(X, y, color='blue', alpha=0.5, label='數據點')\n",
    "    \n",
    "    # 繪製回歸線\n",
    "    plt.plot(X, w * X + b, color='red', label='回歸線')\n",
    "    \n",
    "    # 設定圖表標題和標籤\n",
    "    plt.title(f'簡單線性迴歸示例 (斜率={w:.1f}, 截距={b:.1f})')\n",
    "    plt.xlabel('X (feature)')\n",
    "    plt.ylabel('y (label)')\n",
    "    plt.xlim(0, 10)\n",
    "    plt.ylim(-5, 15)\n",
    "    plt.legend()\n",
    "    plt.grid(True)\n",
    "    plt.show()\n",
    "\n",
    "# 創建互動式控制項\n",
    "interactive_plot = interactive(\n",
    "    plot_regression,\n",
    "    y=y,\n",
    "    w=widgets.FloatSlider(\n",
    "        value=0,\n",
    "        min=-5,\n",
    "        max=5,\n",
    "        step=0.1,\n",
    "        description='斜率 (a):',\n",
    "        continuous_update=False\n",
    "    ),\n",
    "    b=widgets.FloatSlider(\n",
    "        value=1,\n",
    "        min=-5,\n",
    "        max=5,\n",
    "        step=0.1,\n",
    "        description='截距 (b):',\n",
    "        continuous_update=False\n",
    "    )\n",
    ")\n",
    "\n",
    "# 顯示互動式圖表\n",
    "interactive_plot"
   ]
  },
  {
   "cell_type": "markdown",
   "metadata": {},
   "source": [
    "\n",
    "\n",
    "這段程式碼會：\n",
    "- 使用 `np.linspace()` 在 0 到 10 之間產生 100 個均勻分布的點\n",
    "- 設定真實的斜率 `a = 2` 和截距 `b = 1`\n",
    "- 加入一些隨機雜訊來模擬真實數據\n",
    "- 使用藍色點顯示散佈圖\n",
    "- 使用紅色線顯示回歸線\n",
    "- 加入圖例、標題和座標軸標籤\n",
    "\n",
    "執行這段程式碼後，您將看到一個包含散佈點和回歸線的圖表，其中：\n",
    "- 藍色點代表帶有雜訊的數據點\n",
    "- 紅色線代表理論上的回歸線 y = 2x + 1"
   ]
  }
 ],
 "metadata": {
  "kernelspec": {
   "display_name": "base",
   "language": "python",
   "name": "python3"
  },
  "language_info": {
   "codemirror_mode": {
    "name": "ipython",
    "version": 3
   },
   "file_extension": ".py",
   "mimetype": "text/x-python",
   "name": "python",
   "nbconvert_exporter": "python",
   "pygments_lexer": "ipython3",
   "version": "3.12.2"
  }
 },
 "nbformat": 4,
 "nbformat_minor": 2
}
