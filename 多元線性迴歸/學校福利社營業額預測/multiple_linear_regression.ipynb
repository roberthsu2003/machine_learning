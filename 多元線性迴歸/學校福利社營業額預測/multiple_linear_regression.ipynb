{
  "cells": [
    {
      "cell_type": "markdown",
      "metadata": {
        "id": "view-in-github",
        "colab_type": "text"
      },
      "source": [
        "<a href=\"https://colab.research.google.com/github/roberthsu2003/machine_learning/blob/main/%E5%A4%9A%E5%85%83%E7%B7%9A%E6%80%A7%E8%BF%B4%E6%AD%B8/%E5%AD%B8%E6%A0%A1%E7%A6%8F%E5%88%A9%E7%A4%BE%E7%87%9F%E6%A5%AD%E9%A1%8D%E9%A0%90%E6%B8%AC/multiple_linear_regression.ipynb\" target=\"_parent\"><img src=\"https://colab.research.google.com/assets/colab-badge.svg\" alt=\"Open In Colab\"/></a>"
      ]
    },
    {
      "cell_type": "markdown",
      "id": "d4e718ad",
      "metadata": {
        "id": "d4e718ad"
      },
      "source": [
        "### 多元線性迴歸演算法程式"
      ]
    },
    {
      "cell_type": "code",
      "source": [
        "%%capture\n",
        "%pip install wget"
      ],
      "metadata": {
        "id": "J0yuqCqxoaI4"
      },
      "id": "J0yuqCqxoaI4",
      "execution_count": 1,
      "outputs": []
    },
    {
      "cell_type": "code",
      "execution_count": 2,
      "id": "4b9ce641",
      "metadata": {
        "id": "4b9ce641",
        "outputId": "938619a7-336c-4f9b-b33c-2e9e680ecc40",
        "colab": {
          "base_uri": "https://localhost:8080/",
          "height": 35
        }
      },
      "outputs": [
        {
          "output_type": "execute_result",
          "data": {
            "text/plain": [
              "'Welfare_Club_Sales.csv'"
            ],
            "application/vnd.google.colaboratory.intrinsic+json": {
              "type": "string"
            }
          },
          "metadata": {},
          "execution_count": 2
        }
      ],
      "source": [
        "#下載字型\n",
        "import wget\n",
        "wget.download(\"https://github.com/roberthsu2003/machine_learning/raw/refs/heads/main/source_data/ChineseFont.ttf\")\n",
        "\n",
        "#資料集下載\n",
        "wget.download(\"https://raw.githubusercontent.com/roberthsu2003/machine_learning/refs/heads/main/source_data/Welfare_Club_Sales.csv\")"
      ]
    },
    {
      "cell_type": "code",
      "execution_count": 3,
      "id": "584d26ec",
      "metadata": {
        "id": "584d26ec",
        "outputId": "a91b5d5f-7ffd-417e-e60e-0a64f0d93b70",
        "colab": {
          "base_uri": "https://localhost:8080/"
        }
      },
      "outputs": [
        {
          "output_type": "stream",
          "name": "stdout",
          "text": [
            "無正規化模型結果：\n",
            "均方誤差 (MSE): 1121035.44\n",
            "均方根誤差 (RMSE): 1058.79\n",
            "R² 分數: 0.86\n",
            "模型係數： [  43.69982993  210.13515885  -56.82618312  -30.97785296 2795.46813349]\n",
            "截距： 9892.446146228609\n",
            "\n",
            "有正規化模型結果：\n",
            "均方誤差 (MSE): 1121035.44\n",
            "均方根誤差 (RMSE): 1058.79\n",
            "R² 分數: 0.86\n",
            "模型係數： [   61.51823113  1198.58349039  -848.46590164 -1803.61955774\n",
            "  1113.28177824]\n",
            "截距： 11399.518133856238\n"
          ]
        }
      ],
      "source": [
        "import pandas as pd\n",
        "import numpy as np\n",
        "from sklearn.linear_model import LinearRegression\n",
        "from sklearn.preprocessing import StandardScaler\n",
        "from sklearn.metrics import mean_squared_error, r2_score\n",
        "from sklearn.model_selection import train_test_split\n",
        "\n",
        "# 載入資料集\n",
        "df = pd.read_csv(\"Welfare_Club_Sales.csv\")\n",
        "\n",
        "# 選擇特徵和目標變量\n",
        "X = df[[\"星期\", \"氣溫\", \"降雨量\", \"請假人數\", \"活動日\"]]\n",
        "y = df[\"營業額\"]\n",
        "\n",
        "# 分割訓練集和測試集\n",
        "X_train, X_test, y_train, y_test = train_test_split(X, y, test_size=0.2, random_state=42)\n",
        "\n",
        "# 1. 無正規化版本\n",
        "model_no_norm = LinearRegression()\n",
        "model_no_norm.fit(X_train, y_train)\n",
        "y_pred_no_norm = model_no_norm.predict(X_test)\n",
        "\n",
        "# 計算評估指標\n",
        "mse_no_norm = mean_squared_error(y_test, y_pred_no_norm)\n",
        "rmse_no_norm = np.sqrt(mse_no_norm)\n",
        "r2_no_norm = r2_score(y_test, y_pred_no_norm)\n",
        "\n",
        "print(\"無正規化模型結果：\")\n",
        "print(f\"均方誤差 (MSE): {mse_no_norm:.2f}\")\n",
        "print(f\"均方根誤差 (RMSE): {rmse_no_norm:.2f}\")\n",
        "print(f\"R² 分數: {r2_no_norm:.2f}\")\n",
        "print(\"模型係數：\", model_no_norm.coef_)\n",
        "print(\"截距：\", model_no_norm.intercept_)\n",
        "print()\n",
        "\n",
        "# 2. 有正規化版本（標準化）\n",
        "scaler = StandardScaler()\n",
        "X_train_scaled = scaler.fit_transform(X_train)\n",
        "X_test_scaled = scaler.transform(X_test)\n",
        "\n",
        "model_norm = LinearRegression()\n",
        "model_norm.fit(X_train_scaled, y_train)\n",
        "y_pred_norm = model_norm.predict(X_test_scaled)\n",
        "\n",
        "# 計算評估指標\n",
        "mse_norm = mean_squared_error(y_test, y_pred_norm)\n",
        "rmse_norm = np.sqrt(mse_norm)\n",
        "r2_norm = r2_score(y_test, y_pred_norm)\n",
        "\n",
        "print(\"有正規化模型結果：\")\n",
        "print(f\"均方誤差 (MSE): {mse_norm:.2f}\")\n",
        "print(f\"均方根誤差 (RMSE): {rmse_norm:.2f}\")\n",
        "print(f\"R² 分數: {r2_norm:.2f}\")\n",
        "print(\"模型係數：\", model_norm.coef_)\n",
        "print(\"截距：\", model_norm.intercept_)"
      ]
    }
  ],
  "metadata": {
    "kernelspec": {
      "display_name": "base",
      "language": "python",
      "name": "python3"
    },
    "language_info": {
      "codemirror_mode": {
        "name": "ipython",
        "version": 3
      },
      "file_extension": ".py",
      "mimetype": "text/x-python",
      "name": "python",
      "nbconvert_exporter": "python",
      "pygments_lexer": "ipython3",
      "version": "3.12.2"
    },
    "colab": {
      "provenance": [],
      "include_colab_link": true
    }
  },
  "nbformat": 4,
  "nbformat_minor": 5
}