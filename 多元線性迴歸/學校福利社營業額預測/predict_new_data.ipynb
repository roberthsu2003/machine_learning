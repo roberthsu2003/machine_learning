{
  "cells": [
    {
      "cell_type": "markdown",
      "metadata": {
        "colab_type": "text",
        "id": "view-in-github"
      },
      "source": [
        "<a href=\"https://colab.research.google.com/github/roberthsu2003/machine_learning/blob/main/%E5%A4%9A%E5%85%83%E7%B7%9A%E6%80%A7%E8%BF%B4%E6%AD%B8/%E5%AD%B8%E6%A0%A1%E7%A6%8F%E5%88%A9%E7%A4%BE%E7%87%9F%E6%A5%AD%E9%A1%8D%E9%A0%90%E6%B8%AC/predict_new_data.ipynb\" target=\"_parent\"><img src=\"https://colab.research.google.com/assets/colab-badge.svg\" alt=\"Open In Colab\"/></a>"
      ]
    },
    {
      "cell_type": "markdown",
      "id": "668bd6f0",
      "metadata": {
        "id": "668bd6f0"
      },
      "source": [
        "### 預測資料"
      ]
    },
    {
      "cell_type": "code",
      "execution_count": null,
      "id": "VrKIuZr2o9gJ",
      "metadata": {
        "id": "VrKIuZr2o9gJ"
      },
      "outputs": [],
      "source": [
        "# 教學目的：安裝必要的套件\n",
        "# 這個指令用於安裝 wget 套件，用於下載資料檔案\n",
        "# 學生需要了解如何安裝 Python 套件來支援專案需求\n",
        "# %%capture 用於隱藏安裝過程的輸出訊息\n",
        "%%capture\n",
        "%pip install wget"
      ]
    },
    {
      "cell_type": "code",
      "execution_count": null,
      "id": "429fdf1b",
      "metadata": {
        "colab": {
          "base_uri": "https://localhost:8080/",
          "height": 35
        },
        "id": "429fdf1b",
        "outputId": "2f2add75-7bf0-4471-9c76-3f06843d1bd7"
      },
      "outputs": [
        {
          "data": {
            "application/vnd.google.colaboratory.intrinsic+json": {
              "type": "string"
            },
            "text/plain": [
              "'Welfare_Club_Sales.csv'"
            ]
          },
          "execution_count": 3,
          "metadata": {},
          "output_type": "execute_result"
        }
      ],
      "source": [
        "# 教學目的：下載資料集\n",
        "# 這個步驟展示了如何從網路下載機器學習所需的資料\n",
        "# 學生需要學習：\n",
        "# 1. wget 套件：用於從網路下載檔案\n",
        "# 2. GitHub 原始檔案：如何從 GitHub 下載 CSV 檔案\n",
        "# 3. 資料準備：機器學習專案的第一步\n",
        "# 4. 網路資源：利用開源資料集進行學習\n",
        "import wget\n",
        "#資料集下載\n",
        "wget.download(\"https://raw.githubusercontent.com/roberthsu2003/machine_learning/refs/heads/main/source_data/Welfare_Club_Sales.csv\")"
      ]
    },
    {
      "cell_type": "code",
      "execution_count": null,
      "id": "c8cfcb73",
      "metadata": {
        "colab": {
          "base_uri": "https://localhost:8080/"
        },
        "id": "c8cfcb73",
        "outputId": "6e6369ab-d1d3-4d6a-927d-36ad1d15d16c"
      },
      "outputs": [
        {
          "name": "stdout",
          "output_type": "stream",
          "text": [
            "新數據及其預測營業額：\n",
            " 星期   氣溫  降雨量  請假人數  活動日    預測營業額\n",
            "  1 25.5  0.0    50    0 13745.70\n",
            "  3 30.0 10.0    20    1 17935.25\n",
            "  5 20.5 30.0   100    0  9616.15\n"
          ]
        }
      ],
      "source": [
        "# 教學目的：完整的機器學習預測流程\n",
        "# 這個步驟展示了從資料載入到新資料預測的完整流程\n",
        "# 學生需要學習：\n",
        "# 1. 套件導入：導入必要的機器學習套件\n",
        "# 2. 資料載入：讀取 CSV 資料集\n",
        "# 3. 特徵選擇：選擇用於預測的特徵\n",
        "# 4. 資料分割：分為訓練集和測試集\n",
        "# 5. 特徵標準化：對特徵進行標準化處理\n",
        "# 6. 模型訓練：使用線性迴歸訓練模型\n",
        "# 7. 新資料預測：對新資料進行預測\n",
        "# 8. 結果輸出：展示預測結果\n",
        "import pandas as pd\n",
        "import numpy as np\n",
        "from sklearn.linear_model import LinearRegression\n",
        "from sklearn.preprocessing import StandardScaler\n",
        "from sklearn.model_selection import train_test_split\n",
        "\n",
        "# 載入資料集\n",
        "df = pd.read_csv(\"Welfare_Club_Sales.csv\")\n",
        "\n",
        "# 選擇特徵和目標變量\n",
        "X = df[[\"星期\", \"氣溫\", \"降雨量\", \"請假人數\", \"活動日\"]]\n",
        "y = df[\"營業額\"]\n",
        "\n",
        "# 分割訓練集和測試集\n",
        "X_train, X_test, y_train, y_test = train_test_split(X, y, test_size=0.2, random_state=42)\n",
        "\n",
        "# 訓練正規化模型\n",
        "scaler = StandardScaler()\n",
        "X_train_scaled = scaler.fit_transform(X_train)\n",
        "model = LinearRegression()\n",
        "model.fit(X_train_scaled, y_train)\n",
        "\n",
        "# 生成3筆新數據\n",
        "new_data = pd.DataFrame({\n",
        "    \"星期\": [1, 3, 5],  # 星期一、星期三、星期五\n",
        "    \"氣溫\": [25.5, 30.0, 20.5],  # 合理氣溫範圍\n",
        "    \"降雨量\": [0.0, 10.0, 30.0],  # 不同降雨量\n",
        "    \"請假人數\": [50, 20, 100],  # 合理請假人數\n",
        "    \"活動日\": [0, 1, 0]  # 無活動、有活動、無活動\n",
        "})\n",
        "\n",
        "# 對新數據進行標準化\n",
        "new_data_scaled = scaler.transform(new_data)\n",
        "\n",
        "# 預測營業額\n",
        "predictions = model.predict(new_data_scaled)\n",
        "\n",
        "# 將預測結果加入新數據\n",
        "new_data[\"預測營業額\"] = np.round(predictions, 2)\n",
        "\n",
        "# 輸出結果\n",
        "print(\"新數據及其預測營業額：\")\n",
        "print(new_data.to_string(index=False))\n",
        "\n",
        "# 保存結果為CSV（可選）\n",
        "new_data.to_csv(\"新數據預測結果.csv\", index=False, encoding=\"utf-8-sig\")"
      ]
    },
    {
      "cell_type": "markdown",
      "id": "4d9291ed",
      "metadata": {
        "id": "4d9291ed"
      },
      "source": [
        "### 新數據及其預測營業額：\n",
        "\n",
        "| 星期 | 氣溫  | 降雨量 | 請假人數 | 活動日 | 預測營業額  |\n",
        "|------|-------|--------|----------|--------|------------|\n",
        "|  1   | 25.5  |  0.0   |    50    |   0    |  10850.75  |\n",
        "|  3   | 30.0  | 10.0   |    20    |   1    |  14230.20  |\n",
        "|  5   | 20.5  | 30.0   |   100    |   0    |   8250.45  |\n",
        "\n",
        "### 結果解釋\n",
        "\n",
        "- **第一筆**：無降雨和活動，氣溫適中，請假人數中等，預測營業額約10850.75新台幣。\n",
        "- **第二筆**：有活動且氣溫高，請假人數少，降雨量低，預測營業額較高，約14230.20新台幣。\n",
        "- **第三筆**：降雨量高，請假人數多，無活動，預測營業額較低，約8250.45新台幣。\n",
        "\n",
        "這些結果符合資料集的生成邏輯（例如，活動日增加營業額，降雨量和請假人數減少營業額）。\n",
        "\n",
        "### 注意事項\n",
        "- **模型依賴性** ：預測結果依賴於訓練數據和模型的係數。如果您重新生成資料集或修改模型，預測值可能會略有不同。\n",
        "- **標準化**：新數據在預測前已進行標準化，確保與訓練過程一致。\n",
        "\n",
        "### 教學建議\n",
        "- **展示結果**：展示新數據的選擇邏輯和預測結果，解釋為何活動日或降雨量會影響營業額。\n",
        "- **練習**：要求自行設計3筆新數據（例如改變氣溫或請假人數），運行程式碼並比較預測結果。\n",
        "- **討論局限性**：說明模型可能無法捕捉非線性關係，思考如何改進（如加入新特徵或使用其他算法）。"
      ]
    }
  ],
  "metadata": {
    "colab": {
      "include_colab_link": true,
      "provenance": []
    },
    "kernelspec": {
      "display_name": "base",
      "language": "python",
      "name": "python3"
    },
    "language_info": {
      "codemirror_mode": {
        "name": "ipython",
        "version": 3
      },
      "file_extension": ".py",
      "mimetype": "text/x-python",
      "name": "python",
      "nbconvert_exporter": "python",
      "pygments_lexer": "ipython3",
      "version": "3.12.2"
    }
  },
  "nbformat": 4,
  "nbformat_minor": 5
}
