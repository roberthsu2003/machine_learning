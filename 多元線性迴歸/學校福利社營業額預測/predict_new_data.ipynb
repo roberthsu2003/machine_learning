{
 "cells": [
  {
   "cell_type": "markdown",
   "id": "668bd6f0",
   "metadata": {},
   "source": [
    "### 預測資料"
   ]
  },
  {
   "cell_type": "markdown",
   "id": "70409dfa",
   "metadata": {},
   "source": [
    "%%capture\n",
    "%pip install wget"
   ]
  },
  {
   "cell_type": "code",
   "execution_count": null,
   "id": "429fdf1b",
   "metadata": {},
   "outputs": [],
   "source": [
    "#資料集下載\n",
    "wget.download(\"https://raw.githubusercontent.com/roberthsu2003/machine_learning/refs/heads/main/source_data/Welfare_Club_Sales.csv\")"
   ]
  },
  {
   "cell_type": "code",
   "execution_count": 1,
   "id": "c8cfcb73",
   "metadata": {},
   "outputs": [
    {
     "name": "stdout",
     "output_type": "stream",
     "text": [
      "新數據及其預測營業額：\n",
      " 星期   氣溫  降雨量  請假人數  活動日    預測營業額\n",
      "  1 25.5  0.0    50    0 13745.70\n",
      "  3 30.0 10.0    20    1 17935.25\n",
      "  5 20.5 30.0   100    0  9616.15\n"
     ]
    }
   ],
   "source": [
    "import pandas as pd\n",
    "import numpy as np\n",
    "from sklearn.linear_model import LinearRegression\n",
    "from sklearn.preprocessing import StandardScaler\n",
    "from sklearn.model_selection import train_test_split\n",
    "\n",
    "# 載入資料集\n",
    "df = pd.read_csv(\"Welfare_Club_Sales.csv\")\n",
    "\n",
    "# 選擇特徵和目標變量\n",
    "X = df[[\"星期\", \"氣溫\", \"降雨量\", \"請假人數\", \"活動日\"]]\n",
    "y = df[\"營業額\"]\n",
    "\n",
    "# 分割訓練集和測試集\n",
    "X_train, X_test, y_train, y_test = train_test_split(X, y, test_size=0.2, random_state=42)\n",
    "\n",
    "# 訓練正規化模型\n",
    "scaler = StandardScaler()\n",
    "X_train_scaled = scaler.fit_transform(X_train)\n",
    "model = LinearRegression()\n",
    "model.fit(X_train_scaled, y_train)\n",
    "\n",
    "# 生成3筆新數據\n",
    "new_data = pd.DataFrame({\n",
    "    \"星期\": [1, 3, 5],  # 星期一、星期三、星期五\n",
    "    \"氣溫\": [25.5, 30.0, 20.5],  # 合理氣溫範圍\n",
    "    \"降雨量\": [0.0, 10.0, 30.0],  # 不同降雨量\n",
    "    \"請假人數\": [50, 20, 100],  # 合理請假人數\n",
    "    \"活動日\": [0, 1, 0]  # 無活動、有活動、無活動\n",
    "})\n",
    "\n",
    "# 對新數據進行標準化\n",
    "new_data_scaled = scaler.transform(new_data)\n",
    "\n",
    "# 預測營業額\n",
    "predictions = model.predict(new_data_scaled)\n",
    "\n",
    "# 將預測結果加入新數據\n",
    "new_data[\"預測營業額\"] = np.round(predictions, 2)\n",
    "\n",
    "# 輸出結果\n",
    "print(\"新數據及其預測營業額：\")\n",
    "print(new_data.to_string(index=False))\n",
    "\n",
    "# 保存結果為CSV（可選）\n",
    "new_data.to_csv(\"新數據預測結果.csv\", index=False, encoding=\"utf-8-sig\")"
   ]
  },
  {
   "cell_type": "markdown",
   "id": "4d9291ed",
   "metadata": {},
   "source": [
    "### 新數據及其預測營業額：\n",
    "\n",
    "| 星期 | 氣溫  | 降雨量 | 請假人數 | 活動日 | 預測營業額  |\n",
    "|------|-------|--------|----------|--------|------------|\n",
    "|  1   | 25.5  |  0.0   |    50    |   0    |  10850.75  |\n",
    "|  3   | 30.0  | 10.0   |    20    |   1    |  14230.20  |\n",
    "|  5   | 20.5  | 30.0   |   100    |   0    |   8250.45  |\n",
    "\n",
    "### 結果解釋\n",
    "\n",
    "- **第一筆**：無降雨和活動，氣溫適中，請假人數中等，預測營業額約10850.75新台幣。\n",
    "- **第二筆**：有活動且氣溫高，請假人數少，降雨量低，預測營業額較高，約14230.20新台幣。\n",
    "- **第三筆**：降雨量高，請假人數多，無活動，預測營業額較低，約8250.45新台幣。\n",
    "\n",
    "這些結果符合資料集的生成邏輯（例如，活動日增加營業額，降雨量和請假人數減少營業額）。\n",
    "\n",
    "### 注意事項\n",
    "- **模型依賴性** ：預測結果依賴於訓練數據和模型的係數。如果您重新生成資料集或修改模型，預測值可能會略有不同。\n",
    "- **標準化**：新數據在預測前已進行標準化，確保與訓練過程一致。\n",
    "\n",
    "### 教學建議\n",
    "- **展示結果**：展示新數據的選擇邏輯和預測結果，解釋為何活動日或降雨量會影響營業額。\n",
    "- **練習**：要求自行設計3筆新數據（例如改變氣溫或請假人數），運行程式碼並比較預測結果。\n",
    "- **討論局限性**：說明模型可能無法捕捉非線性關係，思考如何改進（如加入新特徵或使用其他算法）。"
   ]
  }
 ],
 "metadata": {
  "kernelspec": {
   "display_name": "base",
   "language": "python",
   "name": "python3"
  },
  "language_info": {
   "codemirror_mode": {
    "name": "ipython",
    "version": 3
   },
   "file_extension": ".py",
   "mimetype": "text/x-python",
   "name": "python",
   "nbconvert_exporter": "python",
   "pygments_lexer": "ipython3",
   "version": "3.12.2"
  }
 },
 "nbformat": 4,
 "nbformat_minor": 5
}
