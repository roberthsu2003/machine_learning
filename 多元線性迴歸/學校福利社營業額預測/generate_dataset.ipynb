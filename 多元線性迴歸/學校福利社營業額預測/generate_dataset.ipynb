{
 "cells": [
  {
   "cell_type": "markdown",
   "id": "5cd7e861",
   "metadata": {},
   "source": [
    "### 資料集生成"
   ]
  },
  {
   "cell_type": "code",
   "execution_count": null,
   "id": "e15f940f",
   "metadata": {},
   "outputs": [],
   "source": [
    "import pandas as pd\n",
    "import numpy as np\n",
    "from datetime import datetime, timedelta\n",
    "\n",
    "# 設定隨機種子以確保可重現\n",
    "np.random.seed(42)\n",
    "\n",
    "# 生成日期（星期一至星期五，30週）\n",
    "start_date = datetime(2025, 2, 3)  # 假設學期從2025年2月3日開始\n",
    "dates = []\n",
    "weekdays = []\n",
    "for i in range(150):  # 150天，約30週\n",
    "    current_date = start_date + timedelta(days=i)\n",
    "    if current_date.weekday() < 5:  # 僅星期一至星期五\n",
    "        dates.append(current_date.strftime(\"%Y-%m-%d\"))\n",
    "        weekdays.append(current_date.weekday() + 1)  # 1=星期一, 5=星期五\n",
    "\n",
    "# 生成特徵數據\n",
    "n_samples = len(dates)\n",
    "data = {\n",
    "    \"日期\": dates,\n",
    "    \"星期\": weekdays,\n",
    "    \"氣溫\": np.random.uniform(15, 35, n_samples),  # 氣溫15-35°C\n",
    "    \"降雨量\": np.random.uniform(0, 50, n_samples),  # 降雨量0-50mm\n",
    "    \"請假人數\": np.random.randint(0, 200, n_samples),  # 請假人數0-200\n",
    "    \"活動日\": np.random.choice([0, 1], n_samples, p=[0.8, 0.2]),  # 20%機率有活動\n",
    "}\n",
    "\n",
    "# 生成營業額（模擬真實情況）\n",
    "base_sales = 10000  # 基礎營業額\n",
    "data[\"營業額\"] = (\n",
    "    base_sales\n",
    "    + data[\"氣溫\"] * 200  # 氣溫高，營業額略增\n",
    "    - data[\"降雨量\"] * 50  # 降雨量高，營業額下降\n",
    "    - data[\"請假人數\"] * 30  # 請假人數多，營業額下降\n",
    "    + data[\"活動日\"] * 3000  # 活動日營業額增加\n",
    "    + np.random.normal(0, 1000, n_samples)  # 隨機噪聲\n",
    ")\n",
    "data[\"營業額\"] = np.clip(data[\"營業額\"], 5000, 20000)  # 限制範圍5000-20000\n",
    "\n",
    "# 創建DataFrame\n",
    "df = pd.DataFrame(data)\n",
    "\n",
    "# 保存為CSV檔案\n",
    "df.to_csv(\"Welfare_Club_Sales.csv\", index=False, encoding=\"utf-8-sig\")\n",
    "\n",
    "print(\"資料集已生成並保存為 'Welfare_Club_Sales.csv'\")"
   ]
  }
 ],
 "metadata": {
  "kernelspec": {
   "display_name": "base",
   "language": "python",
   "name": "python3"
  },
  "language_info": {
   "name": "python",
   "version": "3.12.2"
  }
 },
 "nbformat": 4,
 "nbformat_minor": 5
}
