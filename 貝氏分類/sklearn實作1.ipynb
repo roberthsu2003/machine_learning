{
  "cells": [
    {
      "cell_type": "markdown",
      "metadata": {
        "colab_type": "text",
        "id": "view-in-github"
      },
      "source": [
        "<a href=\"https://colab.research.google.com/github/roberthsu2003/machine_learning/blob/main/%E8%B2%9D%E6%B0%8F%E5%88%86%E9%A1%9E/sklearn%E5%AF%A6%E4%BD%9C1.ipynb\" target=\"_parent\"><img src=\"https://colab.research.google.com/assets/colab-badge.svg\" alt=\"Open In Colab\"/></a>"
      ]
    },
    {
      "cell_type": "code",
      "execution_count": null,
      "metadata": {
        "id": "4_ac0Cis3TGe"
      },
      "outputs": [],
      "source": [
        "%%capture\n",
        "%pip install wget"
      ]
    },
    {
      "cell_type": "code",
      "execution_count": null,
      "metadata": {
        "id": "RauI1zBg3TGf"
      },
      "outputs": [],
      "source": [
        "#下載字型\n",
        "import wget\n",
        "wget.download(\"https://github.com/roberthsu2003/machine_learning/raw/refs/heads/main/source_data/ChineseFont.ttf\")"
      ]
    },
    {
      "cell_type": "markdown",
      "metadata": {
        "id": "PnJFXSV-3TGf"
      },
      "source": [
        "### 如何使用 scikit-learn 的 `GaussianNB` 模型來進行分類。\n",
        "- 我們將使用一個簡單的數據集，其中包含兩個特徵（例如，花瓣長度和花瓣寬度），並預測鳶尾花的種類（0、1 或 2）。"
      ]
    },
    {
      "cell_type": "markdown",
      "metadata": {
        "id": "RDAx_nEiNnv2"
      },
      "source": [
        "### Iris 資料集中每一筆資料長這樣：\n",
        "特徵：\n",
        "- 花萼長度\n",
        "- 花萼寬度\n",
        "- 花瓣長度\n",
        "- 花瓣寬度\n",
        "\n",
        "目標類別：\n",
        "- 山鳶尾 / 變色鳶尾 / 維吉尼亞鳶尾\n",
        "\n",
        "### 條件獨立假設意思是：\n",
        "在已知花的品種（例如：Setosa）的情況下:\n",
        "\n",
        "→ 花萼長度和花瓣長度的機率是獨立的,花萼長度和花瓣長度2個沒有關聯性"
      ]
    },
    {
      "cell_type": "code",
      "execution_count": null,
      "metadata": {
        "id": "E9YETNW53TGg"
      },
      "outputs": [],
      "source": [
        "import numpy as np\n",
        "import matplotlib.pyplot as plt\n",
        "from sklearn.datasets import load_iris\n",
        "from sklearn.model_selection import train_test_split\n",
        "from sklearn.naive_bayes import GaussianNB\n",
        "from sklearn.metrics import accuracy_score\n",
        "import matplotlib as mlp\n",
        "from matplotlib.font_manager import fontManager\n",
        "\n",
        "fontManager.addfont('ChineseFont.ttf')\n",
        "mlp.rc('font', family='ChineseFont')\n",
        "\n",
        "# 1. 載入數據集\n",
        "iris = load_iris()\n",
        "X = iris.data[:, :2]  # 花萼長度和花萼寬度\n",
        "y = iris.target\n",
        "\n",
        "# 2. 分割訓練集和測試集\n",
        "X_train, X_test, y_train, y_test = train_test_split(X, y, test_size=0.2, random_state=42)\n",
        "\n",
        "# 3. 建立高斯樸素貝葉斯模型\n",
        "model = GaussianNB()\n",
        "\n",
        "# 4. 訓練模型\n",
        "model.fit(X_train, y_train)\n",
        "\n",
        "# 5. 進行預測\n",
        "y_pred = model.predict(X_test)\n",
        "\n",
        "# 6. 評估模型\n",
        "accuracy = accuracy_score(y_test, y_pred)\n",
        "print(f\"模型準確度：{accuracy:.2f}\")\n",
        "\n",
        "# 7. 可視化決策邊界\n",
        "x_min, x_max = X[:, 0].min() - 1, X[:, 0].max() + 1\n",
        "y_min, y_max = X[:, 1].min() - 1, X[:, 1].max() + 1\n",
        "xx, yy = np.meshgrid(np.arange(x_min, x_max, 0.02), np.arange(y_min, y_max, 0.02))\n",
        "Z = model.predict(np.c_[xx.ravel(), yy.ravel()])\n",
        "Z = Z.reshape(xx.shape)\n",
        "plt.contourf(xx, yy, Z, alpha=0.3)\n",
        "plt.scatter(X[:, 0], X[:, 1], c=y, s=50, edgecolor='k')\n",
        "plt.xlabel(iris.feature_names[0])\n",
        "plt.ylabel(iris.feature_names[1])\n",
        "plt.title('高斯樸素貝葉斯分類邊界')\n",
        "plt.show()"
      ]
    },
    {
      "cell_type": "markdown",
      "metadata": {
        "id": "QMxj2ChDNnv3"
      },
      "source": [
        "### 以下範例有包含\n",
        "- Q-Q圖\n",
        "- 準確率\n",
        "- 混淆矩陣(熱力圖)\n",
        "- 分類報告"
      ]
    },
    {
      "cell_type": "code",
      "execution_count": null,
      "metadata": {
        "id": "HlbRVpWHNnv4"
      },
      "outputs": [],
      "source": [
        "import numpy as np\n",
        "import matplotlib.pyplot as plt\n",
        "from scipy import stats\n",
        "from sklearn.datasets import load_iris\n",
        "from sklearn.model_selection import train_test_split\n",
        "from sklearn.naive_bayes import GaussianNB\n",
        "from sklearn.metrics import accuracy_score, confusion_matrix, classification_report\n",
        "import seaborn as sns\n",
        "import matplotlib as mlp\n",
        "from matplotlib.font_manager import fontManager\n",
        "\n",
        "# 設置中文字體（確保圖表顯示中文）\n",
        "fontManager.addfont('ChineseFont.ttf')\n",
        "mlp.rc('font', family='ChineseFont')\n",
        "\n",
        "# 1. 載入 Iris 數據集\n",
        "iris = load_iris()\n",
        "X = iris.data  # 特徵：花萼長度、花萼寬度、花瓣長度、花瓣寬度\n",
        "y = iris.target  # 類別：0, 1, 2（三種鳶尾花品種）\n",
        "feature_names = ['花萼長度', '花萼寬度', '花瓣長度', '花瓣寬度']  # 特徵名稱改為中文\n",
        "class_names = ['山鳶尾', '變色鳶尾', '維吉尼亞鳶尾']  # 類別名稱改為中文\n",
        "\n",
        "# 2. 檢查特徵是否符合高斯分佈，使用 Q-Q 圖\n",
        "plt.figure(figsize=(12, 8))\n",
        "for i in range(X.shape[1]):\n",
        "    plt.subplot(2, 2, i+1)\n",
        "    stats.probplot(X[:, i], dist=\"norm\", plot=plt)\n",
        "    plt.title(f'{feature_names[i]} 的 Q-Q 圖')\n",
        "    plt.xlabel('理論分量')\n",
        "    plt.ylabel('樣本分量')\n",
        "plt.tight_layout()\n",
        "plt.show()\n",
        "\n",
        "# 3. 將數據分為訓練集和測試集（80% 訓練，20% 測試）\n",
        "X_train, X_test, y_train, y_test = train_test_split(X, y, test_size=0.2, random_state=42)\n",
        "\n",
        "# 4. 訓練 GaussianNB 模型\n",
        "model = GaussianNB()\n",
        "model.fit(X_train, y_train)\n",
        "\n",
        "# 5. 預測測試集\n",
        "y_pred = model.predict(X_test)\n",
        "\n",
        "# 6. 評估模型\n",
        "# 計算準確率\n",
        "accuracy = accuracy_score(y_test, y_pred)\n",
        "print(f\"模型準確率: {accuracy:.2f}\")\n",
        "\n",
        "# 繪製混淆矩陣\n",
        "cm = confusion_matrix(y_test, y_pred)\n",
        "plt.figure(figsize=(6, 4))\n",
        "sns.heatmap(cm, annot=True, fmt='d', cmap='Blues', xticklabels=class_names, yticklabels=class_names)\n",
        "plt.title('混淆矩陣')\n",
        "plt.xlabel('預測類別')\n",
        "plt.ylabel('實際類別')\n",
        "plt.show()\n",
        "\n",
        "# 輸出分類報告（精確率、召回率、F1 分數）\n",
        "print(\"\\n分類報告:\")\n",
        "report = classification_report(y_test, y_pred, target_names=class_names)\n",
        "print(report)"
      ]
    }
  ],
  "metadata": {
    "colab": {
      "include_colab_link": true,
      "provenance": []
    },
    "kernelspec": {
      "display_name": "base",
      "language": "python",
      "name": "python3"
    },
    "language_info": {
      "codemirror_mode": {
        "name": "ipython",
        "version": 3
      },
      "file_extension": ".py",
      "mimetype": "text/x-python",
      "name": "python",
      "nbconvert_exporter": "python",
      "pygments_lexer": "ipython3",
      "version": "3.12.2"
    }
  },
  "nbformat": 4,
  "nbformat_minor": 0
}
