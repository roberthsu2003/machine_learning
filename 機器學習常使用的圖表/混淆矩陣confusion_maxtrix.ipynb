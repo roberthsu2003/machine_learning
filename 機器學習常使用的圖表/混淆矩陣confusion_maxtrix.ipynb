{
  "cells": [
    {
      "cell_type": "markdown",
      "metadata": {
        "id": "view-in-github",
        "colab_type": "text"
      },
      "source": [
        "<a href=\"https://colab.research.google.com/github/roberthsu2003/machine_learning/blob/main/%E6%A9%9F%E5%99%A8%E5%AD%B8%E7%BF%92%E5%B8%B8%E4%BD%BF%E7%94%A8%E7%9A%84%E5%9C%96%E8%A1%A8/%E6%B7%B7%E6%B7%86%E7%9F%A9%E9%99%A3confusion_maxtrix.ipynb\" target=\"_parent\"><img src=\"https://colab.research.google.com/assets/colab-badge.svg\" alt=\"Open In Colab\"/></a>"
      ]
    },
    {
      "cell_type": "code",
      "source": [
        "%%capture\n",
        "%pip install seaborn\n",
        "%pip install matplotlib\n",
        "%pip install wget"
      ],
      "metadata": {
        "id": "9tVBv6FR1fNG"
      },
      "id": "9tVBv6FR1fNG",
      "execution_count": 2,
      "outputs": []
    },
    {
      "cell_type": "code",
      "source": [
        "#下載中文字型\n",
        "import wget\n",
        "\n",
        "wget.download(\"https://github.com/roberthsu2003/machine_learning/raw/refs/heads/main/source_data/ChineseFont.ttf\")"
      ],
      "metadata": {
        "id": "psLGJpmx13mB",
        "outputId": "38930cac-4295-4770-ebfb-e17f9ae7976a",
        "colab": {
          "base_uri": "https://localhost:8080/",
          "height": 35
        }
      },
      "id": "psLGJpmx13mB",
      "execution_count": 3,
      "outputs": [
        {
          "output_type": "execute_result",
          "data": {
            "text/plain": [
              "'ChineseFont.ttf'"
            ],
            "application/vnd.google.colaboratory.intrinsic+json": {
              "type": "string"
            }
          },
          "metadata": {},
          "execution_count": 3
        }
      ]
    },
    {
      "cell_type": "markdown",
      "id": "f673c217",
      "metadata": {
        "id": "f673c217"
      },
      "source": [
        "# 混淆矩陣的英文是Confusion Maxtrix\n",
        "\n",
        "它是一種在機器學習中用來評估分類模型效能的表格。這個矩陣會顯示模型預測結果與實際類別之間的比較，具體來說，它會列出：\n",
        "\n",
        "1. 真陽性 (True Positives, TP): 模型正確預測為「正類別」的樣本數。\n",
        "\n",
        "2. 真陰性 (True Negatives, TN): 模型正確預測為「負類別」的樣本數。\n",
        "\n",
        "3. 偽陽性 (False Positives, FP): 模型錯誤預測為「正類別」（但實際上是負類別）的樣本數，也稱為 Type I error。\n",
        "\n",
        "4. 偽陰性 (False Negatives, FN): 模型錯誤預測為「負類別」（但實際上是正類別）的樣本數，也稱為 Type II error。\n",
        "\n",
        "透過混淆矩陣，可以計算出模型的準確率 (Accuracy)、精確率 (Precision)、召回率 (Recall)、F1 分數 (F1-Score) 等多種評估指標，更全面地了解模型的表現。\n"
      ]
    },
    {
      "cell_type": "code",
      "execution_count": 4,
      "id": "6fbcea35",
      "metadata": {
        "id": "6fbcea35",
        "outputId": "7cd04456-3ba4-4ec4-c4eb-e65e37681bfe",
        "colab": {
          "base_uri": "https://localhost:8080/",
          "height": 553
        }
      },
      "outputs": [
        {
          "output_type": "stream",
          "name": "stdout",
          "text": [
            "混淆矩陣:\n",
            " [[6 2]\n",
            " [1 6]]\n"
          ]
        },
        {
          "output_type": "display_data",
          "data": {
            "text/plain": [
              "<Figure size 600x400 with 2 Axes>"
            ],
            "image/png": "[encoded data removed]"
          },
          "metadata": {}
        },
        {
          "output_type": "stream",
          "name": "stdout",
          "text": [
            "\n",
            "真陰性 (TN): 6\n",
            "假陽性 (FP): 2\n",
            "假陰性 (FN): 1\n",
            "真陽性 (TP): 6\n"
          ]
        }
      ],
      "source": [
        "import numpy as np\n",
        "from sklearn.metrics import confusion_matrix\n",
        "import seaborn as sns # 輸出更漂亮的圖表\n",
        "import matplotlib.pyplot as plt\n",
        "import matplotlib as mlp\n",
        "from matplotlib.font_manager import fontManager\n",
        "\n",
        "# 設置中文字體（確保圖表顯示中文）\n",
        "fontManager.addfont('ChineseFont.ttf')\n",
        "mlp.rc('font', family='ChineseFont')\n",
        "\n",
        "\n",
        "# 範例資料來自於「猫咪 vs. 非猫咪」的案例\n",
        "# 實際標籤 (0: 非猫咪, 1: 猫咪)\n",
        "y_true = np.array([1, 1, 1, 1, 1, 1, 1, 0, 0, 0, 0, 0, 0, 0, 0])\n",
        "\n",
        "# 模型預測的標籤\n",
        "y_pred = np.array([1, 1, 1, 1, 0, 1, 1, 0, 0, 1, 0, 0, 0, 1, 0])\n",
        "\n",
        "# 計算混淆矩陣\n",
        "cm = confusion_matrix(y_true, y_pred)\n",
        "\n",
        "print(\"混淆矩陣:\\n\", cm)\n",
        "\n",
        "# 也可以視覺化\n",
        "plt.figure(figsize=(6, 4))\n",
        "sns.heatmap(cm, annot=True, fmt='d', cmap='Blues',\n",
        "            xticklabels=['預測非猫咪', '預測猫咪'],\n",
        "            yticklabels=['實際非猫咪', '實際猫咪'])\n",
        "plt.xlabel('預測標籤')\n",
        "plt.ylabel('真實標籤')\n",
        "plt.title('混淆矩陣 - 猫咪 vs. 非猫咪')\n",
        "plt.show()\n",
        "\n",
        "# 明確顯示 TN, FP, FN, TP（二分類用）\n",
        "tn, fp, fn, tp = cm.ravel() # .ravel() 將 2x2 矩陣展平\n",
        "\n",
        "print(f\"\\n真陰性 (TN): {tn}\")\n",
        "print(f\"假陽性 (FP): {fp}\")\n",
        "print(f\"假陰性 (FN): {fn}\")\n",
        "print(f\"真陽性 (TP): {tp}\")"
      ]
    }
  ],
  "metadata": {
    "kernelspec": {
      "display_name": "base",
      "language": "python",
      "name": "python3"
    },
    "language_info": {
      "codemirror_mode": {
        "name": "ipython",
        "version": 3
      },
      "file_extension": ".py",
      "mimetype": "text/x-python",
      "name": "python",
      "nbconvert_exporter": "python",
      "pygments_lexer": "ipython3",
      "version": "3.12.2"
    },
    "colab": {
      "provenance": [],
      "include_colab_link": true
    }
  },
  "nbformat": 4,
  "nbformat_minor": 5
}