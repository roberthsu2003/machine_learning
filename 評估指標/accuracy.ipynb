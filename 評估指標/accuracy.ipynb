{
  "cells": [
    {
      "cell_type": "markdown",
      "metadata": {
        "id": "view-in-github",
        "colab_type": "text"
      },
      "source": [
        "<a href=\"https://colab.research.google.com/github/roberthsu2003/machine_learning/blob/main/%E8%A9%95%E4%BC%B0%E6%8C%87%E6%A8%99/accuracy.ipynb\" target=\"_parent\"><img src=\"https://colab.research.google.com/assets/colab-badge.svg\" alt=\"Open In Colab\"/></a>"
      ]
    },
    {
      "cell_type": "code",
      "execution_count": 1,
      "metadata": {
        "id": "jM5P5fCIALr8",
        "outputId": "132c0a13-4fe4-4264-de6a-7ddaaffe3814",
        "colab": {
          "base_uri": "https://localhost:8080/"
        }
      },
      "outputs": [
        {
          "output_type": "stream",
          "name": "stdout",
          "text": [
            "真陽性 (TP): 4\n",
            "真陰性 (TN): 4\n",
            "假陽性 (FP): 1\n",
            "假陰性 (FN): 1\n",
            "手動計算準確率: 0.80\n",
            "使用 sklearn 計算準確率: 0.80\n"
          ]
        }
      ],
      "source": [
        "# 導入必要的庫\n",
        "from sklearn.metrics import accuracy_score\n",
        "\n",
        "# 假設數據：垃圾郵件檢測的情境\n",
        "# 真實標籤 (1 表示垃圾郵件，0 表示非垃圾郵件)\n",
        "y_true = [1, 0, 1, 1, 0, 0, 1, 0, 1, 0]  # 10 個樣本的真實標籤\n",
        "# 模型預測標籤\n",
        "y_pred = [1, 0, 1, 0, 0, 0, 1, 1, 1, 0]  # 模型對這 10 個樣本的預測\n",
        "\n",
        "# 計算 TP, TN, FP, FN\n",
        "TP = sum((t == 1 and p == 1) for t, p in zip(y_true, y_pred))  # 正確預測為正類\n",
        "TN = sum((t == 0 and p == 0) for t, p in zip(y_true, y_pred))  # 正確預測為負類\n",
        "FP = sum((t == 0 and p == 1) for t, p in zip(y_true, y_pred))  # 錯誤預測為正類\n",
        "FN = sum((t == 1 and p == 0) for t, p in zip(y_true, y_pred))  # 錯誤預測為負類\n",
        "\n",
        "# 輸出各項結果\n",
        "print(f\"真陽性 (TP): {TP}\")  # 正確識別的垃圾郵件數\n",
        "print(f\"真陰性 (TN): {TN}\")  # 正確識別的非垃圾郵件數\n",
        "print(f\"假陽性 (FP): {FP}\")  # 錯誤標記為垃圾郵件的非垃圾郵件數\n",
        "print(f\"假陰性 (FN): {FN}\")  # 錯誤標記為非垃圾郵件的垃圾郵件數\n",
        "\n",
        "# 計算準確率\n",
        "accuracy = (TP + TN) / (TP + TN + FP + FN)\n",
        "print(f\"手動計算準確率: {accuracy:.2f}\")\n",
        "\n",
        "# 使用 sklearn 的 accuracy_score 驗證\n",
        "sklearn_accuracy = accuracy_score(y_true, y_pred)\n",
        "print(f\"使用 sklearn 計算準確率: {sklearn_accuracy:.2f}\")"
      ],
      "id": "jM5P5fCIALr8"
    },
    {
      "cell_type": "markdown",
      "id": "becf9a9b",
      "metadata": {
        "id": "becf9a9b"
      },
      "source": [
        "### 程式碼說明\n",
        "1. 假數據：模擬垃圾郵件檢測，10 個樣本的真實標籤 (y_true) 和模型預測標籤 (y_pred)，其中 1 表示垃圾郵件，0 表示非垃圾郵件。\n",
        "\n",
        "2. **計算混淆矩陣元素**：\n",
        "    - **TP（真陽性）**：正確預測為垃圾郵件的樣本數。\n",
        "    - **TN（真陰性）**：正確預測為非垃圾郵件的樣本數。\n",
        "    - **FP（假陽性）**：錯誤預測為垃圾郵件的非垃圾郵件數。\n",
        "    - **FN（假陰性）**：錯誤預測為非垃圾郵件的垃圾郵件數。\n",
        "\n",
        "3. **準確率計算**：根據公式 Accuracy = (TP + TN) / (TP + TN + FP + FN) 計算，並與 sklearn 的 accuracy_score 結果進行驗證。\n",
        "\n",
        "4. **輸出結果**：顯示 TP、TN、FP、FN 和準確率"
      ]
    },
    {
      "cell_type": "markdown",
      "id": "c2660423",
      "metadata": {
        "id": "c2660423"
      },
      "source": [
        "### 預期輸出\n",
        "假設運行上述程式碼，輸出可能如下：  \n",
        "\n",
        "```\n",
        "真陽性 (TP): 4\n",
        "真陰性 (TN): 4\n",
        "假陽性 (FP): 1\n",
        "假陰性 (FN): 1\n",
        "手動計算準確率: 0.80\n",
        "使用 sklearn 計算準確率: 0.80\n",
        "```"
      ]
    },
    {
      "cell_type": "markdown",
      "id": "808226a6",
      "metadata": {
        "id": "808226a6"
      },
      "source": [
        "### 學習建議\n",
        "\n",
        "- **數據均衡性**：可提醒學生此範例中的正負類樣本數接近（5 個正類，5 個負類），因此準確率是合適的評估指標。  \n",
        "- **不均衡數據的限制**：可進一步提供不均衡數據的範例（例如 9 個負類，1 個正類），讓學生觀察準確率的誤導性。  \n",
        "- **視覺化**：使用 seaborn 或 matplotlib 繪製混淆矩陣，增強對 TP、TN、FP、FN 的理解。"
      ]
    }
  ],
  "metadata": {
    "kernelspec": {
      "display_name": "base",
      "language": "python",
      "name": "python3"
    },
    "language_info": {
      "codemirror_mode": {
        "name": "ipython",
        "version": 3
      },
      "file_extension": ".py",
      "mimetype": "text/x-python",
      "name": "python",
      "nbconvert_exporter": "python",
      "pygments_lexer": "ipython3",
      "version": "3.12.2"
    },
    "colab": {
      "provenance": [],
      "include_colab_link": true
    }
  },
  "nbformat": 4,
  "nbformat_minor": 5
}