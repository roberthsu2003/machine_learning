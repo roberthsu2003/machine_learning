{
 "cells": [
  {
   "cell_type": "markdown",
   "id": "f4cd4f4c",
   "metadata": {},
   "source": [
    "### AUC-ROC 曲線"
   ]
  },
  {
   "cell_type": "code",
   "execution_count": null,
   "id": "1f0341f0",
   "metadata": {},
   "outputs": [],
   "source": [
    "# 導入必要的庫\n",
    "import numpy as np\n",
    "import matplotlib.pyplot as plt\n",
    "from sklearn.metrics import roc_curve, auc\n",
    "\n",
    "# 假設數據：信用風險評估的情境\n",
    "# 真實標籤 (1 表示高風險客戶，0 表示低風險客戶)\n",
    "y_true = [1, 0, 1, 0, 1, 0, 0, 1, 0, 1]  # 10 個樣本的真實標籤\n",
    "# 模型預測的概率分數（介於 0 到 1 之間）\n",
    "y_scores = [0.9, 0.1, 0.8, 0.4, 0.7, 0.2, 0.3, 0.6, 0.5, 0.85]  # 模型對每個樣本的預測概率\n",
    "\n",
    "# 計算 ROC 曲線的參數\n",
    "fpr, tpr, thresholds = roc_curve(y_true, y_scores)  # 假陽性率 (FPR) 和真陽性率 (TPR)\n",
    "roc_auc = auc(fpr, tpr)  # 計算 AUC 值\n",
    "\n",
    "# 繪製 ROC 曲線\n",
    "plt.figure(figsize=(8, 6))\n",
    "plt.plot(fpr, tpr, color='blue', lw=2, label=f'ROC 曲線 (AUC = {roc_auc:.2f})')  # 繪製 ROC 曲線\n",
    "plt.plot([0, 1], [0, 1], color='gray', linestyle='--')  # 繪製隨機猜測的對角線\n",
    "plt.xlim([0.0, 1.0])\n",
    "plt.ylim([0.0, 1.05])\n",
    "plt.xlabel('假陽性率 (False Positive Rate)')\n",
    "plt.ylabel('真陽性率 (True Positive Rate)')\n",
    "plt.title('ROC 曲線 - 信用風險評估')\n",
    "plt.legend(loc=\"lower right\")\n",
    "plt.grid(True)\n",
    "\n",
    "# 保存 ROC 曲線圖\n",
    "plt.savefig('roc_curve.png')\n",
    "plt.close()\n",
    "\n",
    "# 輸出 AUC 值\n",
    "print(f\"AUC 值: {roc_auc:.2f}\")"
   ]
  },
  {
   "cell_type": "markdown",
   "id": "142b295f",
   "metadata": {},
   "source": [
    "### 程式碼說明\n",
    "- **假數據**：模擬信用風險評估情境，10 個樣本的真實標籤 (y_true) 和模型預測的概率分數 (y_scores)，其中 1 表示高風險客戶，0 表示低風險客戶。概率分數介於 0 到 1，反映模型對每個樣本屬於正類的信心。\n",
    "- **ROC 曲線計算**：使用 sklearn.metrics.roc_curve 計算假陽性率（FPR）和真陽性率（TPR），並通過 auc 函數計算 ROC 曲線下的面積（AUC）。\n",
    "- **繪製 ROC 曲線**：使用 matplotlib 繪製 ROC 曲線，並添加隨機猜測的對角線（AUC = 0.5）作為參考。曲線圖保存為 roc_curve.png。\n",
    "- **輸出結果**：顯示 AUC 值，幫助學生理解模型的區分能力（AUC 越接近 1，模型性能越好）。"
   ]
  },
  {
   "cell_type": "markdown",
   "id": "37532e27",
   "metadata": {},
   "source": [
    "### 預期輸出\n",
    "假設運行上述程式碼，輸出可能如下：\n",
    "\n",
    "```\n",
    "AUC 值: 0.90\n",
    "```\n",
    "此外，程式碼會生成一個名為 roc_curve.png 的圖檔，顯示 ROC 曲線，曲線上方標註 AUC 值。"
   ]
  },
  {
   "cell_type": "markdown",
   "id": "0a987e45",
   "metadata": {},
   "source": [
    "### 教學建議\n",
    "- **AUC-ROC 的意義**：可強調 AUC 值反映模型在不同閾值下區分正負類的能力，例如在信用風險評估中，AUC 越高表示模型越能有效區分高風險和低風險客戶。\n",
    "**曲線解讀**：可觀察 ROC 曲線的形狀，靠近左上角表示模型性能更好；對角線表示隨機猜測（AUC = 0.5）。\n",
    "**限制的討論**：可提醒在高度不均衡數據集（例如高風險客戶很少）中，AUC-ROC 可能過於樂觀，建議結合精確率-召回率曲線。\n",
    "**擴展練習**：可建議學生修改 y_scores（例如降低預測概率的準確性），觀察 AUC 值和 ROC 曲線的變化，或比較多個模型的 ROC 曲線。\n",
    "**視覺化增強**：可建議學生使用不同顏色繪製多條 ROC 曲線（模擬不同模型），或在圖中標註特定閾值點。"
   ]
  }
 ],
 "metadata": {
  "kernelspec": {
   "display_name": "base",
   "language": "python",
   "name": "python3"
  },
  "language_info": {
   "name": "python",
   "version": "3.12.2"
  }
 },
 "nbformat": 4,
 "nbformat_minor": 5
}
