{
  "cells": [
    {
      "cell_type": "markdown",
      "id": "5e278cc1",
      "metadata": {
        "colab_type": "text",
        "id": "view-in-github"
      },
      "source": [
        "<a href=\"https://colab.research.google.com/github/roberthsu2003/machine_learning/blob/main/%E8%A9%95%E4%BC%B0%E6%8C%87%E6%A8%99/recall.ipynb\" target=\"_parent\"><img src=\"https://colab.research.google.com/assets/colab-badge.svg\" alt=\"Open In Colab\"/></a>"
      ]
    },
    {
      "cell_type": "markdown",
      "id": "195ac709",
      "metadata": {
        "id": "195ac709"
      },
      "source": [
        "### recall"
      ]
    },
    {
      "cell_type": "code",
      "execution_count": 1,
      "id": "6fe3aa1c",
      "metadata": {
        "colab": {
          "base_uri": "https://localhost:8080/"
        },
        "id": "6fe3aa1c",
        "outputId": "5b2dbd50-9a00-4dc0-898b-595cf82adf40"
      },
      "outputs": [
        {
          "name": "stdout",
          "output_type": "stream",
          "text": [
            "真陽性 (TP): 4\n",
            "假陰性 (FN): 1\n",
            "手動計算召回率: 0.80\n",
            "使用 sklearn 計算召回率: 0.80\n"
          ]
        }
      ],
      "source": [
        "# 導入必要的庫\n",
        "from sklearn.metrics import recall_score\n",
        "\n",
        "# 假設數據：癌症篩查的情境\n",
        "# 真實標籤 (1 表示癌症患者，0 表示非癌症患者)\n",
        "y_true = [1, 0, 1, 0, 1, 0, 0, 1, 0, 1]  # 10 個樣本的真實標籤\n",
        "# 模型預測標籤\n",
        "y_pred = [1, 0, 1, 1, 1, 0, 0, 0, 0, 1]  # 模型對這 10 個樣本的預測\n",
        "\n",
        "# 計算 TP 和 FN\n",
        "TP = sum((t == 1 and p == 1) for t, p in zip(y_true, y_pred))  # 正確預測為癌症患者\n",
        "FN = sum((t == 1 and p == 0) for t, p in zip(y_true, y_pred))  # 錯誤預測為非癌症患者的癌症患者\n",
        "\n",
        "# 輸出各項結果\n",
        "print(f\"真陽性 (TP): {TP}\")  # 正確識別的癌症患者數\n",
        "print(f\"假陰性 (FN): {FN}\")  # 錯誤標記為非癌症患者的癌症患者數\n",
        "\n",
        "# 計算召回率\n",
        "recall = TP / (TP + FN) if (TP + FN) > 0 else 0  # 避免除以零的情況\n",
        "print(f\"手動計算召回率: {recall:.2f}\")\n",
        "\n",
        "# 使用 sklearn 的 recall_score 驗證\n",
        "sklearn_recall = recall_score(y_true, y_pred)\n",
        "print(f\"使用 sklearn 計算召回率: {sklearn_recall:.2f}\")"
      ]
    },
    {
      "cell_type": "markdown",
      "id": "65f2e610",
      "metadata": {
        "id": "65f2e610"
      },
      "source": [
        "### 程式碼說明\n",
        "1. **假數據**：模擬癌症篩查情境，10 個樣本的真實標籤 (y_true) 和模型預測標籤 (y_pred)，其中 1 表示癌症患者，0 表示非癌症患者。\n",
        "2. **計算混淆矩陣元素**：\n",
        "    - TP（真陽性）：正確預測為癌症患者的樣本數。\n",
        "    - FN（假陰性）：錯誤預測為非癌症患者的癌症患者數。\n",
        "3. **召回率計算**：根據公式 Recall = TP / (TP + FN) 計算，並與 sklearn 的 recall_score 結果進行驗證。程式碼包含除以零的防範措施。\n",
        "4. **輸出結果**：顯示 TP、FN 和召回率，幫助學生理解召回率的含義及其在癌症篩查中的重要性。"
      ]
    },
    {
      "cell_type": "markdown",
      "id": "214ab7a0",
      "metadata": {
        "id": "214ab7a0"
      },
      "source": [
        "### 預期輸出\n",
        "假設運行上述程式碼，輸出可能如下：\n",
        "\n",
        "```\n",
        "真陽性 (TP): 4\n",
        "假陰性 (FN): 1\n",
        "手動計算召回率: 0.80\n",
        "使用 sklearn 計算召回率: 0.80\n",
        "```"
      ]
    },
    {
      "cell_type": "markdown",
      "id": "96581c28",
      "metadata": {
        "id": "96581c28"
      },
      "source": [
        "### 學習建議\n",
        "- **召回率的重要性**：可強調在癌症篩查中，高召回率確保盡可能多的癌症患者被識別出來，減少漏診（FN）帶來的嚴重後果。\n",
        "- **限制的討論**：可嘗試召回率不考慮假正例（FP，例如將健康人誤診為患者），並建議結合精確率（Precision）進行全面評估。\n",
        "- **不均衡數據**：可說明癌症篩查通常是不均衡數據（癌症患者遠少於健康人），召回率特別適合這種場景。\n",
        "- **擴展練習**：可建議學生修改 y_pred（例如增加 FN），觀察召回率的變化，或使用 seaborn 繪製混淆矩陣以視覺化 TP 和 FN。"
      ]
    }
  ],
  "metadata": {
    "colab": {
      "include_colab_link": true,
      "provenance": []
    },
    "kernelspec": {
      "display_name": "base",
      "language": "python",
      "name": "python3"
    },
    "language_info": {
      "name": "python",
      "version": "3.12.2"
    }
  },
  "nbformat": 4,
  "nbformat_minor": 5
}
