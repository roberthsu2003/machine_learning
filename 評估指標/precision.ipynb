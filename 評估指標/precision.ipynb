{
 "cells": [
  {
   "cell_type": "markdown",
   "id": "f3d29ca7",
   "metadata": {},
   "source": [
    "# 精確率(precision)"
   ]
  },
  {
   "cell_type": "code",
   "execution_count": 1,
   "id": "e5202d68",
   "metadata": {},
   "outputs": [
    {
     "name": "stdout",
     "output_type": "stream",
     "text": [
      "精確率：0.83\n",
      "精確率：1.00\n",
      "精確率：0.00\n",
      "精確率：0.00\n"
     ]
    }
   ],
   "source": [
    "def calculate_precision(true_positives, false_positives):\n",
    "    \"\"\"\n",
    "    計算分類模型的精確率。\n",
    "\n",
    "    精確率是指正確預測為正的觀測值與所有預測為正的觀測值的比率。\n",
    "    它回答了這個問題：「在所有被標記為正的項目中，有多少實際上是正的？」\n",
    "\n",
    "    參數：\n",
    "        true_positives：真陽性預測的數量。\n",
    "        false_positives：偽陽性預測的數量。\n",
    "\n",
    "    返回：\n",
    "        精確率分數（一個介於 0 和 1 之間的浮點數），如果沒有預測為正的觀測值，則返回 0。\n",
    "    \"\"\"\n",
    "    if true_positives + false_positives == 0:\n",
    "        return 0  # 如果沒有預測為正的觀測值，避免除以零\n",
    "    precision = true_positives / (true_positives + false_positives)\n",
    "    return precision\n",
    "\n",
    "# 範例用法：\n",
    "true_positives = 50\n",
    "false_positives = 10\n",
    "precision = calculate_precision(true_positives, false_positives)\n",
    "print(f\"精確率：{precision:.2f}\")  # 輸出：精確率：0.83\n",
    "\n",
    "true_positives = 20\n",
    "false_positives = 0\n",
    "precision = calculate_precision(true_positives, false_positives)\n",
    "print(f\"精確率：{precision:.2f}\")  # 輸出：精確率：1.00\n",
    "\n",
    "true_positives = 0\n",
    "false_positives = 30\n",
    "precision = calculate_precision(true_positives, false_positives)\n",
    "print(f\"精確率：{precision:.2f}\")  # 輸出：精確率：0.00\n",
    "\n",
    "true_positives = 0\n",
    "false_positives = 0\n",
    "precision = calculate_precision(true_positives, false_positives)\n",
    "print(f\"精確率：{precision:.2f}\")  # 輸出：精確率：0.00\n"
   ]
  }
 ],
 "metadata": {
  "kernelspec": {
   "display_name": "base",
   "language": "python",
   "name": "python3"
  },
  "language_info": {
   "codemirror_mode": {
    "name": "ipython",
    "version": 3
   },
   "file_extension": ".py",
   "mimetype": "text/x-python",
   "name": "python",
   "nbconvert_exporter": "python",
   "pygments_lexer": "ipython3",
   "version": "3.12.2"
  }
 },
 "nbformat": 4,
 "nbformat_minor": 5
}
