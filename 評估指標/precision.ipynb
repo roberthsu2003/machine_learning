{
  "cells": [
    {
      "cell_type": "markdown",
      "metadata": {
        "id": "view-in-github",
        "colab_type": "text"
      },
      "source": [
        "<a href=\"https://colab.research.google.com/github/roberthsu2003/machine_learning/blob/main/%E8%A9%95%E4%BC%B0%E6%8C%87%E6%A8%99/precision.ipynb\" target=\"_parent\"><img src=\"https://colab.research.google.com/assets/colab-badge.svg\" alt=\"Open In Colab\"/></a>"
      ]
    },
    {
      "cell_type": "markdown",
      "id": "f3d29ca7",
      "metadata": {
        "id": "f3d29ca7"
      },
      "source": [
        "# 精確率(precision)"
      ]
    },
    {
      "cell_type": "code",
      "execution_count": 1,
      "id": "e5202d68",
      "metadata": {
        "id": "e5202d68",
        "outputId": "43cf9aac-ad1f-40d2-d7f5-1ee2a64830b5",
        "colab": {
          "base_uri": "https://localhost:8080/"
        }
      },
      "outputs": [
        {
          "output_type": "stream",
          "name": "stdout",
          "text": [
            "真陽性 (TP): 3\n",
            "假陽性 (FP): 1\n",
            "手動計算精確率: 0.75\n",
            "使用 sklearn 計算精確率: 0.75\n"
          ]
        }
      ],
      "source": [
        "# 導入必要的庫\n",
        "from sklearn.metrics import precision_score\n",
        "\n",
        "# 假設數據：詐欺檢測的情境\n",
        "# 真實標籤 (1 表示詐欺交易，0 表示正常交易)\n",
        "y_true = [1, 0, 0, 1, 0, 1, 0, 0, 1, 0]  # 10 個樣本的真實標籤\n",
        "# 模型預測標籤\n",
        "y_pred = [1, 0, 1, 1, 0, 0, 0, 0, 1, 0]  # 模型對這 10 個樣本的預測\n",
        "\n",
        "# 計算 TP 和 FP\n",
        "TP = sum((t == 1 and p == 1) for t, p in zip(y_true, y_pred))  # 正確預測為詐欺交易\n",
        "FP = sum((t == 0 and p == 1) for t, p in zip(y_true, y_pred))  # 錯誤預測為詐欺交易的正常交易\n",
        "\n",
        "# 輸出各項結果\n",
        "print(f\"真陽性 (TP): {TP}\")  # 正確識別的詐欺交易數\n",
        "print(f\"假陽性 (FP): {FP}\")  # 錯誤標記為詐欺交易的正常交易數\n",
        "\n",
        "# 計算精確率\n",
        "precision = TP / (TP + FP) if (TP + FP) > 0 else 0  # 避免除以零的情況\n",
        "print(f\"手動計算精確率: {precision:.2f}\")\n",
        "\n",
        "# 使用 sklearn 的 precision_score 驗證\n",
        "sklearn_precision = precision_score(y_true, y_pred)\n",
        "print(f\"使用 sklearn 計算精確率: {sklearn_precision:.2f}\")"
      ]
    },
    {
      "cell_type": "markdown",
      "id": "f7babc1d",
      "metadata": {
        "id": "f7babc1d"
      },
      "source": [
        "### 程式碼說明\n",
        "1. **假數據**：模擬詐欺檢測情境，10 個樣本的真實標籤 (y_true) 和模型預測標籤 (y_pred)，其中 1 表示詐欺交易，0 表示正常交易。\n",
        "2. **計算混淆矩陣元素**：\n",
        "    - TP（真陽性）：正確預測為詐欺交易的樣本數。\n",
        "    - FP（假陽性）：錯誤預測為詐欺交易的正常交易數。\n",
        "3. **精確率計算**：根據公式 Precision = TP / (TP + FP) 計算，並與 sklearn 的 precision_score 結果進行驗證。程式碼包含除以零的防範措施。  \n",
        "4. **輸出結果**：顯示 TP、FP 和精確率，幫助學生理解精確率的含義及其在詐欺檢測中的重要性。"
      ]
    },
    {
      "cell_type": "markdown",
      "id": "6deb26cf",
      "metadata": {
        "id": "6deb26cf"
      },
      "source": [
        "### 預期輸出\n",
        "假設運行上述程式碼，輸出可能如下：\n",
        "\n",
        "```\n",
        "真陽性 (TP): 3\n",
        "假陽性 (FP): 1\n",
        "手動計算精確率: 0.75\n",
        "使用 sklearn 計算精確率: 0.75\n",
        "```"
      ]
    },
    {
      "cell_type": "markdown",
      "id": "da83c516",
      "metadata": {
        "id": "da83c516"
      },
      "source": [
        "### 學習建議\n",
        "- **精確率的重要性**：可強調在詐欺檢測中，高精確率意味著模型標記為詐欺的交易有很高比例是正確的，減少誤報（FP）帶來的調查成本。\n",
        "\n",
        "- **限制的討論**：可提醒學生精確率不考慮漏報（FN，例如遺漏的詐欺交易），並建議結合召回率（Recall）進行全面評估。\n",
        "\n",
        "- **不均衡數據**：可說明詐欺檢測通常是不均衡數據（詐欺交易遠少於正常交易），精確率特別適合這種場景。\n",
        "\n",
        "- **擴展練習**：可建議學生修改 y_pred（例如增加 FP），觀察精確率的變化，或使用 seaborn 繪製混淆矩陣以視覺化 TP 和 FP。"
      ]
    }
  ],
  "metadata": {
    "kernelspec": {
      "display_name": "base",
      "language": "python",
      "name": "python3"
    },
    "language_info": {
      "codemirror_mode": {
        "name": "ipython",
        "version": 3
      },
      "file_extension": ".py",
      "mimetype": "text/x-python",
      "name": "python",
      "nbconvert_exporter": "python",
      "pygments_lexer": "ipython3",
      "version": "3.12.2"
    },
    "colab": {
      "provenance": [],
      "include_colab_link": true
    }
  },
  "nbformat": 4,
  "nbformat_minor": 5
}