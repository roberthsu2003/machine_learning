{
  "cells": [
    {
      "cell_type": "markdown",
      "metadata": {
        "id": "view-in-github",
        "colab_type": "text"
      },
      "source": [
        "<a href=\"https://colab.research.google.com/github/roberthsu2003/machine_learning/blob/main/%E8%A9%95%E4%BC%B0%E6%8C%87%E6%A8%99/f1_score.ipynb\" target=\"_parent\"><img src=\"https://colab.research.google.com/assets/colab-badge.svg\" alt=\"Open In Colab\"/></a>"
      ]
    },
    {
      "cell_type": "markdown",
      "id": "ffab866e",
      "metadata": {
        "id": "ffab866e"
      },
      "source": [
        "### f1_score"
      ]
    },
    {
      "cell_type": "code",
      "execution_count": 1,
      "id": "409466ad",
      "metadata": {
        "id": "409466ad",
        "outputId": "b28517d1-1192-44c0-e071-97747e111857",
        "colab": {
          "base_uri": "https://localhost:8080/"
        }
      },
      "outputs": [
        {
          "output_type": "stream",
          "name": "stdout",
          "text": [
            "真陽性 (TP): 4\n",
            "假陽性 (FP): 2\n",
            "假陰性 (FN): 1\n",
            "精確率 (Precision): 0.67\n",
            "召回率 (Recall): 0.80\n",
            "手動計算 F1 分數: 0.73\n",
            "使用 sklearn 計算 F1 分數: 0.73\n"
          ]
        }
      ],
      "source": [
        "# 導入必要的庫\n",
        "from sklearn.metrics import precision_score, recall_score, f1_score\n",
        "\n",
        "# 假設數據：信息檢索的情境\n",
        "# 真實標籤 (1 表示相關結果，0 表示不相關結果)\n",
        "y_true = [1, 0, 1, 0, 1, 0, 1, 0, 0, 1]  # 10 個樣本的真實標籤\n",
        "# 模型預測標籤\n",
        "y_pred = [1, 0, 1, 1, 0, 0, 1, 0, 1, 1]  # 模型對這 10 個樣本的預測\n",
        "\n",
        "# 計算 TP, FP, FN\n",
        "TP = sum((t == 1 and p == 1) for t, p in zip(y_true, y_pred))  # 正確預測為相關結果\n",
        "FP = sum((t == 0 and p == 1) for t, p in zip(y_true, y_pred))  # 錯誤預測為相關結果的不相關結果\n",
        "FN = sum((t == 1 and p == 0) for t, p in zip(y_true, y_pred))  # 錯誤預測為不相關結果的相關結果\n",
        "\n",
        "# 計算精確率和召回率\n",
        "precision = TP / (TP + FP) if (TP + FP) > 0 else 0  # 精確率：正確相關結果佔預測相關結果的比例\n",
        "recall = TP / (TP + FN) if (TP + FN) > 0 else 0     # 召回率：正確相關結果佔實際相關結果的比例\n",
        "\n",
        "# 計算 F1 分數\n",
        "f1 = 2 * (precision * recall) / (precision + recall) if (precision + recall) > 0 else 0  # F1 分數公式\n",
        "\n",
        "# 輸出各項結果\n",
        "print(f\"真陽性 (TP): {TP}\")  # 正確識別的相關結果數\n",
        "print(f\"假陽性 (FP): {FP}\")  # 錯誤標記為相關結果的不相關結果數\n",
        "print(f\"假陰性 (FN): {FN}\")  # 錯誤標記為不相關結果的相關結果數\n",
        "print(f\"精確率 (Precision): {precision:.2f}\")\n",
        "print(f\"召回率 (Recall): {recall:.2f}\")\n",
        "print(f\"手動計算 F1 分數: {f1:.2f}\")\n",
        "\n",
        "# 使用 sklearn 的 f1_score 驗證\n",
        "sklearn_f1 = f1_score(y_true, y_pred)\n",
        "print(f\"使用 sklearn 計算 F1 分數: {sklearn_f1:.2f}\")"
      ]
    },
    {
      "cell_type": "markdown",
      "id": "36177a4c",
      "metadata": {
        "id": "36177a4c"
      },
      "source": [
        "### 程式碼說明\n",
        "1. **假數據**：模擬信息檢索情境，10 個樣本的真實標籤 (y_true) 和模型預測標籤 (y_pred)，其中 1 表示相關結果，0 表示不相關結果。\n",
        "2. **計算混淆矩陣元素**：\n",
        "    - TP（真陽性）：正確預測為相關結果的樣本數。\n",
        "    - FP（假陽性）：錯誤預測為相關結果的不相關結果數。\n",
        "    - FN（假陰性）：錯誤預測為不相關結果的相關結果數。\n",
        "3. **精確率與召回率**：分別計算精確率和召回率，作為 F1 分數的基礎。\n",
        "4. **F1 分數計算**：根據公式 F1-score = 2 * (Precision * Recall) / (Precision + Recall) 計算，並與 sklearn 的 f1_score 結果進行驗證。程式碼包含除以零的防範措施。\n",
        "5. **輸出結果**：顯示 TP、FP、FN、精確率、召回率和 F1 分數，幫助學生理解 F1 分數如何平衡精確率與召回率。"
      ]
    },
    {
      "cell_type": "markdown",
      "id": "2721f6ee",
      "metadata": {
        "id": "2721f6ee"
      },
      "source": [
        "### 預期輸出\n",
        "假設運行上述程式碼，輸出可能如下：\n",
        "\n",
        "```\n",
        "真陽性 (TP): 4\n",
        "假陽性 (FP): 2\n",
        "假陰性 (FN): 1\n",
        "精確率 (Precision): 0.67\n",
        "召回率 (Recall): 0.80\n",
        "手動計算 F1 分數: 0.73\n",
        "使用 sklearn 計算 F1 分數: 0.73\n",
        "```"
      ]
    },
    {
      "cell_type": "markdown",
      "id": "d07f086e",
      "metadata": {
        "id": "d07f086e"
      },
      "source": [
        "### 學習建議\n",
        "- **F1 分數的重要性**：可強調 F1 分數在信息檢索中平衡了返回相關結果（精確率）和涵蓋所有相關結果（召回率），適合需要同時關注假正例和假負例的場景。\n",
        "- **限制的討論**：可提醒若精確率或召回率之一更重要（例如醫療診斷更重視召回率），F1 分數可能不是最佳指標。\n",
        "- **數據調整練習** ：建議修改 y_pred（例如增加 FP 或 FN），觀察精確率、召回率和 F1 分數的變化。\n",
        "- **視覺化輔助**：可建議使用 seaborn 繪製混淆矩陣，或繪製精確率-召回率曲線（Precision-Recall Curve），以直觀展示 F1 分數的意義。"
      ]
    }
  ],
  "metadata": {
    "kernelspec": {
      "display_name": "base",
      "language": "python",
      "name": "python3"
    },
    "language_info": {
      "name": "python",
      "version": "3.12.2"
    },
    "colab": {
      "provenance": [],
      "include_colab_link": true
    }
  },
  "nbformat": 4,
  "nbformat_minor": 5
}