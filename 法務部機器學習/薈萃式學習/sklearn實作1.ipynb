{
 "cells": [
  {
   "cell_type": "code",
   "execution_count": null,
   "metadata": {},
   "outputs": [],
   "source": [
    "!pip install wget"
   ]
  },
  {
   "cell_type": "code",
   "execution_count": null,
   "metadata": {},
   "outputs": [],
   "source": [
    "#下載字型\n",
    "import wget\n",
    "wget.download(\"https://github.com/roberthsu2003/machine_learning/raw/refs/heads/main/source_data/ChineseFont.ttf\")"
   ]
  },
  {
   "cell_type": "code",
   "execution_count": 1,
   "metadata": {},
   "outputs": [
    {
     "name": "stdout",
     "output_type": "stream",
     "text": [
      "Hard Voting 模型準確度：0.90\n",
      "Soft Voting 模型準確度：0.77\n"
     ]
    }
   ],
   "source": [
    "import numpy as np\n",
    "import matplotlib.pyplot as plt\n",
    "from sklearn.datasets import load_iris\n",
    "from sklearn.model_selection import train_test_split\n",
    "from sklearn.linear_model import LogisticRegression\n",
    "from sklearn.tree import DecisionTreeClassifier\n",
    "from sklearn.svm import SVC\n",
    "from sklearn.ensemble import VotingClassifier\n",
    "from sklearn.metrics import accuracy_score\n",
    "import matplotlib as mlp\n",
    "from matplotlib.font_manager import fontManager\n",
    "\n",
    "fontManager.addfont('ChineseFont.ttf')\n",
    "mlp.rc('font', family='ChineseFont')\n",
    "\n",
    "# 1. 載入數據集\n",
    "iris = load_iris()\n",
    "X = iris.data[:, :2]  # 花萼長度和花萼寬度\n",
    "y = iris.target\n",
    "\n",
    "# 2. 分割訓練集和測試集\n",
    "X_train, X_test, y_train, y_test = train_test_split(X, y, test_size=0.2, random_state=42)\n",
    "\n",
    "# 3. 建立多個分類器\n",
    "clf1 = LogisticRegression(random_state=1)\n",
    "clf2 = DecisionTreeClassifier(random_state=1)\n",
    "clf3 = SVC(random_state=1, probability=True)  # 需要設置 probability=True 才能使用 soft voting\n",
    "\n",
    "# 4. 建立 VotingClassifier 模型\n",
    "eclf1 = VotingClassifier(estimators=[('lr', clf1), ('dt', clf2), ('svc', clf3)], voting='hard')  # hard voting\n",
    "eclf2 = VotingClassifier(estimators=[('lr', clf1), ('dt', clf2), ('svc', clf3)], voting='soft')  # soft voting\n",
    "\n",
    "# 5. 訓練模型\n",
    "eclf1.fit(X_train, y_train)\n",
    "eclf2.fit(X_train, y_train)\n",
    "\n",
    "# 6. 進行預測\n",
    "y_pred1 = eclf1.predict(X_test)\n",
    "y_pred2 = eclf2.predict(X_test)\n",
    "\n",
    "# 7. 評估模型\n",
    "accuracy1 = accuracy_score(y_test, y_pred1)\n",
    "accuracy2 = accuracy_score(y_test, y_pred2)\n",
    "print(f\"Hard Voting 模型準確度：{accuracy1:.2f}\")\n",
    "print(f\"Soft Voting 模型準確度：{accuracy2:.2f}\")\n",
    "\n",
    "# 8. 可視化決策邊界 (僅適用於二維數據，且需要更複雜的程式碼，這裡省略)\n",
    "# ..."
   ]
  }
 ],
 "metadata": {
  "kernelspec": {
   "display_name": "base",
   "language": "python",
   "name": "python3"
  },
  "language_info": {
   "codemirror_mode": {
    "name": "ipython",
    "version": 3
   },
   "file_extension": ".py",
   "mimetype": "text/x-python",
   "name": "python",
   "nbconvert_exporter": "python",
   "pygments_lexer": "ipython3",
   "version": "3.12.2"
  }
 },
 "nbformat": 4,
 "nbformat_minor": 2
}
