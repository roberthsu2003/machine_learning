{
 "cells": [
  {
   "cell_type": "markdown",
   "metadata": {},
   "source": [
    "# k-means演算法"
   ]
  },
  {
   "cell_type": "code",
   "execution_count": null,
   "metadata": {},
   "outputs": [],
   "source": [
    "import numpy as np\n",
    "import matplotlib.pyplot as plt\n",
    "from sklearn.cluster import KMeans\n",
    "from sklearn.datasets import make_blobs\n",
    "\n",
    "# 產生範例資料\n",
    "X, y = make_blobs(n_samples=300, centers=4, cluster_std=0.60, random_state=0)\n",
    "print(X[:, 0])\n",
    "\n",
    "# 初始化 K-means 模型\n",
    "kmeans = KMeans(n_clusters=4, random_state=0)\n",
    "\n",
    "# 訓練模型並預測群集\n",
    "y_kmeans = kmeans.fit_predict(X)\n",
    "\n",
    "# 繪製結果\n",
    "plt.scatter(X[:, 0], X[:, 1], c=y_kmeans, s=50, cmap='viridis')\n",
    "\n",
    "centers = kmeans.cluster_centers_\n",
    "plt.scatter(centers[:, 0], centers[:, 1], c='red', s=200, alpha=0.75);\n",
    "plt.show()"
   ]
  },
  {
   "cell_type": "markdown",
   "metadata": {},
   "source": [
    "## 實作說明\n",
    "- 資料產生:\n",
    "    - 使用 `sklearn.datasets.make_blobs` 產生一個包含 300 個資料點、4 個群集的範例資料集。\n",
    "- 模型初始化：\n",
    "    - 使用 `sklearn.cluster.KMeans` 初始化 K-means 模型，並設定 `n_clusters=4`，表示將資料分成 4 個群集。\n",
    "- 模型訓練與預測：\n",
    "    - 使用 `kmeans.fit_predict(X)` 訓練模型並預測每個資料點所屬的群集。\n",
    "- 結果繪製:\n",
    "    - 使用 `matplotlib.pyplot.scatter` 繪製散佈圖，以不同的顏色標記不同的群集。\n",
    "    - 繪製群集中心點。\n",
    "\n",
    "## 實作圖表\n",
    "上述程式碼會產生一個散佈圖，顯示分群結果。圖中：\n",
    "\n",
    "- 不同顏色的點代表不同的群集。\n",
    "- 紅色的大點代表每個群集的中心點。\n",
    "\n",
    "## K-means 演算法的用途\n",
    "K-means 演算法是一種常用的集群分析方法，其主要用途包括：\n",
    "\n",
    "- 客戶分群:\n",
    "    - 根據客戶的購買行為、人口統計資料等，將客戶分成不同的群體，以便進行更有針對性的行銷活動。\n",
    "\n",
    "- 圖像分割：\n",
    "    - 將圖像中的像素分組，以便識別不同的物體或區域。\n",
    "\n",
    "- 文件分類：\n",
    "    - 根據文件的內容，將其分成不同的主題或類別。 \n",
    "\n",
    "- 異常偵測：\n",
    "    - 識別與大多數資料點顯著不同的異常值。\n",
    "\n",
    "- 資料壓縮:\n",
    "    - 少數據的複雜性，在不損失過多訊息的情況下，減少數據量。\n",
    "\n",
    "## K-means 演算法的優缺點\n",
    "\n",
    "- 優點：\n",
    "    1. 簡單易懂，容易實現。\n",
    "    2. 計算效率高，適用於大型資料集。\n",
    "- 缺點：\n",
    "    1. 需要預先指定群集數量 K。\n",
    "    2. 對初始群集中心敏感，不同的初始值可能導致不同的結果。\n",
    "    3. 對雜訊和異常值敏感。\n",
    "    4. 只適用於數值型數據。"
   ]
  }
 ],
 "metadata": {
  "kernelspec": {
   "display_name": "base",
   "language": "python",
   "name": "python3"
  },
  "language_info": {
   "codemirror_mode": {
    "name": "ipython",
    "version": 3
   },
   "file_extension": ".py",
   "mimetype": "text/x-python",
   "name": "python",
   "nbconvert_exporter": "python",
   "pygments_lexer": "ipython3",
   "version": "3.12.2"
  }
 },
 "nbformat": 4,
 "nbformat_minor": 2
}
