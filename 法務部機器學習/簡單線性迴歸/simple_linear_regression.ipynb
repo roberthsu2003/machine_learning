{
  "cells": [
    {
      "cell_type": "markdown",
      "metadata": {
        "id": "view-in-github",
        "colab_type": "text"
      },
      "source": [
        "<a href=\"https://colab.research.google.com/github/roberthsu2003/machine_learning/blob/main/%E6%B3%95%E5%8B%99%E9%83%A8%E6%A9%9F%E5%99%A8%E5%AD%B8%E7%BF%92/%E7%B0%A1%E5%96%AE%E7%B7%9A%E6%80%A7%E8%BF%B4%E6%AD%B8/simple_linear_regression.ipynb\" target=\"_parent\"><img src=\"https://colab.research.google.com/assets/colab-badge.svg\" alt=\"Open In Colab\"/></a>"
      ]
    },
    {
      "cell_type": "markdown",
      "metadata": {
        "id": "TnpO5gCFod7C"
      },
      "source": [
        "# 簡單線性迴歸(Simple Linear Regression)\n"
      ]
    },
    {
      "cell_type": "code",
      "execution_count": 18,
      "metadata": {
        "id": "MloEVlMkod7D",
        "outputId": "194a26a7-d23c-4867-d018-3ddea3fd3829",
        "colab": {
          "base_uri": "https://localhost:8080/"
        }
      },
      "outputs": [
        {
          "output_type": "stream",
          "name": "stdout",
          "text": [
            "Requirement already satisfied: panda in /usr/local/lib/python3.11/dist-packages (0.3.1)\n",
            "Requirement already satisfied: wget in /usr/local/lib/python3.11/dist-packages (3.2)\n",
            "Requirement already satisfied: ipywidgets in /usr/local/lib/python3.11/dist-packages (7.7.1)\n",
            "Requirement already satisfied: setuptools in /usr/local/lib/python3.11/dist-packages (from panda) (75.1.0)\n",
            "Requirement already satisfied: requests in /usr/local/lib/python3.11/dist-packages (from panda) (2.32.3)\n",
            "Requirement already satisfied: ipykernel>=4.5.1 in /usr/local/lib/python3.11/dist-packages (from ipywidgets) (6.17.1)\n",
            "Requirement already satisfied: ipython-genutils~=0.2.0 in /usr/local/lib/python3.11/dist-packages (from ipywidgets) (0.2.0)\n",
            "Requirement already satisfied: traitlets>=4.3.1 in /usr/local/lib/python3.11/dist-packages (from ipywidgets) (5.7.1)\n",
            "Requirement already satisfied: widgetsnbextension~=3.6.0 in /usr/local/lib/python3.11/dist-packages (from ipywidgets) (3.6.10)\n",
            "Requirement already satisfied: ipython>=4.0.0 in /usr/local/lib/python3.11/dist-packages (from ipywidgets) (7.34.0)\n",
            "Requirement already satisfied: jupyterlab-widgets>=1.0.0 in /usr/local/lib/python3.11/dist-packages (from ipywidgets) (3.0.13)\n",
            "Requirement already satisfied: debugpy>=1.0 in /usr/local/lib/python3.11/dist-packages (from ipykernel>=4.5.1->ipywidgets) (1.8.0)\n",
            "Requirement already satisfied: jupyter-client>=6.1.12 in /usr/local/lib/python3.11/dist-packages (from ipykernel>=4.5.1->ipywidgets) (6.1.12)\n",
            "Requirement already satisfied: matplotlib-inline>=0.1 in /usr/local/lib/python3.11/dist-packages (from ipykernel>=4.5.1->ipywidgets) (0.1.7)\n",
            "Requirement already satisfied: nest-asyncio in /usr/local/lib/python3.11/dist-packages (from ipykernel>=4.5.1->ipywidgets) (1.6.0)\n",
            "Requirement already satisfied: packaging in /usr/local/lib/python3.11/dist-packages (from ipykernel>=4.5.1->ipywidgets) (24.2)\n",
            "Requirement already satisfied: psutil in /usr/local/lib/python3.11/dist-packages (from ipykernel>=4.5.1->ipywidgets) (5.9.5)\n",
            "Requirement already satisfied: pyzmq>=17 in /usr/local/lib/python3.11/dist-packages (from ipykernel>=4.5.1->ipywidgets) (24.0.1)\n",
            "Requirement already satisfied: tornado>=6.1 in /usr/local/lib/python3.11/dist-packages (from ipykernel>=4.5.1->ipywidgets) (6.4.2)\n",
            "Collecting jedi>=0.16 (from ipython>=4.0.0->ipywidgets)\n",
            "  Downloading jedi-0.19.2-py2.py3-none-any.whl.metadata (22 kB)\n",
            "Requirement already satisfied: decorator in /usr/local/lib/python3.11/dist-packages (from ipython>=4.0.0->ipywidgets) (4.4.2)\n",
            "Requirement already satisfied: pickleshare in /usr/local/lib/python3.11/dist-packages (from ipython>=4.0.0->ipywidgets) (0.7.5)\n",
            "Requirement already satisfied: prompt-toolkit!=3.0.0,!=3.0.1,<3.1.0,>=2.0.0 in /usr/local/lib/python3.11/dist-packages (from ipython>=4.0.0->ipywidgets) (3.0.50)\n",
            "Requirement already satisfied: pygments in /usr/local/lib/python3.11/dist-packages (from ipython>=4.0.0->ipywidgets) (2.18.0)\n",
            "Requirement already satisfied: backcall in /usr/local/lib/python3.11/dist-packages (from ipython>=4.0.0->ipywidgets) (0.2.0)\n",
            "Requirement already satisfied: pexpect>4.3 in /usr/local/lib/python3.11/dist-packages (from ipython>=4.0.0->ipywidgets) (4.9.0)\n",
            "Requirement already satisfied: notebook>=4.4.1 in /usr/local/lib/python3.11/dist-packages (from widgetsnbextension~=3.6.0->ipywidgets) (6.5.5)\n",
            "Requirement already satisfied: charset-normalizer<4,>=2 in /usr/local/lib/python3.11/dist-packages (from requests->panda) (3.4.1)\n",
            "Requirement already satisfied: idna<4,>=2.5 in /usr/local/lib/python3.11/dist-packages (from requests->panda) (3.10)\n",
            "Requirement already satisfied: urllib3<3,>=1.21.1 in /usr/local/lib/python3.11/dist-packages (from requests->panda) (2.3.0)\n",
            "Requirement already satisfied: certifi>=2017.4.17 in /usr/local/lib/python3.11/dist-packages (from requests->panda) (2025.1.31)\n",
            "Requirement already satisfied: parso<0.9.0,>=0.8.4 in /usr/local/lib/python3.11/dist-packages (from jedi>=0.16->ipython>=4.0.0->ipywidgets) (0.8.4)\n",
            "Requirement already satisfied: jupyter-core>=4.6.0 in /usr/local/lib/python3.11/dist-packages (from jupyter-client>=6.1.12->ipykernel>=4.5.1->ipywidgets) (5.7.2)\n",
            "Requirement already satisfied: python-dateutil>=2.1 in /usr/local/lib/python3.11/dist-packages (from jupyter-client>=6.1.12->ipykernel>=4.5.1->ipywidgets) (2.8.2)\n",
            "Requirement already satisfied: jinja2 in /usr/local/lib/python3.11/dist-packages (from notebook>=4.4.1->widgetsnbextension~=3.6.0->ipywidgets) (3.1.5)\n",
            "Requirement already satisfied: argon2-cffi in /usr/local/lib/python3.11/dist-packages (from notebook>=4.4.1->widgetsnbextension~=3.6.0->ipywidgets) (23.1.0)\n",
            "Requirement already satisfied: nbformat in /usr/local/lib/python3.11/dist-packages (from notebook>=4.4.1->widgetsnbextension~=3.6.0->ipywidgets) (5.10.4)\n",
            "Requirement already satisfied: nbconvert>=5 in /usr/local/lib/python3.11/dist-packages (from notebook>=4.4.1->widgetsnbextension~=3.6.0->ipywidgets) (7.16.6)\n",
            "Requirement already satisfied: Send2Trash>=1.8.0 in /usr/local/lib/python3.11/dist-packages (from notebook>=4.4.1->widgetsnbextension~=3.6.0->ipywidgets) (1.8.3)\n",
            "Requirement already satisfied: terminado>=0.8.3 in /usr/local/lib/python3.11/dist-packages (from notebook>=4.4.1->widgetsnbextension~=3.6.0->ipywidgets) (0.18.1)\n",
            "Requirement already satisfied: prometheus-client in /usr/local/lib/python3.11/dist-packages (from notebook>=4.4.1->widgetsnbextension~=3.6.0->ipywidgets) (0.21.1)\n",
            "Requirement already satisfied: nbclassic>=0.4.7 in /usr/local/lib/python3.11/dist-packages (from notebook>=4.4.1->widgetsnbextension~=3.6.0->ipywidgets) (1.2.0)\n",
            "Requirement already satisfied: ptyprocess>=0.5 in /usr/local/lib/python3.11/dist-packages (from pexpect>4.3->ipython>=4.0.0->ipywidgets) (0.7.0)\n",
            "Requirement already satisfied: wcwidth in /usr/local/lib/python3.11/dist-packages (from prompt-toolkit!=3.0.0,!=3.0.1,<3.1.0,>=2.0.0->ipython>=4.0.0->ipywidgets) (0.2.13)\n",
            "Requirement already satisfied: platformdirs>=2.5 in /usr/local/lib/python3.11/dist-packages (from jupyter-core>=4.6.0->jupyter-client>=6.1.12->ipykernel>=4.5.1->ipywidgets) (4.3.6)\n",
            "Requirement already satisfied: notebook-shim>=0.2.3 in /usr/local/lib/python3.11/dist-packages (from nbclassic>=0.4.7->notebook>=4.4.1->widgetsnbextension~=3.6.0->ipywidgets) (0.2.4)\n",
            "Requirement already satisfied: beautifulsoup4 in /usr/local/lib/python3.11/dist-packages (from nbconvert>=5->notebook>=4.4.1->widgetsnbextension~=3.6.0->ipywidgets) (4.13.3)\n",
            "Requirement already satisfied: bleach!=5.0.0 in /usr/local/lib/python3.11/dist-packages (from bleach[css]!=5.0.0->nbconvert>=5->notebook>=4.4.1->widgetsnbextension~=3.6.0->ipywidgets) (6.2.0)\n",
            "Requirement already satisfied: defusedxml in /usr/local/lib/python3.11/dist-packages (from nbconvert>=5->notebook>=4.4.1->widgetsnbextension~=3.6.0->ipywidgets) (0.7.1)\n",
            "Requirement already satisfied: jupyterlab-pygments in /usr/local/lib/python3.11/dist-packages (from nbconvert>=5->notebook>=4.4.1->widgetsnbextension~=3.6.0->ipywidgets) (0.3.0)\n",
            "Requirement already satisfied: markupsafe>=2.0 in /usr/local/lib/python3.11/dist-packages (from nbconvert>=5->notebook>=4.4.1->widgetsnbextension~=3.6.0->ipywidgets) (3.0.2)\n",
            "Requirement already satisfied: mistune<4,>=2.0.3 in /usr/local/lib/python3.11/dist-packages (from nbconvert>=5->notebook>=4.4.1->widgetsnbextension~=3.6.0->ipywidgets) (3.1.2)\n",
            "Requirement already satisfied: nbclient>=0.5.0 in /usr/local/lib/python3.11/dist-packages (from nbconvert>=5->notebook>=4.4.1->widgetsnbextension~=3.6.0->ipywidgets) (0.10.2)\n",
            "Requirement already satisfied: pandocfilters>=1.4.1 in /usr/local/lib/python3.11/dist-packages (from nbconvert>=5->notebook>=4.4.1->widgetsnbextension~=3.6.0->ipywidgets) (1.5.1)\n",
            "Requirement already satisfied: fastjsonschema>=2.15 in /usr/local/lib/python3.11/dist-packages (from nbformat->notebook>=4.4.1->widgetsnbextension~=3.6.0->ipywidgets) (2.21.1)\n",
            "Requirement already satisfied: jsonschema>=2.6 in /usr/local/lib/python3.11/dist-packages (from nbformat->notebook>=4.4.1->widgetsnbextension~=3.6.0->ipywidgets) (4.23.0)\n",
            "Requirement already satisfied: six>=1.5 in /usr/local/lib/python3.11/dist-packages (from python-dateutil>=2.1->jupyter-client>=6.1.12->ipykernel>=4.5.1->ipywidgets) (1.17.0)\n",
            "Requirement already satisfied: argon2-cffi-bindings in /usr/local/lib/python3.11/dist-packages (from argon2-cffi->notebook>=4.4.1->widgetsnbextension~=3.6.0->ipywidgets) (21.2.0)\n",
            "Requirement already satisfied: webencodings in /usr/local/lib/python3.11/dist-packages (from bleach!=5.0.0->bleach[css]!=5.0.0->nbconvert>=5->notebook>=4.4.1->widgetsnbextension~=3.6.0->ipywidgets) (0.5.1)\n",
            "Requirement already satisfied: tinycss2<1.5,>=1.1.0 in /usr/local/lib/python3.11/dist-packages (from bleach[css]!=5.0.0->nbconvert>=5->notebook>=4.4.1->widgetsnbextension~=3.6.0->ipywidgets) (1.4.0)\n",
            "Requirement already satisfied: attrs>=22.2.0 in /usr/local/lib/python3.11/dist-packages (from jsonschema>=2.6->nbformat->notebook>=4.4.1->widgetsnbextension~=3.6.0->ipywidgets) (25.1.0)\n",
            "Requirement already satisfied: jsonschema-specifications>=2023.03.6 in /usr/local/lib/python3.11/dist-packages (from jsonschema>=2.6->nbformat->notebook>=4.4.1->widgetsnbextension~=3.6.0->ipywidgets) (2024.10.1)\n",
            "Requirement already satisfied: referencing>=0.28.4 in /usr/local/lib/python3.11/dist-packages (from jsonschema>=2.6->nbformat->notebook>=4.4.1->widgetsnbextension~=3.6.0->ipywidgets) (0.36.2)\n",
            "Requirement already satisfied: rpds-py>=0.7.1 in /usr/local/lib/python3.11/dist-packages (from jsonschema>=2.6->nbformat->notebook>=4.4.1->widgetsnbextension~=3.6.0->ipywidgets) (0.23.1)\n",
            "Requirement already satisfied: jupyter-server<3,>=1.8 in /usr/local/lib/python3.11/dist-packages (from notebook-shim>=0.2.3->nbclassic>=0.4.7->notebook>=4.4.1->widgetsnbextension~=3.6.0->ipywidgets) (1.24.0)\n",
            "Requirement already satisfied: cffi>=1.0.1 in /usr/local/lib/python3.11/dist-packages (from argon2-cffi-bindings->argon2-cffi->notebook>=4.4.1->widgetsnbextension~=3.6.0->ipywidgets) (1.17.1)\n",
            "Requirement already satisfied: soupsieve>1.2 in /usr/local/lib/python3.11/dist-packages (from beautifulsoup4->nbconvert>=5->notebook>=4.4.1->widgetsnbextension~=3.6.0->ipywidgets) (2.6)\n",
            "Requirement already satisfied: typing-extensions>=4.0.0 in /usr/local/lib/python3.11/dist-packages (from beautifulsoup4->nbconvert>=5->notebook>=4.4.1->widgetsnbextension~=3.6.0->ipywidgets) (4.12.2)\n",
            "Requirement already satisfied: pycparser in /usr/local/lib/python3.11/dist-packages (from cffi>=1.0.1->argon2-cffi-bindings->argon2-cffi->notebook>=4.4.1->widgetsnbextension~=3.6.0->ipywidgets) (2.22)\n",
            "Requirement already satisfied: anyio<4,>=3.1.0 in /usr/local/lib/python3.11/dist-packages (from jupyter-server<3,>=1.8->notebook-shim>=0.2.3->nbclassic>=0.4.7->notebook>=4.4.1->widgetsnbextension~=3.6.0->ipywidgets) (3.7.1)\n",
            "Requirement already satisfied: websocket-client in /usr/local/lib/python3.11/dist-packages (from jupyter-server<3,>=1.8->notebook-shim>=0.2.3->nbclassic>=0.4.7->notebook>=4.4.1->widgetsnbextension~=3.6.0->ipywidgets) (1.8.0)\n",
            "Requirement already satisfied: sniffio>=1.1 in /usr/local/lib/python3.11/dist-packages (from anyio<4,>=3.1.0->jupyter-server<3,>=1.8->notebook-shim>=0.2.3->nbclassic>=0.4.7->notebook>=4.4.1->widgetsnbextension~=3.6.0->ipywidgets) (1.3.1)\n",
            "Downloading jedi-0.19.2-py2.py3-none-any.whl (1.6 MB)\n",
            "\u001b[2K   \u001b[90m━━━━━━━━━━━━━━━━━━━━━━━━━━━━━━━━━━━━━━━━\u001b[0m \u001b[32m1.6/1.6 MB\u001b[0m \u001b[31m24.8 MB/s\u001b[0m eta \u001b[36m0:00:00\u001b[0m\n",
            "\u001b[?25hInstalling collected packages: jedi\n",
            "Successfully installed jedi-0.19.2\n"
          ]
        }
      ],
      "source": [
        "!pip install panda wget ipywidgets"
      ]
    },
    {
      "cell_type": "code",
      "source": [
        "import wget\n",
        "wget.download('https://github.com/roberthsu2003/machine_learning/raw/refs/heads/main/source_data/Salary_Data.csv')"
      ],
      "metadata": {
        "id": "3rVnmox_oyyS",
        "outputId": "c7c06084-a268-4817-ac4f-58390a1c69e6",
        "colab": {
          "base_uri": "https://localhost:8080/",
          "height": 35
        }
      },
      "execution_count": 8,
      "outputs": [
        {
          "output_type": "execute_result",
          "data": {
            "text/plain": [
              "'Salary_Data.csv'"
            ],
            "application/vnd.google.colaboratory.intrinsic+json": {
              "type": "string"
            }
          },
          "metadata": {},
          "execution_count": 8
        }
      ]
    },
    {
      "cell_type": "code",
      "execution_count": 9,
      "metadata": {
        "id": "WDc1yxDVod7E",
        "outputId": "e37a7637-4d87-4029-d435-a7cfcb910336",
        "colab": {
          "base_uri": "https://localhost:8080/"
        }
      },
      "outputs": [
        {
          "output_type": "stream",
          "name": "stdout",
          "text": [
            "<class 'pandas.core.frame.DataFrame'>\n",
            "RangeIndex: 33 entries, 0 to 32\n",
            "Data columns (total 2 columns):\n",
            " #   Column           Non-Null Count  Dtype  \n",
            "---  ------           --------------  -----  \n",
            " 0   YearsExperience  33 non-null     float64\n",
            " 1   Salary           33 non-null     float64\n",
            "dtypes: float64(2)\n",
            "memory usage: 660.0 bytes\n"
          ]
        }
      ],
      "source": [
        "import pandas as pd\n",
        "\n",
        "url = \"Salary_Data.csv\"\n",
        "df = pd.read_csv(url)\n",
        "df.info()"
      ]
    },
    {
      "cell_type": "code",
      "execution_count": 12,
      "metadata": {
        "id": "C1jwmivZod7E"
      },
      "outputs": [],
      "source": [
        "x_series = df['YearsExperience']\n",
        "y_series = df['Salary']"
      ]
    },
    {
      "cell_type": "markdown",
      "metadata": {
        "id": "c9A1rLeOod7E"
      },
      "source": [
        "### 下載中文字型"
      ]
    },
    {
      "cell_type": "code",
      "execution_count": 14,
      "metadata": {
        "id": "-p8s9BR9od7E",
        "outputId": "0d022bee-c627-489d-9dea-4af9144a63cc",
        "colab": {
          "base_uri": "https://localhost:8080/",
          "height": 35
        }
      },
      "outputs": [
        {
          "output_type": "execute_result",
          "data": {
            "text/plain": [
              "'ChineseFont (1).ttf'"
            ],
            "application/vnd.google.colaboratory.intrinsic+json": {
              "type": "string"
            }
          },
          "metadata": {},
          "execution_count": 14
        }
      ],
      "source": [
        "import wget\n",
        "wget.download('https://github.com/roberthsu2003/machine_learning/raw/refs/heads/main/source_data/ChineseFont.ttf')\n",
        "\n"
      ]
    },
    {
      "cell_type": "code",
      "execution_count": 15,
      "metadata": {
        "id": "5K67Hz7dod7E",
        "outputId": "40dc9ff2-a486-4fb7-9e88-44fd2fbb5740",
        "colab": {
          "base_uri": "https://localhost:8080/",
          "height": 472
        }
      },
      "outputs": [
        {
          "output_type": "display_data",
          "data": {
            "text/plain": [
              "<Figure size 640x480 with 1 Axes>"
            ],
            "image/png": "[encoded data removed]"
          },
          "metadata": {}
        }
      ],
      "source": [
        "import matplotlib.pyplot as plt\n",
        "import matplotlib as mlp\n",
        "from matplotlib.font_manager import fontManager\n",
        "fontManager.addfont('ChineseFont.ttf')\n",
        "mlp.rc('font', family='ChineseFont')\n",
        "plt.scatter(x_series, y_series, marker='x', color='red')\n",
        "plt.title(\"年資-薪水\")\n",
        "plt.xlabel('年資')\n",
        "plt.ylabel('月薪(千)')\n",
        "plt.show()"
      ]
    },
    {
      "cell_type": "markdown",
      "metadata": {
        "id": "bGzROU4Lod7E"
      },
      "source": [
        "### 模擬畫直線\n",
        "### 自已預設w和b,透過公式算出預設值\n",
        "### y = x*w + b"
      ]
    },
    {
      "cell_type": "code",
      "execution_count": 16,
      "metadata": {
        "id": "01isrEAIod7E",
        "outputId": "f109e89e-c077-4cd7-fc77-c78abd2fb8fe",
        "colab": {
          "base_uri": "https://localhost:8080/",
          "height": 472
        }
      },
      "outputs": [
        {
          "output_type": "display_data",
          "data": {
            "text/plain": [
              "<Figure size 640x480 with 1 Axes>"
            ],
            "image/png": "[encoded data removed]"
          },
          "metadata": {}
        }
      ],
      "source": [
        "#w和b全部先設為0\n",
        "w = 0\n",
        "b = 0\n",
        "\n",
        "plt.scatter(x_series, y_series, marker='x', color='red', label=\"真實數值\")\n",
        "plt.title(\"年資-薪水\")\n",
        "plt.xlabel('年資')\n",
        "plt.ylabel('月薪(千)')\n",
        "y_pred = x_series * w + b\n",
        "plt.plot(x_series, y_pred,color='blue', marker='o', label='預測線')\n",
        "plt.legend()\n",
        "plt.show()"
      ]
    },
    {
      "cell_type": "markdown",
      "metadata": {
        "id": "0FHywOvbod7F"
      },
      "source": [
        "### 建立自訂function,目的為可以重覆呼叫,2個參數可以改變w和b"
      ]
    },
    {
      "cell_type": "code",
      "execution_count": 17,
      "metadata": {
        "id": "Rt4Nl8Dood7F",
        "outputId": "cfec137a-6a03-401e-e87b-3f09e2b24662",
        "colab": {
          "base_uri": "https://localhost:8080/",
          "height": 472
        }
      },
      "outputs": [
        {
          "output_type": "display_data",
          "data": {
            "text/plain": [
              "<Figure size 640x480 with 1 Axes>"
            ],
            "image/png": "[encoded data removed]"
          },
          "metadata": {}
        }
      ],
      "source": [
        "def plot_pred(w, b):\n",
        "\n",
        "    y_pred = x_series * w + b\n",
        "    plt.plot(x_series, y_pred,color='blue', marker='o', label='預測線')\n",
        "    plt.scatter(x_series, y_series, marker='x', color='red', label=\"真實數值\")\n",
        "    plt.title(\"年資-薪水\")\n",
        "    plt.xlabel('年資')\n",
        "    plt.ylabel('月薪(千)')\n",
        "    plt.legend()\n",
        "    plt.xlim(left=0, right=12) #固定x出現的範圍\n",
        "    plt.ylim(top=140, bottom=-60) #固定y出現的值\n",
        "    plt.show()\n",
        "\n",
        "plot_pred(0, 0) #可以測試(0, 20), (0, -20), (10, 0), (30, 0),了解W和b和直線的關係"
      ]
    },
    {
      "cell_type": "markdown",
      "metadata": {
        "id": "ckIAbc-Hod7F"
      },
      "source": [
        "### 讓ipynb可以使用介面,ipywidgets\n",
        "### 了解W和b和直線的關係"
      ]
    },
    {
      "cell_type": "code",
      "execution_count": 19,
      "metadata": {
        "id": "lqLf6OFyod7F",
        "outputId": "edbcc60f-e4a3-4290-b852-d93a563eda33",
        "colab": {
          "base_uri": "https://localhost:8080/",
          "height": 623,
          "referenced_widgets": [
            "082731d1d02a49d99ffb7b63e7aaf2e0",
            "afd276f8610d415995aa89511171d9e4",
            "99e09acf01244491a7793772a4d5e475",
            "36e173398df64a85a8de76447d18b17d",
            "256784f74280451186ba76397a7a40a9",
            "d1218eaabddb4166a9897c0aaade6dcf",
            "3f58054352b24cd7b6a146c27723ec62",
            "786c4d2bea744828a072fa32bf929e71",
            "70621e7fa52d465fb466e921a9af347e",
            "d96951ccb3b04196949bc8eb418f8910"
          ]
        }
      },
      "outputs": [
        {
          "output_type": "display_data",
          "data": {
            "text/plain": [
              "interactive(children=(IntSlider(value=0, description='w', min=-100), IntSlider(value=0, description='b', min=-…"
            ],
            "application/vnd.jupyter.widget-view+json": {
              "version_major": 2,
              "version_minor": 0,
              "model_id": "082731d1d02a49d99ffb7b63e7aaf2e0"
            }
          },
          "metadata": {}
        },
        {
          "output_type": "execute_result",
          "data": {
            "text/plain": [
              "<function __main__.plot_pred(w, b)>"
            ],
            "text/html": [
              "<div style=\"max-width:800px; border: 1px solid var(--colab-border-color);\"><style>\n",
              "      pre.function-repr-contents {\n",
              "        overflow-x: auto;\n",
              "        padding: 8px 12px;\n",
              "        max-height: 500px;\n",
              "      }\n",
              "\n",
              "      pre.function-repr-contents.function-repr-contents-collapsed {\n",
              "        cursor: pointer;\n",
              "        max-height: 100px;\n",
              "      }\n",
              "    </style>\n",
              "    <pre style=\"white-space: initial; background:\n",
              "         var(--colab-secondary-surface-color); padding: 8px 12px;\n",
              "         border-bottom: 1px solid var(--colab-border-color);\"><b>plot_pred</b><br/>def plot_pred(w, b)</pre><pre class=\"function-repr-contents function-repr-contents-collapsed\" style=\"\"><a class=\"filepath\" style=\"display:none\" href=\"#\">/content/&lt;ipython-input-17-49c5444c20dc&gt;</a>&lt;no docstring&gt;</pre></div>"
            ]
          },
          "metadata": {},
          "execution_count": 19
        }
      ],
      "source": [
        "from ipywidgets import interact\n",
        "\n",
        "interact(plot_pred, w=(-100,100, 1), b=(-100, 100, 1))"
      ]
    },
    {
      "cell_type": "markdown",
      "metadata": {
        "id": "OAzl4iSvod7F"
      },
      "source": [
        "### 尋找最適合的直線"
      ]
    }
  ],
  "metadata": {
    "kernelspec": {
      "display_name": "base",
      "language": "python",
      "name": "python3"
    },
    "language_info": {
      "codemirror_mode": {
        "name": "ipython",
        "version": 3
      },
      "file_extension": ".py",
      "mimetype": "text/x-python",
      "name": "python",
      "nbconvert_exporter": "python",
      "pygments_lexer": "ipython3",
      "version": "3.12.2"
    },
    "colab": {
      "provenance": [],
      "include_colab_link": true
    },
    "widgets": {
      "application/vnd.jupyter.widget-state+json": {
        "082731d1d02a49d99ffb7b63e7aaf2e0": {
          "model_module": "@jupyter-widgets/controls",
          "model_name": "VBoxModel",
          "model_module_version": "1.5.0",
          "state": {
            "_dom_classes": [
              "widget-interact"
            ],
            "_model_module": "@jupyter-widgets/controls",
            "_model_module_version": "1.5.0",
            "_model_name": "VBoxModel",
            "_view_count": null,
            "_view_module": "@jupyter-widgets/controls",
            "_view_module_version": "1.5.0",
            "_view_name": "VBoxView",
            "box_style": "",
            "children": [
              "IPY_MODEL_afd276f8610d415995aa89511171d9e4",
              "IPY_MODEL_99e09acf01244491a7793772a4d5e475",
              "IPY_MODEL_36e173398df64a85a8de76447d18b17d"
            ],
            "layout": "IPY_MODEL_256784f74280451186ba76397a7a40a9"
          }
        },
        "afd276f8610d415995aa89511171d9e4": {
          "model_module": "@jupyter-widgets/controls",
          "model_name": "IntSliderModel",
          "model_module_version": "1.5.0",
          "state": {
            "_dom_classes": [],
            "_model_module": "@jupyter-widgets/controls",
            "_model_module_version": "1.5.0",
            "_model_name": "IntSliderModel",
            "_view_count": null,
            "_view_module": "@jupyter-widgets/controls",
            "_view_module_version": "1.5.0",
            "_view_name": "IntSliderView",
            "continuous_update": true,
            "description": "w",
            "description_tooltip": null,
            "disabled": false,
            "layout": "IPY_MODEL_d1218eaabddb4166a9897c0aaade6dcf",
            "max": 100,
            "min": -100,
            "orientation": "horizontal",
            "readout": true,
            "readout_format": "d",
            "step": 1,
            "style": "IPY_MODEL_3f58054352b24cd7b6a146c27723ec62",
            "value": 22
          }
        },
        "99e09acf01244491a7793772a4d5e475": {
          "model_module": "@jupyter-widgets/controls",
          "model_name": "IntSliderModel",
          "model_module_version": "1.5.0",
          "state": {
            "_dom_classes": [],
            "_model_module": "@jupyter-widgets/controls",
            "_model_module_version": "1.5.0",
            "_model_name": "IntSliderModel",
            "_view_count": null,
            "_view_module": "@jupyter-widgets/controls",
            "_view_module_version": "1.5.0",
            "_view_name": "IntSliderView",
            "continuous_update": true,
            "description": "b",
            "description_tooltip": null,
            "disabled": false,
            "layout": "IPY_MODEL_786c4d2bea744828a072fa32bf929e71",
            "max": 100,
            "min": -100,
            "orientation": "horizontal",
            "readout": true,
            "readout_format": "d",
            "step": 1,
            "style": "IPY_MODEL_70621e7fa52d465fb466e921a9af347e",
            "value": 0
          }
        },
        "36e173398df64a85a8de76447d18b17d": {
          "model_module": "@jupyter-widgets/output",
          "model_name": "OutputModel",
          "model_module_version": "1.0.0",
          "state": {
            "_dom_classes": [],
            "_model_module": "@jupyter-widgets/output",
            "_model_module_version": "1.0.0",
            "_model_name": "OutputModel",
            "_view_count": null,
            "_view_module": "@jupyter-widgets/output",
            "_view_module_version": "1.0.0",
            "_view_name": "OutputView",
            "layout": "IPY_MODEL_d96951ccb3b04196949bc8eb418f8910",
            "msg_id": "",
            "outputs": [
              {
                "output_type": "display_data",
                "data": {
                  "text/plain": "<Figure size 640x480 with 1 Axes>",
                  "image/png": "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\n"
                },
                "metadata": {}
              }
            ]
          }
        },
        "256784f74280451186ba76397a7a40a9": {
          "model_module": "@jupyter-widgets/base",
          "model_name": "LayoutModel",
          "model_module_version": "1.2.0",
          "state": {
            "_model_module": "@jupyter-widgets/base",
            "_model_module_version": "1.2.0",
            "_model_name": "LayoutModel",
            "_view_count": null,
            "_view_module": "@jupyter-widgets/base",
            "_view_module_version": "1.2.0",
            "_view_name": "LayoutView",
            "align_content": null,
            "align_items": null,
            "align_self": null,
            "border": null,
            "bottom": null,
            "display": null,
            "flex": null,
            "flex_flow": null,
            "grid_area": null,
            "grid_auto_columns": null,
            "grid_auto_flow": null,
            "grid_auto_rows": null,
            "grid_column": null,
            "grid_gap": null,
            "grid_row": null,
            "grid_template_areas": null,
            "grid_template_columns": null,
            "grid_template_rows": null,
            "height": null,
            "justify_content": null,
            "justify_items": null,
            "left": null,
            "margin": null,
            "max_height": null,
            "max_width": null,
            "min_height": null,
            "min_width": null,
            "object_fit": null,
            "object_position": null,
            "order": null,
            "overflow": null,
            "overflow_x": null,
            "overflow_y": null,
            "padding": null,
            "right": null,
            "top": null,
            "visibility": null,
            "width": null
          }
        },
        "d1218eaabddb4166a9897c0aaade6dcf": {
          "model_module": "@jupyter-widgets/base",
          "model_name": "LayoutModel",
          "model_module_version": "1.2.0",
          "state": {
            "_model_module": "@jupyter-widgets/base",
            "_model_module_version": "1.2.0",
            "_model_name": "LayoutModel",
            "_view_count": null,
            "_view_module": "@jupyter-widgets/base",
            "_view_module_version": "1.2.0",
            "_view_name": "LayoutView",
            "align_content": null,
            "align_items": null,
            "align_self": null,
            "border": null,
            "bottom": null,
            "display": null,
            "flex": null,
            "flex_flow": null,
            "grid_area": null,
            "grid_auto_columns": null,
            "grid_auto_flow": null,
            "grid_auto_rows": null,
            "grid_column": null,
            "grid_gap": null,
            "grid_row": null,
            "grid_template_areas": null,
            "grid_template_columns": null,
            "grid_template_rows": null,
            "height": null,
            "justify_content": null,
            "justify_items": null,
            "left": null,
            "margin": null,
            "max_height": null,
            "max_width": null,
            "min_height": null,
            "min_width": null,
            "object_fit": null,
            "object_position": null,
            "order": null,
            "overflow": null,
            "overflow_x": null,
            "overflow_y": null,
            "padding": null,
            "right": null,
            "top": null,
            "visibility": null,
            "width": null
          }
        },
        "3f58054352b24cd7b6a146c27723ec62": {
          "model_module": "@jupyter-widgets/controls",
          "model_name": "SliderStyleModel",
          "model_module_version": "1.5.0",
          "state": {
            "_model_module": "@jupyter-widgets/controls",
            "_model_module_version": "1.5.0",
            "_model_name": "SliderStyleModel",
            "_view_count": null,
            "_view_module": "@jupyter-widgets/base",
            "_view_module_version": "1.2.0",
            "_view_name": "StyleView",
            "description_width": "",
            "handle_color": null
          }
        },
        "786c4d2bea744828a072fa32bf929e71": {
          "model_module": "@jupyter-widgets/base",
          "model_name": "LayoutModel",
          "model_module_version": "1.2.0",
          "state": {
            "_model_module": "@jupyter-widgets/base",
            "_model_module_version": "1.2.0",
            "_model_name": "LayoutModel",
            "_view_count": null,
            "_view_module": "@jupyter-widgets/base",
            "_view_module_version": "1.2.0",
            "_view_name": "LayoutView",
            "align_content": null,
            "align_items": null,
            "align_self": null,
            "border": null,
            "bottom": null,
            "display": null,
            "flex": null,
            "flex_flow": null,
            "grid_area": null,
            "grid_auto_columns": null,
            "grid_auto_flow": null,
            "grid_auto_rows": null,
            "grid_column": null,
            "grid_gap": null,
            "grid_row": null,
            "grid_template_areas": null,
            "grid_template_columns": null,
            "grid_template_rows": null,
            "height": null,
            "justify_content": null,
            "justify_items": null,
            "left": null,
            "margin": null,
            "max_height": null,
            "max_width": null,
            "min_height": null,
            "min_width": null,
            "object_fit": null,
            "object_position": null,
            "order": null,
            "overflow": null,
            "overflow_x": null,
            "overflow_y": null,
            "padding": null,
            "right": null,
            "top": null,
            "visibility": null,
            "width": null
          }
        },
        "70621e7fa52d465fb466e921a9af347e": {
          "model_module": "@jupyter-widgets/controls",
          "model_name": "SliderStyleModel",
          "model_module_version": "1.5.0",
          "state": {
            "_model_module": "@jupyter-widgets/controls",
            "_model_module_version": "1.5.0",
            "_model_name": "SliderStyleModel",
            "_view_count": null,
            "_view_module": "@jupyter-widgets/base",
            "_view_module_version": "1.2.0",
            "_view_name": "StyleView",
            "description_width": "",
            "handle_color": null
          }
        },
        "d96951ccb3b04196949bc8eb418f8910": {
          "model_module": "@jupyter-widgets/base",
          "model_name": "LayoutModel",
          "model_module_version": "1.2.0",
          "state": {
            "_model_module": "@jupyter-widgets/base",
            "_model_module_version": "1.2.0",
            "_model_name": "LayoutModel",
            "_view_count": null,
            "_view_module": "@jupyter-widgets/base",
            "_view_module_version": "1.2.0",
            "_view_name": "LayoutView",
            "align_content": null,
            "align_items": null,
            "align_self": null,
            "border": null,
            "bottom": null,
            "display": null,
            "flex": null,
            "flex_flow": null,
            "grid_area": null,
            "grid_auto_columns": null,
            "grid_auto_flow": null,
            "grid_auto_rows": null,
            "grid_column": null,
            "grid_gap": null,
            "grid_row": null,
            "grid_template_areas": null,
            "grid_template_columns": null,
            "grid_template_rows": null,
            "height": null,
            "justify_content": null,
            "justify_items": null,
            "left": null,
            "margin": null,
            "max_height": null,
            "max_width": null,
            "min_height": null,
            "min_width": null,
            "object_fit": null,
            "object_position": null,
            "order": null,
            "overflow": null,
            "overflow_x": null,
            "overflow_y": null,
            "padding": null,
            "right": null,
            "top": null,
            "visibility": null,
            "width": null
          }
        }
      }
    }
  },
  "nbformat": 4,
  "nbformat_minor": 0
}