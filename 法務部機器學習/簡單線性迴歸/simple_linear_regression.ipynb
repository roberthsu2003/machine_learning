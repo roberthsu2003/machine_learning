{
 "cells": [
  {
   "cell_type": "code",
   "execution_count": 2,
   "metadata": {},
   "outputs": [
    {
     "name": "stdout",
     "output_type": "stream",
     "text": [
      "Requirement already satisfied: wget in /opt/conda/lib/python3.12/site-packages (3.2)\n",
      "\u001b[33mWARNING: Running pip as the 'root' user can result in broken permissions and conflicting behaviour with the system package manager, possibly rendering your system unusable.It is recommended to use a virtual environment instead: https://pip.pypa.io/warnings/venv. Use the --root-user-action option if you know what you are doing and want to suppress this warning.\u001b[0m\u001b[33m\n",
      "\u001b[0m"
     ]
    }
   ],
   "source": [
    "!pip install wget"
   ]
  },
  {
   "cell_type": "code",
   "execution_count": null,
   "metadata": {
    "executionInfo": {
     "elapsed": 251,
     "status": "ok",
     "timestamp": 1676968846608,
     "user": {
      "displayName": "qwe qwe",
      "userId": "05297209548201600859"
     },
     "user_tz": -480
    },
    "id": "_xxSZxS0TfeL"
   },
   "outputs": [],
   "source": [
    "import pandas as pd\n",
    "\n",
    "url = \"https://github.com/roberthsu2003/machine_learning/raw/refs/heads/main/source_data/Salary_Data.csv\"\n",
    "data = pd.read_csv(url)\n",
    "data\n",
    "# y = w*x + b\n",
    "x = data[\"YearsExperience\"]\n",
    "y = data[\"Salary\"]"
   ]
  },
  {
   "cell_type": "code",
   "execution_count": null,
   "metadata": {
    "colab": {
     "base_uri": "https://localhost:8080/",
     "height": 252
    },
    "executionInfo": {
     "elapsed": 11667,
     "status": "ok",
     "timestamp": 1676968858273,
     "user": {
      "displayName": "qwe qwe",
      "userId": "05297209548201600859"
     },
     "user_tz": -480
    },
    "id": "YZaLCcVFkqHy",
    "outputId": "f78592a8-1fd9-41fb-bc27-6ad1cc6b3051"
   },
   "outputs": [
    {
     "ename": "KeyboardInterrupt",
     "evalue": "",
     "output_type": "error",
     "traceback": [
      "\u001b[31m---------------------------------------------------------------------------\u001b[39m",
      "\u001b[31mKeyboardInterrupt\u001b[39m                         Traceback (most recent call last)",
      "\u001b[36mCell\u001b[39m\u001b[36m \u001b[39m\u001b[32mIn[3]\u001b[39m\u001b[32m, line 3\u001b[39m\n\u001b[32m      1\u001b[39m \u001b[38;5;28;01mimport\u001b[39;00m\u001b[38;5;250m \u001b[39m\u001b[34;01mwget\u001b[39;00m\n\u001b[32m----> \u001b[39m\u001b[32m3\u001b[39m \u001b[43mwget\u001b[49m\u001b[43m.\u001b[49m\u001b[43mdownload\u001b[49m\u001b[43m(\u001b[49m\u001b[33;43m\"\u001b[39;49m\u001b[33;43mhttps://github.com/roberthsu2003/machine_learning/raw/refs/heads/main/source_data/ChineseFont.ttf\u001b[39;49m\u001b[33;43m\"\u001b[39;49m\u001b[43m)\u001b[49m\n",
      "\u001b[36mFile \u001b[39m\u001b[32m/opt/conda/lib/python3.12/site-packages/wget.py:526\u001b[39m, in \u001b[36mdownload\u001b[39m\u001b[34m(url, out, bar)\u001b[39m\n\u001b[32m    524\u001b[39m \u001b[38;5;28;01melse\u001b[39;00m:\n\u001b[32m    525\u001b[39m     binurl = url\n\u001b[32m--> \u001b[39m\u001b[32m526\u001b[39m (tmpfile, headers) = \u001b[43mulib\u001b[49m\u001b[43m.\u001b[49m\u001b[43murlretrieve\u001b[49m\u001b[43m(\u001b[49m\u001b[43mbinurl\u001b[49m\u001b[43m,\u001b[49m\u001b[43m \u001b[49m\u001b[43mtmpfile\u001b[49m\u001b[43m,\u001b[49m\u001b[43m \u001b[49m\u001b[43mcallback\u001b[49m\u001b[43m)\u001b[49m\n\u001b[32m    527\u001b[39m filename = detect_filename(url, out, headers)\n\u001b[32m    528\u001b[39m \u001b[38;5;28;01mif\u001b[39;00m outdir:\n",
      "\u001b[36mFile \u001b[39m\u001b[32m/opt/conda/lib/python3.12/urllib/request.py:268\u001b[39m, in \u001b[36murlretrieve\u001b[39m\u001b[34m(url, filename, reporthook, data)\u001b[39m\n\u001b[32m    265\u001b[39m \u001b[38;5;28;01mif\u001b[39;00m reporthook:\n\u001b[32m    266\u001b[39m     reporthook(blocknum, bs, size)\n\u001b[32m--> \u001b[39m\u001b[32m268\u001b[39m \u001b[38;5;28;01mwhile\u001b[39;00m block := \u001b[43mfp\u001b[49m\u001b[43m.\u001b[49m\u001b[43mread\u001b[49m\u001b[43m(\u001b[49m\u001b[43mbs\u001b[49m\u001b[43m)\u001b[49m:\n\u001b[32m    269\u001b[39m     read += \u001b[38;5;28mlen\u001b[39m(block)\n\u001b[32m    270\u001b[39m     tfp.write(block)\n",
      "\u001b[36mFile \u001b[39m\u001b[32m/opt/conda/lib/python3.12/http/client.py:479\u001b[39m, in \u001b[36mHTTPResponse.read\u001b[39m\u001b[34m(self, amt)\u001b[39m\n\u001b[32m    476\u001b[39m \u001b[38;5;28;01mif\u001b[39;00m \u001b[38;5;28mself\u001b[39m.length \u001b[38;5;129;01mis\u001b[39;00m \u001b[38;5;129;01mnot\u001b[39;00m \u001b[38;5;28;01mNone\u001b[39;00m \u001b[38;5;129;01mand\u001b[39;00m amt > \u001b[38;5;28mself\u001b[39m.length:\n\u001b[32m    477\u001b[39m     \u001b[38;5;66;03m# clip the read to the \"end of response\"\u001b[39;00m\n\u001b[32m    478\u001b[39m     amt = \u001b[38;5;28mself\u001b[39m.length\n\u001b[32m--> \u001b[39m\u001b[32m479\u001b[39m s = \u001b[38;5;28;43mself\u001b[39;49m\u001b[43m.\u001b[49m\u001b[43mfp\u001b[49m\u001b[43m.\u001b[49m\u001b[43mread\u001b[49m\u001b[43m(\u001b[49m\u001b[43mamt\u001b[49m\u001b[43m)\u001b[49m\n\u001b[32m    480\u001b[39m \u001b[38;5;28;01mif\u001b[39;00m \u001b[38;5;129;01mnot\u001b[39;00m s \u001b[38;5;129;01mand\u001b[39;00m amt:\n\u001b[32m    481\u001b[39m     \u001b[38;5;66;03m# Ideally, we would raise IncompleteRead if the content-length\u001b[39;00m\n\u001b[32m    482\u001b[39m     \u001b[38;5;66;03m# wasn't satisfied, but it might break compatibility.\u001b[39;00m\n\u001b[32m    483\u001b[39m     \u001b[38;5;28mself\u001b[39m._close_conn()\n",
      "\u001b[36mFile \u001b[39m\u001b[32m/opt/conda/lib/python3.12/socket.py:707\u001b[39m, in \u001b[36mSocketIO.readinto\u001b[39m\u001b[34m(self, b)\u001b[39m\n\u001b[32m    705\u001b[39m \u001b[38;5;28;01mwhile\u001b[39;00m \u001b[38;5;28;01mTrue\u001b[39;00m:\n\u001b[32m    706\u001b[39m     \u001b[38;5;28;01mtry\u001b[39;00m:\n\u001b[32m--> \u001b[39m\u001b[32m707\u001b[39m         \u001b[38;5;28;01mreturn\u001b[39;00m \u001b[38;5;28;43mself\u001b[39;49m\u001b[43m.\u001b[49m\u001b[43m_sock\u001b[49m\u001b[43m.\u001b[49m\u001b[43mrecv_into\u001b[49m\u001b[43m(\u001b[49m\u001b[43mb\u001b[49m\u001b[43m)\u001b[49m\n\u001b[32m    708\u001b[39m     \u001b[38;5;28;01mexcept\u001b[39;00m timeout:\n\u001b[32m    709\u001b[39m         \u001b[38;5;28mself\u001b[39m._timeout_occurred = \u001b[38;5;28;01mTrue\u001b[39;00m\n",
      "\u001b[36mFile \u001b[39m\u001b[32m/opt/conda/lib/python3.12/ssl.py:1252\u001b[39m, in \u001b[36mSSLSocket.recv_into\u001b[39m\u001b[34m(self, buffer, nbytes, flags)\u001b[39m\n\u001b[32m   1248\u001b[39m     \u001b[38;5;28;01mif\u001b[39;00m flags != \u001b[32m0\u001b[39m:\n\u001b[32m   1249\u001b[39m         \u001b[38;5;28;01mraise\u001b[39;00m \u001b[38;5;167;01mValueError\u001b[39;00m(\n\u001b[32m   1250\u001b[39m           \u001b[33m\"\u001b[39m\u001b[33mnon-zero flags not allowed in calls to recv_into() on \u001b[39m\u001b[38;5;132;01m%s\u001b[39;00m\u001b[33m\"\u001b[39m %\n\u001b[32m   1251\u001b[39m           \u001b[38;5;28mself\u001b[39m.\u001b[34m__class__\u001b[39m)\n\u001b[32m-> \u001b[39m\u001b[32m1252\u001b[39m     \u001b[38;5;28;01mreturn\u001b[39;00m \u001b[38;5;28;43mself\u001b[39;49m\u001b[43m.\u001b[49m\u001b[43mread\u001b[49m\u001b[43m(\u001b[49m\u001b[43mnbytes\u001b[49m\u001b[43m,\u001b[49m\u001b[43m \u001b[49m\u001b[43mbuffer\u001b[49m\u001b[43m)\u001b[49m\n\u001b[32m   1253\u001b[39m \u001b[38;5;28;01melse\u001b[39;00m:\n\u001b[32m   1254\u001b[39m     \u001b[38;5;28;01mreturn\u001b[39;00m \u001b[38;5;28msuper\u001b[39m().recv_into(buffer, nbytes, flags)\n",
      "\u001b[36mFile \u001b[39m\u001b[32m/opt/conda/lib/python3.12/ssl.py:1104\u001b[39m, in \u001b[36mSSLSocket.read\u001b[39m\u001b[34m(self, len, buffer)\u001b[39m\n\u001b[32m   1102\u001b[39m \u001b[38;5;28;01mtry\u001b[39;00m:\n\u001b[32m   1103\u001b[39m     \u001b[38;5;28;01mif\u001b[39;00m buffer \u001b[38;5;129;01mis\u001b[39;00m \u001b[38;5;129;01mnot\u001b[39;00m \u001b[38;5;28;01mNone\u001b[39;00m:\n\u001b[32m-> \u001b[39m\u001b[32m1104\u001b[39m         \u001b[38;5;28;01mreturn\u001b[39;00m \u001b[38;5;28;43mself\u001b[39;49m\u001b[43m.\u001b[49m\u001b[43m_sslobj\u001b[49m\u001b[43m.\u001b[49m\u001b[43mread\u001b[49m\u001b[43m(\u001b[49m\u001b[38;5;28;43mlen\u001b[39;49m\u001b[43m,\u001b[49m\u001b[43m \u001b[49m\u001b[43mbuffer\u001b[49m\u001b[43m)\u001b[49m\n\u001b[32m   1105\u001b[39m     \u001b[38;5;28;01melse\u001b[39;00m:\n\u001b[32m   1106\u001b[39m         \u001b[38;5;28;01mreturn\u001b[39;00m \u001b[38;5;28mself\u001b[39m._sslobj.read(\u001b[38;5;28mlen\u001b[39m)\n",
      "\u001b[31mKeyboardInterrupt\u001b[39m: "
     ]
    }
   ],
   "source": [
    "\n",
    "import wget\n",
    "\n",
    "wget.download(\"https://github.com/roberthsu2003/machine_learning/raw/refs/heads/main/source_data/ChineseFont.ttf\")"
   ]
  },
  {
   "cell_type": "code",
   "execution_count": 3,
   "metadata": {
    "colab": {
     "base_uri": "https://localhost:8080/",
     "height": 0
    },
    "executionInfo": {
     "elapsed": 473,
     "status": "ok",
     "timestamp": 1676968858741,
     "user": {
      "displayName": "qwe qwe",
      "userId": "05297209548201600859"
     },
     "user_tz": -480
    },
    "id": "SsXzG7jEh5tS",
    "outputId": "9f284b97-1e0c-4967-88d3-a21328cc2850"
   },
   "outputs": [
    {
     "data": {
      "image/png": "[encoded data removed]",
      "text/plain": [
       "<Figure size 640x480 with 1 Axes>"
      ]
     },
     "metadata": {},
     "output_type": "display_data"
    }
   ],
   "source": [
    "import matplotlib.pyplot as plt\n",
    "import matplotlib as mpl \n",
    "from matplotlib.font_manager import fontManager\n",
    "\n",
    "fontManager.addfont(\"ChineseFont.ttf\")\n",
    "mpl.rc('font', family=\"ChineseFont\")\n",
    "\n",
    "plt.scatter(x, y, marker=\"x\", color=\"red\")\n",
    "plt.title(\"年資-薪水\")\n",
    "plt.xlabel(\"年資\")\n",
    "plt.ylabel(\"月薪(千)\")\n",
    "plt.show()"
   ]
  },
  {
   "cell_type": "code",
   "execution_count": 4,
   "metadata": {
    "colab": {
     "base_uri": "https://localhost:8080/",
     "height": 0
    },
    "executionInfo": {
     "elapsed": 489,
     "status": "ok",
     "timestamp": 1676968859226,
     "user": {
      "displayName": "qwe qwe",
      "userId": "05297209548201600859"
     },
     "user_tz": -480
    },
    "id": "O3fzixPLv5D6",
    "outputId": "afc1c977-8a93-4369-e80c-b9038fc86056"
   },
   "outputs": [
    {
     "data": {
      "image/png": "[encoded data removed]",
      "text/plain": [
       "<Figure size 640x480 with 1 Axes>"
      ]
     },
     "metadata": {},
     "output_type": "display_data"
    }
   ],
   "source": [
    "def plot_pred(w, b):\n",
    "  y_pred = x*w + b\n",
    "  plt.plot(x, y_pred, color=\"blue\", label=\"預測線\")\n",
    "  plt.scatter(x, y, marker=\"x\", color=\"red\", label=\"真實數據\")\n",
    "  plt.title(\"年資-薪水\")\n",
    "  plt.xlabel(\"年資\")\n",
    "  plt.ylabel(\"月薪(千)\")\n",
    "  plt.xlim([0, 12])\n",
    "  plt.ylim([-60, 140])\n",
    "  plt.legend()\n",
    "  plt.show()\n",
    "\n",
    "plot_pred(-5, -30)"
   ]
  },
  {
   "cell_type": "code",
   "execution_count": 5,
   "metadata": {
    "colab": {
     "base_uri": "https://localhost:8080/",
     "height": 377,
     "referenced_widgets": [
      "1434d9962fe14296bea626084adbaa79",
      "39ad7ef4aff748f7bdf909bdadf41208",
      "c56c19f0ef0d49329901d184f8590fe7",
      "6a93a6a479a041d6a78fe1a30cd318e9",
      "933583dd7f2a4211bdb3da4392457a69",
      "fab93c2017894cecb7896b0b76f1d27f",
      "5a91618e0a614f42a050c0ea40e89617",
      "f88f2cbcb74a46b7b137fdae00fd304f",
      "eeacf8ef98d14238908803e038a582d1",
      "c646574b35ac4439b398b51182eea40f"
     ]
    },
    "executionInfo": {
     "elapsed": 1045,
     "status": "ok",
     "timestamp": 1676968860268,
     "user": {
      "displayName": "qwe qwe",
      "userId": "05297209548201600859"
     },
     "user_tz": -480
    },
    "id": "8hf6lyJGv61T",
    "outputId": "34a7b47c-d72f-4706-b745-e18b29b0794c"
   },
   "outputs": [
    {
     "data": {
      "application/vnd.jupyter.widget-view+json": {
       "model_id": "090bfec4f8d44f7c99aedf74611f7279",
       "version_major": 2,
       "version_minor": 0
      },
      "text/plain": [
       "interactive(children=(IntSlider(value=0, description='w', min=-100), IntSlider(value=0, description='b', min=-…"
      ]
     },
     "metadata": {},
     "output_type": "display_data"
    },
    {
     "data": {
      "text/plain": [
       "<function __main__.plot_pred(w, b)>"
      ]
     },
     "execution_count": 5,
     "metadata": {},
     "output_type": "execute_result"
    }
   ],
   "source": [
    "from ipywidgets import interact\n",
    "\n",
    "interact(plot_pred, w=(-100, 100, 1), b=(-100, 100, 1))"
   ]
  }
 ],
 "metadata": {
  "colab": {
   "authorship_tag": "ABX9TyN0lnY/51Bwu6MYF74yJGk3",
   "provenance": []
  },
  "kernelspec": {
   "display_name": "base",
   "language": "python",
   "name": "python3"
  },
  "language_info": {
   "codemirror_mode": {
    "name": "ipython",
    "version": 3
   },
   "file_extension": ".py",
   "mimetype": "text/x-python",
   "name": "python",
   "nbconvert_exporter": "python",
   "pygments_lexer": "ipython3",
   "version": "3.12.2"
  },
  "widgets": {
   "application/vnd.jupyter.widget-state+json": {
    "1434d9962fe14296bea626084adbaa79": {
     "model_module": "@jupyter-widgets/controls",
     "model_module_version": "1.5.0",
     "model_name": "VBoxModel",
     "state": {
      "_dom_classes": [
       "widget-interact"
      ],
      "_model_module": "@jupyter-widgets/controls",
      "_model_module_version": "1.5.0",
      "_model_name": "VBoxModel",
      "_view_count": null,
      "_view_module": "@jupyter-widgets/controls",
      "_view_module_version": "1.5.0",
      "_view_name": "VBoxView",
      "box_style": "",
      "children": [
       "IPY_MODEL_39ad7ef4aff748f7bdf909bdadf41208",
       "IPY_MODEL_c56c19f0ef0d49329901d184f8590fe7",
       "IPY_MODEL_6a93a6a479a041d6a78fe1a30cd318e9"
      ],
      "layout": "IPY_MODEL_933583dd7f2a4211bdb3da4392457a69"
     }
    },
    "39ad7ef4aff748f7bdf909bdadf41208": {
     "model_module": "@jupyter-widgets/controls",
     "model_module_version": "1.5.0",
     "model_name": "IntSliderModel",
     "state": {
      "_dom_classes": [],
      "_model_module": "@jupyter-widgets/controls",
      "_model_module_version": "1.5.0",
      "_model_name": "IntSliderModel",
      "_view_count": null,
      "_view_module": "@jupyter-widgets/controls",
      "_view_module_version": "1.5.0",
      "_view_name": "IntSliderView",
      "continuous_update": true,
      "description": "w",
      "description_tooltip": null,
      "disabled": false,
      "layout": "IPY_MODEL_fab93c2017894cecb7896b0b76f1d27f",
      "max": 100,
      "min": -100,
      "orientation": "horizontal",
      "readout": true,
      "readout_format": "d",
      "step": 1,
      "style": "IPY_MODEL_5a91618e0a614f42a050c0ea40e89617",
      "value": 0
     }
    },
    "5a91618e0a614f42a050c0ea40e89617": {
     "model_module": "@jupyter-widgets/controls",
     "model_module_version": "1.5.0",
     "model_name": "SliderStyleModel",
     "state": {
      "_model_module": "@jupyter-widgets/controls",
      "_model_module_version": "1.5.0",
      "_model_name": "SliderStyleModel",
      "_view_count": null,
      "_view_module": "@jupyter-widgets/base",
      "_view_module_version": "1.2.0",
      "_view_name": "StyleView",
      "description_width": "",
      "handle_color": null
     }
    },
    "6a93a6a479a041d6a78fe1a30cd318e9": {
     "model_module": "@jupyter-widgets/output",
     "model_module_version": "1.0.0",
     "model_name": "OutputModel",
     "state": {
      "_dom_classes": [],
      "_model_module": "@jupyter-widgets/output",
      "_model_module_version": "1.0.0",
      "_model_name": "OutputModel",
      "_view_count": null,
      "_view_module": "@jupyter-widgets/output",
      "_view_module_version": "1.0.0",
      "_view_name": "OutputView",
      "layout": "IPY_MODEL_c646574b35ac4439b398b51182eea40f",
      "msg_id": "",
      "outputs": [
       {
        "data": {
         "image/png": "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\n",
         "text/plain": "<Figure size 432x288 with 1 Axes>"
        },
        "metadata": {
         "needs_background": "light"
        },
        "output_type": "display_data"
       }
      ]
     }
    },
    "933583dd7f2a4211bdb3da4392457a69": {
     "model_module": "@jupyter-widgets/base",
     "model_module_version": "1.2.0",
     "model_name": "LayoutModel",
     "state": {
      "_model_module": "@jupyter-widgets/base",
      "_model_module_version": "1.2.0",
      "_model_name": "LayoutModel",
      "_view_count": null,
      "_view_module": "@jupyter-widgets/base",
      "_view_module_version": "1.2.0",
      "_view_name": "LayoutView",
      "align_content": null,
      "align_items": null,
      "align_self": null,
      "border": null,
      "bottom": null,
      "display": null,
      "flex": null,
      "flex_flow": null,
      "grid_area": null,
      "grid_auto_columns": null,
      "grid_auto_flow": null,
      "grid_auto_rows": null,
      "grid_column": null,
      "grid_gap": null,
      "grid_row": null,
      "grid_template_areas": null,
      "grid_template_columns": null,
      "grid_template_rows": null,
      "height": null,
      "justify_content": null,
      "justify_items": null,
      "left": null,
      "margin": null,
      "max_height": null,
      "max_width": null,
      "min_height": null,
      "min_width": null,
      "object_fit": null,
      "object_position": null,
      "order": null,
      "overflow": null,
      "overflow_x": null,
      "overflow_y": null,
      "padding": null,
      "right": null,
      "top": null,
      "visibility": null,
      "width": null
     }
    },
    "c56c19f0ef0d49329901d184f8590fe7": {
     "model_module": "@jupyter-widgets/controls",
     "model_module_version": "1.5.0",
     "model_name": "IntSliderModel",
     "state": {
      "_dom_classes": [],
      "_model_module": "@jupyter-widgets/controls",
      "_model_module_version": "1.5.0",
      "_model_name": "IntSliderModel",
      "_view_count": null,
      "_view_module": "@jupyter-widgets/controls",
      "_view_module_version": "1.5.0",
      "_view_name": "IntSliderView",
      "continuous_update": true,
      "description": "b",
      "description_tooltip": null,
      "disabled": false,
      "layout": "IPY_MODEL_f88f2cbcb74a46b7b137fdae00fd304f",
      "max": 100,
      "min": -100,
      "orientation": "horizontal",
      "readout": true,
      "readout_format": "d",
      "step": 1,
      "style": "IPY_MODEL_eeacf8ef98d14238908803e038a582d1",
      "value": 0
     }
    },
    "c646574b35ac4439b398b51182eea40f": {
     "model_module": "@jupyter-widgets/base",
     "model_module_version": "1.2.0",
     "model_name": "LayoutModel",
     "state": {
      "_model_module": "@jupyter-widgets/base",
      "_model_module_version": "1.2.0",
      "_model_name": "LayoutModel",
      "_view_count": null,
      "_view_module": "@jupyter-widgets/base",
      "_view_module_version": "1.2.0",
      "_view_name": "LayoutView",
      "align_content": null,
      "align_items": null,
      "align_self": null,
      "border": null,
      "bottom": null,
      "display": null,
      "flex": null,
      "flex_flow": null,
      "grid_area": null,
      "grid_auto_columns": null,
      "grid_auto_flow": null,
      "grid_auto_rows": null,
      "grid_column": null,
      "grid_gap": null,
      "grid_row": null,
      "grid_template_areas": null,
      "grid_template_columns": null,
      "grid_template_rows": null,
      "height": null,
      "justify_content": null,
      "justify_items": null,
      "left": null,
      "margin": null,
      "max_height": null,
      "max_width": null,
      "min_height": null,
      "min_width": null,
      "object_fit": null,
      "object_position": null,
      "order": null,
      "overflow": null,
      "overflow_x": null,
      "overflow_y": null,
      "padding": null,
      "right": null,
      "top": null,
      "visibility": null,
      "width": null
     }
    },
    "eeacf8ef98d14238908803e038a582d1": {
     "model_module": "@jupyter-widgets/controls",
     "model_module_version": "1.5.0",
     "model_name": "SliderStyleModel",
     "state": {
      "_model_module": "@jupyter-widgets/controls",
      "_model_module_version": "1.5.0",
      "_model_name": "SliderStyleModel",
      "_view_count": null,
      "_view_module": "@jupyter-widgets/base",
      "_view_module_version": "1.2.0",
      "_view_name": "StyleView",
      "description_width": "",
      "handle_color": null
     }
    },
    "f88f2cbcb74a46b7b137fdae00fd304f": {
     "model_module": "@jupyter-widgets/base",
     "model_module_version": "1.2.0",
     "model_name": "LayoutModel",
     "state": {
      "_model_module": "@jupyter-widgets/base",
      "_model_module_version": "1.2.0",
      "_model_name": "LayoutModel",
      "_view_count": null,
      "_view_module": "@jupyter-widgets/base",
      "_view_module_version": "1.2.0",
      "_view_name": "LayoutView",
      "align_content": null,
      "align_items": null,
      "align_self": null,
      "border": null,
      "bottom": null,
      "display": null,
      "flex": null,
      "flex_flow": null,
      "grid_area": null,
      "grid_auto_columns": null,
      "grid_auto_flow": null,
      "grid_auto_rows": null,
      "grid_column": null,
      "grid_gap": null,
      "grid_row": null,
      "grid_template_areas": null,
      "grid_template_columns": null,
      "grid_template_rows": null,
      "height": null,
      "justify_content": null,
      "justify_items": null,
      "left": null,
      "margin": null,
      "max_height": null,
      "max_width": null,
      "min_height": null,
      "min_width": null,
      "object_fit": null,
      "object_position": null,
      "order": null,
      "overflow": null,
      "overflow_x": null,
      "overflow_y": null,
      "padding": null,
      "right": null,
      "top": null,
      "visibility": null,
      "width": null
     }
    },
    "fab93c2017894cecb7896b0b76f1d27f": {
     "model_module": "@jupyter-widgets/base",
     "model_module_version": "1.2.0",
     "model_name": "LayoutModel",
     "state": {
      "_model_module": "@jupyter-widgets/base",
      "_model_module_version": "1.2.0",
      "_model_name": "LayoutModel",
      "_view_count": null,
      "_view_module": "@jupyter-widgets/base",
      "_view_module_version": "1.2.0",
      "_view_name": "LayoutView",
      "align_content": null,
      "align_items": null,
      "align_self": null,
      "border": null,
      "bottom": null,
      "display": null,
      "flex": null,
      "flex_flow": null,
      "grid_area": null,
      "grid_auto_columns": null,
      "grid_auto_flow": null,
      "grid_auto_rows": null,
      "grid_column": null,
      "grid_gap": null,
      "grid_row": null,
      "grid_template_areas": null,
      "grid_template_columns": null,
      "grid_template_rows": null,
      "height": null,
      "justify_content": null,
      "justify_items": null,
      "left": null,
      "margin": null,
      "max_height": null,
      "max_width": null,
      "min_height": null,
      "min_width": null,
      "object_fit": null,
      "object_position": null,
      "order": null,
      "overflow": null,
      "overflow_x": null,
      "overflow_y": null,
      "padding": null,
      "right": null,
      "top": null,
      "visibility": null,
      "width": null
     }
    }
   }
  }
 },
 "nbformat": 4,
 "nbformat_minor": 0
}
