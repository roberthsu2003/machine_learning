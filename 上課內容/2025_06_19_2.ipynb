{
  "nbformat": 4,
  "nbformat_minor": 0,
  "metadata": {
    "colab": {
      "provenance": [],
      "authorship_tag": "ABX9TyOcdNM5BbpFoFDAz4xmqckC",
      "include_colab_link": true
    },
    "kernelspec": {
      "name": "python3",
      "display_name": "Python 3"
    },
    "language_info": {
      "name": "python"
    }
  },
  "cells": [
    {
      "cell_type": "markdown",
      "metadata": {
        "id": "view-in-github",
        "colab_type": "text"
      },
      "source": [
        "<a href=\"https://colab.research.google.com/github/roberthsu2003/machine_learning/blob/main/%E4%B8%8A%E8%AA%B2%E5%85%A7%E5%AE%B9/2025_06_19_2.ipynb\" target=\"_parent\"><img src=\"https://colab.research.google.com/assets/colab-badge.svg\" alt=\"Open In Colab\"/></a>"
      ]
    },
    {
      "cell_type": "markdown",
      "source": [
        "https://www.perplexity.ai/search/11b99d8e-64b9-449e-b215-063b3411480b"
      ],
      "metadata": {
        "id": "V2tyMjdvKJ60"
      }
    },
    {
      "cell_type": "code",
      "execution_count": null,
      "metadata": {
        "id": "cuQLNGEPG2zu"
      },
      "outputs": [],
      "source": [
        "import numpy as np\n",
        "\n",
        "np.loadtxt('Salary_Data.csv', delimiter=',')"
      ]
    },
    {
      "cell_type": "markdown",
      "source": [],
      "metadata": {
        "id": "khbX7zVeLmJc"
      }
    },
    {
      "cell_type": "code",
      "source": [
        "## 取行數據資料\n",
        "data = np.genfromtxt('Salary_Data.csv', delimiter=',',skip_header=1,dtype=float)\n",
        "np.shape(data)\n"
      ],
      "metadata": {
        "id": "fwRT9lQdLjcw",
        "outputId": "953467ef-48b2-49b3-a3b0-31e7b5cae701",
        "colab": {
          "base_uri": "https://localhost:8080/"
        }
      },
      "execution_count": 7,
      "outputs": [
        {
          "output_type": "execute_result",
          "data": {
            "text/plain": [
              "(30, 2)"
            ]
          },
          "metadata": {},
          "execution_count": 7
        }
      ]
    },
    {
      "cell_type": "code",
      "source": [
        "#numpy的索引(index)和切割(slicing)\n",
        "data[0]\n",
        "data[0,1]\n",
        "#slicing\n",
        "data[:3]\n",
        "data[:3,-1]"
      ],
      "metadata": {
        "id": "nWNkyeO3NHbu",
        "outputId": "830be0f4-2278-47d4-d2b5-94b52eeeb7d2",
        "colab": {
          "base_uri": "https://localhost:8080/"
        }
      },
      "execution_count": 16,
      "outputs": [
        {
          "output_type": "execute_result",
          "data": {
            "text/plain": [
              "array([39343., 46205., 37731.])"
            ]
          },
          "metadata": {},
          "execution_count": 16
        }
      ]
    },
    {
      "cell_type": "code",
      "source": [
        "##年資\n",
        "years_experience = data[:,0]\n",
        "##薪資\n",
        "salary = data[:,1]\n"
      ],
      "metadata": {
        "id": "MjFDBlarPah6",
        "outputId": "4b3709b7-186b-4897-e1d8-ea6427be8fc8",
        "colab": {
          "base_uri": "https://localhost:8080/"
        }
      },
      "execution_count": 18,
      "outputs": [
        {
          "output_type": "execute_result",
          "data": {
            "text/plain": [
              "array([ 39343.,  46205.,  37731.,  43525.,  39891.,  56642.,  60150.,\n",
              "        54445.,  64445.,  57189.,  63218.,  55794.,  56957.,  57081.,\n",
              "        61111.,  67938.,  66029.,  83088.,  81363.,  93940.,  91738.,\n",
              "        98273., 101302., 113812., 109431., 105582., 116969., 112635.,\n",
              "       122391., 121872.])"
            ]
          },
          "metadata": {},
          "execution_count": 18
        }
      ]
    }
  ]
}