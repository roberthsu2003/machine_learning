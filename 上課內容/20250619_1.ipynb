{
  "nbformat": 4,
  "nbformat_minor": 0,
  "metadata": {
    "colab": {
      "provenance": [],
      "authorship_tag": "ABX9TyNWPmfHvfN9rM2YOsaKmOwS",
      "include_colab_link": true
    },
    "kernelspec": {
      "name": "python3",
      "display_name": "Python 3"
    },
    "language_info": {
      "name": "python"
    }
  },
  "cells": [
    {
      "cell_type": "markdown",
      "metadata": {
        "id": "view-in-github",
        "colab_type": "text"
      },
      "source": [
        "<a href=\"https://colab.research.google.com/github/roberthsu2003/machine_learning/blob/main/%E4%B8%8A%E8%AA%B2%E5%85%A7%E5%AE%B9/20250619_1.ipynb\" target=\"_parent\"><img src=\"https://colab.research.google.com/assets/colab-badge.svg\" alt=\"Open In Colab\"/></a>"
      ]
    },
    {
      "cell_type": "markdown",
      "source": [
        "## numpy\n",
        "https://www.perplexity.ai/search/c8649540-3d94-4eea-81fb-27a7aa50f9ac"
      ],
      "metadata": {
        "id": "CGdMjTPgtAJe"
      }
    },
    {
      "cell_type": "code",
      "execution_count": 2,
      "metadata": {
        "id": "dj2TvMqps3UN",
        "colab": {
          "base_uri": "https://localhost:8080/"
        },
        "outputId": "c04860a7-23f0-4c59-b19b-aab0a69e5b8f"
      },
      "outputs": [
        {
          "output_type": "stream",
          "name": "stdout",
          "text": [
            "25.6\n",
            "92.7\n",
            "31.5\n",
            "85.9\n",
            "47.8\n"
          ]
        }
      ],
      "source": [
        "l1 = [25.6 , 92.7, 31.5, 85.9, 47.8]\n",
        "\n",
        "for element in l1:\n",
        "  print(element)"
      ]
    },
    {
      "cell_type": "code",
      "source": [
        "#將每個元素值+10\n",
        "\n",
        "l2 = []\n",
        "for element in l1:\n",
        "  l2.append(element+10)\n",
        "l2"
      ],
      "metadata": {
        "colab": {
          "base_uri": "https://localhost:8080/"
        },
        "id": "QneKxOK6x2_3",
        "outputId": "041b996b-9a80-4dee-a89d-ca665db634ee"
      },
      "execution_count": 3,
      "outputs": [
        {
          "output_type": "execute_result",
          "data": {
            "text/plain": [
              "[35.6, 102.7, 41.5, 95.9, 57.8]"
            ]
          },
          "metadata": {},
          "execution_count": 3
        }
      ]
    },
    {
      "cell_type": "markdown",
      "source": [
        "## numpy\n",
        "每個元素+10"
      ],
      "metadata": {
        "id": "K2-e-Er_0GFo"
      }
    },
    {
      "cell_type": "code",
      "source": [
        "!pip install numpy"
      ],
      "metadata": {
        "id": "XdKggNDB0IM4",
        "outputId": "b0fb70d3-7aeb-402d-b8a9-1a719ae7adcc",
        "colab": {
          "base_uri": "https://localhost:8080/"
        }
      },
      "execution_count": 4,
      "outputs": [
        {
          "output_type": "stream",
          "name": "stdout",
          "text": [
            "Requirement already satisfied: numpy in /usr/local/lib/python3.11/dist-packages (2.0.2)\n"
          ]
        }
      ]
    },
    {
      "cell_type": "code",
      "source": [
        "import numpy as np\n",
        "\n",
        "array1 = np.array([25.6 , 92.7, 31.5, 85.9, 47.8],dtype=float)\n",
        "#陣列運算\n",
        "array2 = array1 + 10\n",
        "array2"
      ],
      "metadata": {
        "id": "8d8uNXWJ1wqL",
        "outputId": "1ec5bc19-2ce7-49b2-fa67-d2de0b61adda",
        "colab": {
          "base_uri": "https://localhost:8080/"
        }
      },
      "execution_count": 13,
      "outputs": [
        {
          "output_type": "execute_result",
          "data": {
            "text/plain": [
              "array([ 35.6, 102.7,  41.5,  95.9,  57.8])"
            ]
          },
          "metadata": {},
          "execution_count": 13
        }
      ]
    },
    {
      "cell_type": "code",
      "source": [
        "scores = np.random.randint(50, high=101,size=(50,5))\n",
        "scores - 5"
      ],
      "metadata": {
        "id": "D8YdrCNU7DB_",
        "outputId": "401368a4-7d50-4684-b70a-55567d3e96db",
        "colab": {
          "base_uri": "https://localhost:8080/"
        }
      },
      "execution_count": 34,
      "outputs": [
        {
          "output_type": "execute_result",
          "data": {
            "text/plain": [
              "array([[77, 75, 81, 83, 57],\n",
              "       [50, 62, 72, 54, 76],\n",
              "       [58, 72, 59, 69, 76],\n",
              "       [57, 80, 95, 47, 59],\n",
              "       [80, 79, 95, 56, 57],\n",
              "       [80, 59, 73, 75, 46],\n",
              "       [80, 68, 56, 57, 88],\n",
              "       [88, 45, 53, 72, 69],\n",
              "       [85, 91, 51, 65, 55],\n",
              "       [59, 55, 68, 45, 45],\n",
              "       [91, 70, 89, 47, 79],\n",
              "       [72, 56, 71, 91, 87],\n",
              "       [46, 75, 46, 78, 85],\n",
              "       [46, 58, 86, 91, 57],\n",
              "       [45, 46, 90, 76, 89],\n",
              "       [77, 74, 58, 86, 89],\n",
              "       [64, 78, 51, 47, 76],\n",
              "       [84, 59, 51, 63, 86],\n",
              "       [48, 68, 94, 53, 71],\n",
              "       [67, 75, 55, 57, 63],\n",
              "       [46, 63, 86, 60, 46],\n",
              "       [68, 89, 95, 64, 46],\n",
              "       [83, 78, 89, 68, 77],\n",
              "       [64, 74, 86, 93, 73],\n",
              "       [70, 56, 61, 54, 77],\n",
              "       [56, 55, 69, 58, 62],\n",
              "       [57, 62, 76, 95, 76],\n",
              "       [67, 60, 60, 79, 61],\n",
              "       [67, 87, 89, 61, 87],\n",
              "       [91, 56, 70, 66, 68],\n",
              "       [87, 85, 45, 50, 66],\n",
              "       [53, 95, 50, 69, 49],\n",
              "       [93, 55, 46, 77, 65],\n",
              "       [73, 74, 73, 80, 50],\n",
              "       [80, 95, 73, 65, 50],\n",
              "       [76, 55, 82, 95, 70],\n",
              "       [57, 72, 72, 69, 93],\n",
              "       [50, 95, 66, 56, 51],\n",
              "       [66, 93, 70, 69, 72],\n",
              "       [91, 77, 46, 61, 67],\n",
              "       [92, 52, 85, 50, 70],\n",
              "       [69, 59, 67, 93, 93],\n",
              "       [82, 87, 60, 48, 94],\n",
              "       [73, 89, 61, 76, 61],\n",
              "       [55, 94, 89, 73, 46],\n",
              "       [77, 61, 64, 67, 53],\n",
              "       [76, 65, 92, 90, 77],\n",
              "       [50, 59, 73, 60, 61],\n",
              "       [54, 56, 74, 59, 76],\n",
              "       [92, 80, 82, 53, 73]])"
            ]
          },
          "metadata": {},
          "execution_count": 34
        }
      ]
    }
  ]
}