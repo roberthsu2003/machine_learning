{
  "nbformat": 4,
  "nbformat_minor": 0,
  "metadata": {
    "colab": {
      "provenance": [],
      "authorship_tag": "ABX9TyME+f0Hl2nChrP1STvtI0NR",
      "include_colab_link": true
    },
    "kernelspec": {
      "name": "python3",
      "display_name": "Python 3"
    },
    "language_info": {
      "name": "python"
    }
  },
  "cells": [
    {
      "cell_type": "markdown",
      "metadata": {
        "id": "view-in-github",
        "colab_type": "text"
      },
      "source": [
        "<a href=\"https://colab.research.google.com/github/roberthsu2003/machine_learning/blob/main/%E4%B8%8A%E8%AA%B2%E5%85%A7%E5%AE%B9/20250619_1.ipynb\" target=\"_parent\"><img src=\"https://colab.research.google.com/assets/colab-badge.svg\" alt=\"Open In Colab\"/></a>"
      ]
    },
    {
      "cell_type": "markdown",
      "source": [
        "## numpy\n",
        "https://www.perplexity.ai/search/c8649540-3d94-4eea-81fb-27a7aa50f9ac"
      ],
      "metadata": {
        "id": "CGdMjTPgtAJe"
      }
    },
    {
      "cell_type": "code",
      "execution_count": 2,
      "metadata": {
        "id": "dj2TvMqps3UN",
        "colab": {
          "base_uri": "https://localhost:8080/"
        },
        "outputId": "c04860a7-23f0-4c59-b19b-aab0a69e5b8f"
      },
      "outputs": [
        {
          "output_type": "stream",
          "name": "stdout",
          "text": [
            "25.6\n",
            "92.7\n",
            "31.5\n",
            "85.9\n",
            "47.8\n"
          ]
        }
      ],
      "source": [
        "l1 = [25.6 , 92.7, 31.5, 85.9, 47.8]\n",
        "\n",
        "for element in l1:\n",
        "  print(element)"
      ]
    },
    {
      "cell_type": "code",
      "source": [
        "#將每個元素值+10\n",
        "\n",
        "l2 = []\n",
        "for element in l1:\n",
        "  l2.append(element+10)\n",
        "l2"
      ],
      "metadata": {
        "id": "QneKxOK6x2_3",
        "outputId": "041b996b-9a80-4dee-a89d-ca665db634ee",
        "colab": {
          "base_uri": "https://localhost:8080/"
        }
      },
      "execution_count": 3,
      "outputs": [
        {
          "output_type": "execute_result",
          "data": {
            "text/plain": [
              "[35.6, 102.7, 41.5, 95.9, 57.8]"
            ]
          },
          "metadata": {},
          "execution_count": 3
        }
      ]
    }
  ]
}