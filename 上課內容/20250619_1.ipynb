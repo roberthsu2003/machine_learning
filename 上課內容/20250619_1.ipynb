{
  "nbformat": 4,
  "nbformat_minor": 0,
  "metadata": {
    "colab": {
      "provenance": [],
      "authorship_tag": "ABX9TyP722g6JlURprJjMMkB/mec",
      "include_colab_link": true
    },
    "kernelspec": {
      "name": "python3",
      "display_name": "Python 3"
    },
    "language_info": {
      "name": "python"
    }
  },
  "cells": [
    {
      "cell_type": "markdown",
      "metadata": {
        "id": "view-in-github",
        "colab_type": "text"
      },
      "source": [
        "<a href=\"https://colab.research.google.com/github/roberthsu2003/machine_learning/blob/main/%E4%B8%8A%E8%AA%B2%E5%85%A7%E5%AE%B9/20250619_1.ipynb\" target=\"_parent\"><img src=\"https://colab.research.google.com/assets/colab-badge.svg\" alt=\"Open In Colab\"/></a>"
      ]
    },
    {
      "cell_type": "markdown",
      "source": [
        "## numpy\n",
        "https://www.perplexity.ai/search/c8649540-3d94-4eea-81fb-27a7aa50f9ac"
      ],
      "metadata": {
        "id": "CGdMjTPgtAJe"
      }
    },
    {
      "cell_type": "code",
      "execution_count": 2,
      "metadata": {
        "id": "dj2TvMqps3UN",
        "colab": {
          "base_uri": "https://localhost:8080/"
        },
        "outputId": "c04860a7-23f0-4c59-b19b-aab0a69e5b8f"
      },
      "outputs": [
        {
          "output_type": "stream",
          "name": "stdout",
          "text": [
            "25.6\n",
            "92.7\n",
            "31.5\n",
            "85.9\n",
            "47.8\n"
          ]
        }
      ],
      "source": [
        "l1 = [25.6 , 92.7, 31.5, 85.9, 47.8]\n",
        "\n",
        "for element in l1:\n",
        "  print(element)"
      ]
    },
    {
      "cell_type": "code",
      "source": [
        "#將每個元素值+10\n",
        "\n",
        "l2 = []\n",
        "for element in l1:\n",
        "  l2.append(element+10)\n",
        "l2"
      ],
      "metadata": {
        "colab": {
          "base_uri": "https://localhost:8080/"
        },
        "id": "QneKxOK6x2_3",
        "outputId": "041b996b-9a80-4dee-a89d-ca665db634ee"
      },
      "execution_count": 3,
      "outputs": [
        {
          "output_type": "execute_result",
          "data": {
            "text/plain": [
              "[35.6, 102.7, 41.5, 95.9, 57.8]"
            ]
          },
          "metadata": {},
          "execution_count": 3
        }
      ]
    },
    {
      "cell_type": "markdown",
      "source": [
        "## numpy\n",
        "每個元素+10"
      ],
      "metadata": {
        "id": "K2-e-Er_0GFo"
      }
    },
    {
      "cell_type": "code",
      "source": [
        "!pip install numpy"
      ],
      "metadata": {
        "colab": {
          "base_uri": "https://localhost:8080/"
        },
        "id": "XdKggNDB0IM4",
        "outputId": "b0fb70d3-7aeb-402d-b8a9-1a719ae7adcc"
      },
      "execution_count": 4,
      "outputs": [
        {
          "output_type": "stream",
          "name": "stdout",
          "text": [
            "Requirement already satisfied: numpy in /usr/local/lib/python3.11/dist-packages (2.0.2)\n"
          ]
        }
      ]
    },
    {
      "cell_type": "code",
      "source": [
        "import numpy as np\n",
        "\n",
        "array1 = np.array([25.6 , 92.7, 31.5, 85.9, 47.8],dtype=float)\n",
        "#陣列運算\n",
        "array2 = array1 + 10\n",
        "array2"
      ],
      "metadata": {
        "colab": {
          "base_uri": "https://localhost:8080/"
        },
        "id": "8d8uNXWJ1wqL",
        "outputId": "1ec5bc19-2ce7-49b2-fa67-d2de0b61adda"
      },
      "execution_count": 13,
      "outputs": [
        {
          "output_type": "execute_result",
          "data": {
            "text/plain": [
              "array([ 35.6, 102.7,  41.5,  95.9,  57.8])"
            ]
          },
          "metadata": {},
          "execution_count": 13
        }
      ]
    },
    {
      "cell_type": "code",
      "source": [
        "scores = np.random.randint(50, high=101,size=(50,5))\n",
        "type(scores)"
      ],
      "metadata": {
        "colab": {
          "base_uri": "https://localhost:8080/"
        },
        "id": "D8YdrCNU7DB_",
        "outputId": "857463e8-625b-4db3-f7df-7d9212e84784"
      },
      "execution_count": 35,
      "outputs": [
        {
          "output_type": "execute_result",
          "data": {
            "text/plain": [
              "numpy.ndarray"
            ]
          },
          "metadata": {},
          "execution_count": 35
        }
      ]
    },
    {
      "cell_type": "code",
      "source": [
        "print(np.size(scores))\n",
        "np.shape(scores)"
      ],
      "metadata": {
        "id": "PHjnPBLL_S9j",
        "outputId": "e4ca1975-fe86-40dc-a920-c47d1dde4fde",
        "colab": {
          "base_uri": "https://localhost:8080/"
        }
      },
      "execution_count": 38,
      "outputs": [
        {
          "output_type": "stream",
          "name": "stdout",
          "text": [
            "250\n"
          ]
        },
        {
          "output_type": "execute_result",
          "data": {
            "text/plain": [
              "(50, 5)"
            ]
          },
          "metadata": {},
          "execution_count": 38
        }
      ]
    },
    {
      "cell_type": "code",
      "source": [
        "print(scores.size)\n",
        "scores.shape"
      ],
      "metadata": {
        "id": "poP98pJNAE1F",
        "outputId": "6f5cfe93-5872-4ddc-db22-2e6662d26e37",
        "colab": {
          "base_uri": "https://localhost:8080/"
        }
      },
      "execution_count": 43,
      "outputs": [
        {
          "output_type": "stream",
          "name": "stdout",
          "text": [
            "250\n"
          ]
        },
        {
          "output_type": "execute_result",
          "data": {
            "text/plain": [
              "(50, 5)"
            ]
          },
          "metadata": {},
          "execution_count": 43
        }
      ]
    }
  ]
}