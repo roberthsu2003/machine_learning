{
  "nbformat": 4,
  "nbformat_minor": 0,
  "metadata": {
    "colab": {
      "provenance": [],
      "authorship_tag": "ABX9TyOoQfps16CjCxCxxLzTQ/0L",
      "include_colab_link": true
    },
    "kernelspec": {
      "name": "python3",
      "display_name": "Python 3"
    },
    "language_info": {
      "name": "python"
    }
  },
  "cells": [
    {
      "cell_type": "markdown",
      "metadata": {
        "id": "view-in-github",
        "colab_type": "text"
      },
      "source": [
        "<a href=\"https://colab.research.google.com/github/roberthsu2003/machine_learning/blob/main/%E4%B8%8A%E8%AA%B2%E5%85%A7%E5%AE%B9/2025_06_20_1.ipynb\" target=\"_parent\"><img src=\"https://colab.research.google.com/assets/colab-badge.svg\" alt=\"Open In Colab\"/></a>"
      ]
    },
    {
      "cell_type": "markdown",
      "source": [
        "https://www.perplexity.ai/search/e2f62e9b-e34c-496b-96ce-d624941362d9"
      ],
      "metadata": {
        "id": "W7ba-qB7B57e"
      }
    },
    {
      "cell_type": "code",
      "execution_count": 1,
      "metadata": {
        "id": "Q8svnrZe58nd"
      },
      "outputs": [],
      "source": [
        "%%capture\n",
        "%pip install wget"
      ]
    },
    {
      "cell_type": "code",
      "source": [
        "import wget\n",
        "\n",
        "wget.download(\"https://github.com/roberthsu2003/machine_learning/raw/refs/heads/main/source_data/ChineseFont.ttf\")\n",
        ""
      ],
      "metadata": {
        "colab": {
          "base_uri": "https://localhost:8080/",
          "height": 35
        },
        "id": "F6QZhUj07Hn-",
        "outputId": "fb547850-2aab-4d76-9fe5-5e2a542b70ac"
      },
      "execution_count": 2,
      "outputs": [
        {
          "output_type": "execute_result",
          "data": {
            "text/plain": [
              "'ChineseFont.ttf'"
            ],
            "application/vnd.google.colaboratory.intrinsic+json": {
              "type": "string"
            }
          },
          "metadata": {},
          "execution_count": 2
        }
      ]
    },
    {
      "cell_type": "code",
      "source": [
        "\n",
        "## 取行數據資料\n",
        "import numpy as np\n",
        "\n",
        "data = np.genfromtxt('Salary_Data.csv', delimiter=',',skip_header=1,dtype=float)\n",
        "np.shape(data)"
      ],
      "metadata": {
        "colab": {
          "base_uri": "https://localhost:8080/"
        },
        "id": "bRZJTmzq7epa",
        "outputId": "a1c00d69-3b48-4829-ac91-8a6859d25373"
      },
      "execution_count": 3,
      "outputs": [
        {
          "output_type": "execute_result",
          "data": {
            "text/plain": [
              "(30, 2)"
            ]
          },
          "metadata": {},
          "execution_count": 3
        }
      ]
    },
    {
      "cell_type": "code",
      "source": [
        "\n",
        "#numpy的索引(index)和切割(slicing)\n",
        "data[0]\n",
        "data[0,1]\n",
        "#slicing\n",
        "data[:3]\n",
        "data[:3,-1]"
      ],
      "metadata": {
        "colab": {
          "base_uri": "https://localhost:8080/"
        },
        "id": "tTjnyHxx7imV",
        "outputId": "ce6390b8-9ff1-47e3-b3d7-d142fa6be43a"
      },
      "execution_count": 4,
      "outputs": [
        {
          "output_type": "execute_result",
          "data": {
            "text/plain": [
              "array([39343., 46205., 37731.])"
            ]
          },
          "metadata": {},
          "execution_count": 4
        }
      ]
    },
    {
      "cell_type": "code",
      "source": [
        "type(data)\n",
        "data.shape\n",
        "years_experience = data[:,0]\n",
        "salary = data[:,1]\n",
        "years_experience.shape\n",
        "salary"
      ],
      "metadata": {
        "colab": {
          "base_uri": "https://localhost:8080/"
        },
        "id": "qkSBhfVo8u1s",
        "outputId": "83dd0617-2571-46b4-82b4-cf81dedd4b52"
      },
      "execution_count": 16,
      "outputs": [
        {
          "output_type": "execute_result",
          "data": {
            "text/plain": [
              "array([ 39343.,  46205.,  37731.,  43525.,  39891.,  56642.,  60150.,\n",
              "        54445.,  64445.,  57189.,  63218.,  55794.,  56957.,  57081.,\n",
              "        61111.,  67938.,  66029.,  83088.,  81363.,  93940.,  91738.,\n",
              "        98273., 101302., 113812., 109431., 105582., 116969., 112635.,\n",
              "       122391., 121872.])"
            ]
          },
          "metadata": {},
          "execution_count": 16
        }
      ]
    },
    {
      "cell_type": "code",
      "source": [
        "a1, a2, a3= (54, 27, 92)\n",
        "a1\n",
        "a2\n",
        "a3\n",
        "(54,)\n",
        "f\"a1={a1},a2={a2},a3={a3}\" #字串插補"
      ],
      "metadata": {
        "colab": {
          "base_uri": "https://localhost:8080/",
          "height": 35
        },
        "id": "-gGTUzJB_hEW",
        "outputId": "1e5d36d4-9599-49e0-b451-987f82acda54"
      },
      "execution_count": 20,
      "outputs": [
        {
          "output_type": "execute_result",
          "data": {
            "text/plain": [
              "'a1=54,a2=27,a3=92'"
            ],
            "application/vnd.google.colaboratory.intrinsic+json": {
              "type": "string"
            }
          },
          "metadata": {},
          "execution_count": 20
        }
      ]
    },
    {
      "cell_type": "code",
      "source": [
        "print(f\"年資前5筆是:{years_experience[:5]}\")\n",
        "print(f\"薪資前5筆是:{salary[:5]}\")"
      ],
      "metadata": {
        "colab": {
          "base_uri": "https://localhost:8080/"
        },
        "id": "rKoiX0meADxm",
        "outputId": "dbbd9121-f6f8-40bf-97e0-adea15a4b88a"
      },
      "execution_count": 22,
      "outputs": [
        {
          "output_type": "stream",
          "name": "stdout",
          "text": [
            "年資前5筆是:[1.1 1.3 1.5 2.  2.2]\n",
            "薪資前5筆是:[39343. 46205. 37731. 43525. 39891.]\n"
          ]
        }
      ]
    },
    {
      "cell_type": "code",
      "source": [
        "#使用numpy的統計功能\n",
        "#平均,中位數,標準差,最高,最低\n",
        "\n",
        "print(\"\\n基本統計分析:\")\n",
        "print(f\"平均年資: {np.mean(years_experience,dtype=float):.2f} 年\")\n",
        "print(f\"年資中位數: {np.median(years_experience):.2f} 年\")\n",
        "print(f\"年資標準差: {np.std(years_experience):.2f} 年\")\n",
        "print(f\"最高年資: {np.max(years_experience):.2f} 年\")\n",
        "print(f\"最低年資: {np.min(years_experience):.2f} 年\")\n",
        "\n",
        "print(f\"\\n平均薪資: {np.mean(salary):.2f}\")\n",
        "print(f\"薪資中位數: {np.median(salary):.2f}\")\n",
        "print(f\"薪資標準差: {np.std(salary):.2f}\")\n",
        "print(f\"最高薪資: {np.max(salary):.2f}\")\n",
        "print(f\"最低薪資: {np.min(salary):.2f}\")\n"
      ],
      "metadata": {
        "colab": {
          "base_uri": "https://localhost:8080/"
        },
        "id": "SofzKefuDl3F",
        "outputId": "6f4c58a5-6c1c-46cf-c9c7-af2563fd83fb"
      },
      "execution_count": 24,
      "outputs": [
        {
          "output_type": "stream",
          "name": "stdout",
          "text": [
            "\n",
            "基本統計分析:\n",
            "平均年資: 5.31 年\n",
            "年資中位數: 4.70 年\n",
            "年資標準差: 2.79 年\n",
            "最高年資: 10.50 年\n",
            "最低年資: 1.10 年\n",
            "\n",
            "平均薪資: 76003.00\n",
            "薪資中位數: 65237.00\n",
            "薪資標準差: 26953.65\n",
            "最高薪資: 122391.00\n",
            "最低薪資: 37731.00\n"
          ]
        }
      ]
    },
    {
      "cell_type": "code",
      "source": [
        "#相關係數\n",
        "correlation = np.corrcoef(years_experience,salary)\n",
        "type(correlation)\n",
        "correlation.shape\n",
        "correlation[0,1]"
      ],
      "metadata": {
        "id": "ctFtUpRHJONU",
        "outputId": "36f723cb-fe2c-4bb6-f35c-0476733e1f9f",
        "colab": {
          "base_uri": "https://localhost:8080/"
        }
      },
      "execution_count": 30,
      "outputs": [
        {
          "output_type": "execute_result",
          "data": {
            "text/plain": [
              "np.float64(0.9782416184887599)"
            ]
          },
          "metadata": {},
          "execution_count": 30
        }
      ]
    }
  ]
}