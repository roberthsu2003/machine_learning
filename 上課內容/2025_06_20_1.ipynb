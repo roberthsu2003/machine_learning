{
  "nbformat": 4,
  "nbformat_minor": 0,
  "metadata": {
    "colab": {
      "provenance": [],
      "authorship_tag": "ABX9TyN8m6rSPa4z9AKBlMbH9e7y",
      "include_colab_link": true
    },
    "kernelspec": {
      "name": "python3",
      "display_name": "Python 3"
    },
    "language_info": {
      "name": "python"
    }
  },
  "cells": [
    {
      "cell_type": "markdown",
      "metadata": {
        "id": "view-in-github",
        "colab_type": "text"
      },
      "source": [
        "<a href=\"https://colab.research.google.com/github/roberthsu2003/machine_learning/blob/main/%E4%B8%8A%E8%AA%B2%E5%85%A7%E5%AE%B9/2025_06_20_1.ipynb\" target=\"_parent\"><img src=\"https://colab.research.google.com/assets/colab-badge.svg\" alt=\"Open In Colab\"/></a>"
      ]
    },
    {
      "cell_type": "code",
      "execution_count": 1,
      "metadata": {
        "id": "Q8svnrZe58nd"
      },
      "outputs": [],
      "source": [
        "%%capture\n",
        "%pip install wget"
      ]
    },
    {
      "cell_type": "code",
      "source": [
        "import wget\n",
        "\n",
        "wget.download(\"https://github.com/roberthsu2003/machine_learning/raw/refs/heads/main/source_data/ChineseFont.ttf\")\n",
        ""
      ],
      "metadata": {
        "id": "F6QZhUj07Hn-",
        "outputId": "fb547850-2aab-4d76-9fe5-5e2a542b70ac",
        "colab": {
          "base_uri": "https://localhost:8080/",
          "height": 35
        }
      },
      "execution_count": 2,
      "outputs": [
        {
          "output_type": "execute_result",
          "data": {
            "text/plain": [
              "'ChineseFont.ttf'"
            ],
            "application/vnd.google.colaboratory.intrinsic+json": {
              "type": "string"
            }
          },
          "metadata": {},
          "execution_count": 2
        }
      ]
    },
    {
      "cell_type": "code",
      "source": [
        "\n",
        "## 取行數據資料\n",
        "import numpy as np\n",
        "\n",
        "data = np.genfromtxt('Salary_Data.csv', delimiter=',',skip_header=1,dtype=float)\n",
        "np.shape(data)"
      ],
      "metadata": {
        "id": "bRZJTmzq7epa",
        "outputId": "a1c00d69-3b48-4829-ac91-8a6859d25373",
        "colab": {
          "base_uri": "https://localhost:8080/"
        }
      },
      "execution_count": 3,
      "outputs": [
        {
          "output_type": "execute_result",
          "data": {
            "text/plain": [
              "(30, 2)"
            ]
          },
          "metadata": {},
          "execution_count": 3
        }
      ]
    },
    {
      "cell_type": "code",
      "source": [
        "\n",
        "#numpy的索引(index)和切割(slicing)\n",
        "data[0]\n",
        "data[0,1]\n",
        "#slicing\n",
        "data[:3]\n",
        "data[:3,-1]"
      ],
      "metadata": {
        "id": "tTjnyHxx7imV",
        "outputId": "ce6390b8-9ff1-47e3-b3d7-d142fa6be43a",
        "colab": {
          "base_uri": "https://localhost:8080/"
        }
      },
      "execution_count": 4,
      "outputs": [
        {
          "output_type": "execute_result",
          "data": {
            "text/plain": [
              "array([39343., 46205., 37731.])"
            ]
          },
          "metadata": {},
          "execution_count": 4
        }
      ]
    }
  ]
}