{
  "cells": [
    {
      "cell_type": "markdown",
      "metadata": {
        "id": "view-in-github",
        "colab_type": "text"
      },
      "source": [
        "<a href=\"https://colab.research.google.com/github/roberthsu2003/machine_learning/blob/main/%E9%82%8F%E8%BC%AF%E8%BF%B4%E6%AD%B8/multiclass_classification%E5%AF%A6%E4%BD%9C.ipynb\" target=\"_parent\"><img src=\"https://colab.research.google.com/assets/colab-badge.svg\" alt=\"Open In Colab\"/></a>"
      ]
    },
    {
      "cell_type": "markdown",
      "id": "35f4d7b8",
      "metadata": {
        "id": "35f4d7b8"
      },
      "source": [
        "### 多元線性分類說明實作\n",
        "- 使用iris數據集"
      ]
    },
    {
      "cell_type": "code",
      "execution_count": 1,
      "id": "6e7b31e9",
      "metadata": {
        "id": "6e7b31e9",
        "outputId": "3c2737c1-8a72-49cb-e4a8-731b3c462047",
        "colab": {
          "base_uri": "https://localhost:8080/"
        }
      },
      "outputs": [
        {
          "output_type": "stream",
          "name": "stdout",
          "text": [
            "模型準確率: 1.00\n",
            "\n",
            "分類報告:\n",
            "              precision    recall  f1-score   support\n",
            "\n",
            "      setosa       1.00      1.00      1.00        10\n",
            "  versicolor       1.00      1.00      1.00         9\n",
            "   virginica       1.00      1.00      1.00        11\n",
            "\n",
            "    accuracy                           1.00        30\n",
            "   macro avg       1.00      1.00      1.00        30\n",
            "weighted avg       1.00      1.00      1.00        30\n",
            "\n",
            "\n",
            "每個類別的決策函數係數:\n",
            "\n",
            "類別 setosa:\n",
            "係數: [ 0.1825986   0.45261952 -0.80650293 -0.45132833]\n",
            "截距: 0.11078852652897839\n",
            "\n",
            "類別 versicolor:\n",
            "係數: [ 0.13937878 -0.92084424  0.31352312 -0.81354399]\n",
            "截距: 1.4635214468360784\n",
            "\n",
            "類別 virginica:\n",
            "係數: [-0.73965719 -1.22544371  1.3627434   1.60210385]\n",
            "截距: -1.2312227031036287\n"
          ]
        }
      ],
      "source": [
        "from sklearn.datasets import load_iris\n",
        "from sklearn.model_selection import train_test_split\n",
        "from sklearn.svm import LinearSVC\n",
        "from sklearn.metrics import classification_report, accuracy_score\n",
        "\n",
        "# 1. 載入數據\n",
        "iris = load_iris()\n",
        "X = iris.data\n",
        "y = iris.target\n",
        "\n",
        "# 2. 分割訓練集和測試集\n",
        "X_train, X_test, y_train, y_test = train_test_split(X, y, test_size=0.2, random_state=42)\n",
        "\n",
        "# 3. 建立並訓練模型\n",
        "model = LinearSVC(random_state=42)\n",
        "model.fit(X_train, y_train)\n",
        "\n",
        "# 4. 進行預測\n",
        "y_pred = model.predict(X_test)\n",
        "\n",
        "# 5. 模型評估\n",
        "# 計算準確率\n",
        "accuracy = accuracy_score(y_test, y_pred)\n",
        "print(f\"模型準確率: {accuracy:.2f}\")\n",
        "\n",
        "# 詳細的分類報告\n",
        "print(\"\\n分類報告:\")\n",
        "print(classification_report(y_test, y_pred,\n",
        "                          target_names=iris.target_names,\n",
        "                          zero_division=0))\n",
        "\n",
        "# 顯示每個類別的決策函數係數\n",
        "print(\"\\n每個類別的決策函數係數:\")\n",
        "for i, (coef, intercept) in enumerate(zip(model.coef_, model.intercept_)):\n",
        "    print(f\"\\n類別 {iris.target_names[i]}:\")\n",
        "    print(f\"係數: {coef}\")\n",
        "    print(f\"截距: {intercept}\")"
      ]
    }
  ],
  "metadata": {
    "kernelspec": {
      "display_name": "base",
      "language": "python",
      "name": "python3"
    },
    "language_info": {
      "codemirror_mode": {
        "name": "ipython",
        "version": 3
      },
      "file_extension": ".py",
      "mimetype": "text/x-python",
      "name": "python",
      "nbconvert_exporter": "python",
      "pygments_lexer": "ipython3",
      "version": "3.12.2"
    },
    "colab": {
      "provenance": [],
      "include_colab_link": true
    }
  },
  "nbformat": 4,
  "nbformat_minor": 5
}