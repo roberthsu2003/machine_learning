{
 "cells": [
  {
   "cell_type": "code",
   "execution_count": null,
   "metadata": {},
   "outputs": [],
   "source": [
    "%pip install wget"
   ]
  },
  {
   "cell_type": "code",
   "execution_count": null,
   "metadata": {},
   "outputs": [],
   "source": [
    "import wget\n",
    "\n",
    "wget.download(\"https://github.com/roberthsu2003/machine_learning/raw/refs/heads/main/source_data/ChineseFont.ttf\")"
   ]
  },
  {
   "cell_type": "code",
   "execution_count": 15,
   "metadata": {},
   "outputs": [],
   "source": [
    "import matplotlib as mpl\n",
    "from matplotlib.font_manager import fontManager\n",
    "fontManager.addfont(\"ChineseFont.ttf\")\n",
    "mpl.rc('font', family=\"ChineseFont\")\n"
   ]
  },
  {
   "cell_type": "markdown",
   "metadata": {},
   "source": [
    "### 使用真偽資料集\n"
   ]
  },
  {
   "cell_type": "code",
   "execution_count": 16,
   "metadata": {},
   "outputs": [
    {
     "name": "stdout",
     "output_type": "stream",
     "text": [
      "[1 0 1 0 0 1 1 0 1 1 1 1 0 0 1 1 1 0 0 1 0 0 0 0 1 0]\n"
     ]
    },
    {
     "data": {
      "text/html": [
       "<div>\n",
       "<style scoped>\n",
       "    .dataframe tbody tr th:only-of-type {\n",
       "        vertical-align: middle;\n",
       "    }\n",
       "\n",
       "    .dataframe tbody tr th {\n",
       "        vertical-align: top;\n",
       "    }\n",
       "\n",
       "    .dataframe thead th {\n",
       "        text-align: right;\n",
       "    }\n",
       "</style>\n",
       "<table border=\"1\" class=\"dataframe\">\n",
       "  <thead>\n",
       "    <tr style=\"text-align: right;\">\n",
       "      <th></th>\n",
       "      <th>特徵0</th>\n",
       "      <th>特徵1</th>\n",
       "      <th>真偽</th>\n",
       "    </tr>\n",
       "  </thead>\n",
       "  <tbody>\n",
       "    <tr>\n",
       "      <th>0</th>\n",
       "      <td>9.963466</td>\n",
       "      <td>4.596765</td>\n",
       "      <td>1</td>\n",
       "    </tr>\n",
       "    <tr>\n",
       "      <th>1</th>\n",
       "      <td>11.032954</td>\n",
       "      <td>-0.168167</td>\n",
       "      <td>0</td>\n",
       "    </tr>\n",
       "    <tr>\n",
       "      <th>2</th>\n",
       "      <td>11.541558</td>\n",
       "      <td>5.211161</td>\n",
       "      <td>1</td>\n",
       "    </tr>\n",
       "    <tr>\n",
       "      <th>3</th>\n",
       "      <td>8.692890</td>\n",
       "      <td>1.543220</td>\n",
       "      <td>0</td>\n",
       "    </tr>\n",
       "    <tr>\n",
       "      <th>4</th>\n",
       "      <td>8.106227</td>\n",
       "      <td>4.286960</td>\n",
       "      <td>0</td>\n",
       "    </tr>\n",
       "    <tr>\n",
       "      <th>5</th>\n",
       "      <td>8.309889</td>\n",
       "      <td>4.806240</td>\n",
       "      <td>1</td>\n",
       "    </tr>\n",
       "    <tr>\n",
       "      <th>6</th>\n",
       "      <td>11.930271</td>\n",
       "      <td>4.648663</td>\n",
       "      <td>1</td>\n",
       "    </tr>\n",
       "    <tr>\n",
       "      <th>7</th>\n",
       "      <td>9.672847</td>\n",
       "      <td>-0.202832</td>\n",
       "      <td>0</td>\n",
       "    </tr>\n",
       "    <tr>\n",
       "      <th>8</th>\n",
       "      <td>8.348103</td>\n",
       "      <td>5.134156</td>\n",
       "      <td>1</td>\n",
       "    </tr>\n",
       "    <tr>\n",
       "      <th>9</th>\n",
       "      <td>8.674947</td>\n",
       "      <td>4.475731</td>\n",
       "      <td>1</td>\n",
       "    </tr>\n",
       "    <tr>\n",
       "      <th>10</th>\n",
       "      <td>9.177484</td>\n",
       "      <td>5.092832</td>\n",
       "      <td>1</td>\n",
       "    </tr>\n",
       "    <tr>\n",
       "      <th>11</th>\n",
       "      <td>10.240289</td>\n",
       "      <td>2.455444</td>\n",
       "      <td>1</td>\n",
       "    </tr>\n",
       "    <tr>\n",
       "      <th>12</th>\n",
       "      <td>8.689371</td>\n",
       "      <td>1.487096</td>\n",
       "      <td>0</td>\n",
       "    </tr>\n",
       "    <tr>\n",
       "      <th>13</th>\n",
       "      <td>8.922295</td>\n",
       "      <td>-0.639932</td>\n",
       "      <td>0</td>\n",
       "    </tr>\n",
       "    <tr>\n",
       "      <th>14</th>\n",
       "      <td>9.491235</td>\n",
       "      <td>4.332248</td>\n",
       "      <td>1</td>\n",
       "    </tr>\n",
       "    <tr>\n",
       "      <th>15</th>\n",
       "      <td>9.256942</td>\n",
       "      <td>5.132849</td>\n",
       "      <td>1</td>\n",
       "    </tr>\n",
       "    <tr>\n",
       "      <th>16</th>\n",
       "      <td>7.998153</td>\n",
       "      <td>4.852505</td>\n",
       "      <td>1</td>\n",
       "    </tr>\n",
       "    <tr>\n",
       "      <th>17</th>\n",
       "      <td>8.183781</td>\n",
       "      <td>1.295642</td>\n",
       "      <td>0</td>\n",
       "    </tr>\n",
       "    <tr>\n",
       "      <th>18</th>\n",
       "      <td>8.733709</td>\n",
       "      <td>2.491624</td>\n",
       "      <td>0</td>\n",
       "    </tr>\n",
       "    <tr>\n",
       "      <th>19</th>\n",
       "      <td>9.322983</td>\n",
       "      <td>5.098406</td>\n",
       "      <td>1</td>\n",
       "    </tr>\n",
       "    <tr>\n",
       "      <th>20</th>\n",
       "      <td>10.063938</td>\n",
       "      <td>0.990781</td>\n",
       "      <td>0</td>\n",
       "    </tr>\n",
       "    <tr>\n",
       "      <th>21</th>\n",
       "      <td>9.500490</td>\n",
       "      <td>-0.264303</td>\n",
       "      <td>0</td>\n",
       "    </tr>\n",
       "    <tr>\n",
       "      <th>22</th>\n",
       "      <td>8.344688</td>\n",
       "      <td>1.638243</td>\n",
       "      <td>0</td>\n",
       "    </tr>\n",
       "    <tr>\n",
       "      <th>23</th>\n",
       "      <td>9.501693</td>\n",
       "      <td>1.938246</td>\n",
       "      <td>0</td>\n",
       "    </tr>\n",
       "    <tr>\n",
       "      <th>24</th>\n",
       "      <td>9.150723</td>\n",
       "      <td>5.498322</td>\n",
       "      <td>1</td>\n",
       "    </tr>\n",
       "    <tr>\n",
       "      <th>25</th>\n",
       "      <td>11.563957</td>\n",
       "      <td>1.338940</td>\n",
       "      <td>0</td>\n",
       "    </tr>\n",
       "  </tbody>\n",
       "</table>\n",
       "</div>"
      ],
      "text/plain": [
       "          特徵0       特徵1  真偽\n",
       "0    9.963466  4.596765   1\n",
       "1   11.032954 -0.168167   0\n",
       "2   11.541558  5.211161   1\n",
       "3    8.692890  1.543220   0\n",
       "4    8.106227  4.286960   0\n",
       "5    8.309889  4.806240   1\n",
       "6   11.930271  4.648663   1\n",
       "7    9.672847 -0.202832   0\n",
       "8    8.348103  5.134156   1\n",
       "9    8.674947  4.475731   1\n",
       "10   9.177484  5.092832   1\n",
       "11  10.240289  2.455444   1\n",
       "12   8.689371  1.487096   0\n",
       "13   8.922295 -0.639932   0\n",
       "14   9.491235  4.332248   1\n",
       "15   9.256942  5.132849   1\n",
       "16   7.998153  4.852505   1\n",
       "17   8.183781  1.295642   0\n",
       "18   8.733709  2.491624   0\n",
       "19   9.322983  5.098406   1\n",
       "20  10.063938  0.990781   0\n",
       "21   9.500490 -0.264303   0\n",
       "22   8.344688  1.638243   0\n",
       "23   9.501693  1.938246   0\n",
       "24   9.150723  5.498322   1\n",
       "25  11.563957  1.338940   0"
      ]
     },
     "execution_count": 16,
     "metadata": {},
     "output_type": "execute_result"
    }
   ],
   "source": [
    "#使用表格檢驗資料集\n",
    "import mglearn.datasets\n",
    "import pandas as pd\n",
    "#X的維度(26,2),代表有2個特徵,\n",
    "# y的維度(26),內容為0和1,0是偽造,1是真\n",
    "X, y = mglearn.datasets.make_forge() \n",
    "#print(X.shape, y.shape)\n",
    "print(y)\n",
    "\n",
    "df = pd.DataFrame(X,columns=['特徵0','特徵1'])\n",
    "df['真偽'] = y\n",
    "df"
   ]
  },
  {
   "cell_type": "code",
   "execution_count": 17,
   "metadata": {},
   "outputs": [
    {
     "data": {
      "text/plain": [
       "<matplotlib.legend.Legend at 0xffff4fdbb800>"
      ]
     },
     "execution_count": 17,
     "metadata": {},
     "output_type": "execute_result"
    },
    {
     "data": {
      "image/png": "[encoded data removed]",
      "text/plain": [
       "<Figure size 1000x300 with 2 Axes>"
      ]
     },
     "metadata": {},
     "output_type": "display_data"
    }
   ],
   "source": [
    "#使用圖表檢驗資料集\n",
    "import mglearn.datasets\n",
    "from sklearn.linear_model import LogisticRegression\n",
    "from sklearn.svm import LinearSVC\n",
    "import mglearn\n",
    "import matplotlib.pyplot as plt\n",
    "\n",
    "X, y = mglearn.datasets.make_forge() #使用真偽資料集\n",
    "\n",
    "fig, axes = plt.subplots(1, 2, figsize = (10, 3))\n",
    "for model, ax in zip([LinearSVC(), LogisticRegression()], axes):\n",
    "    clf = model.fit(X, y)\n",
    "    #X特徵,fill是否填色,alpha,線段的不透明度\n",
    "    mglearn.plots.plot_2d_separator(clf, X, fill=False, eps=0.5, ax=ax, alpha=.7)\n",
    "    mglearn.discrete_scatter(X[:, 0], X[:,1], y, ax=ax)\n",
    "    ax.set_title(\"{}\".format(clf.__class__.__name__))\n",
    "    ax.set_xlabel(\"特徵0\")\n",
    "    ax.set_ylabel(\"特徵1\")\n",
    "axes[0].legend()"
   ]
  },
  {
   "cell_type": "markdown",
   "metadata": {},
   "source": [
    "## 2個預設都使用L2正規化(Ridge)\n",
    "- 對於 LogisticRegression 和 LinearSVC，決定正規化強度的權衡參數稱為 C，C 值越高，正規化程度越低\n",
    "- 當使用較高的參數 C 值時，LogisticRegression 和 LinearSVC 會盡可能地擬合訓練集，而當參數 C 值較低時，模型會更重視尋找接近零的係數向量 (w)。\n",
    "- 使用較低的C值將導致演算法嘗試適應「大多數」資料點，而使用較高的 C 值會強調對每個單獨的資料點進行分類的重要性。\n",
    "正確配置。"
   ]
  },
  {
   "cell_type": "code",
   "execution_count": 9,
   "metadata": {},
   "outputs": [
    {
     "data": {
      "image/png": "[encoded data removed]",
      "text/plain": [
       "<Figure size 1200x400 with 3 Axes>"
      ]
     },
     "metadata": {},
     "output_type": "display_data"
    }
   ],
   "source": [
    "mglearn.plots.plot_linear_svc_regularization()"
   ]
  },
  {
   "cell_type": "markdown",
   "metadata": {},
   "source": [
    "- 分類的線性模型在低維空間中可能看起來非常嚴格，只允許決策邊界是直線或平面。\n",
    "- 在高維度中，用於分類的線性模型變得非常強大，並且在考慮更多特徵時，防止過度擬合變得越來越重要。"
   ]
  },
  {
   "cell_type": "markdown",
   "metadata": {},
   "source": [
    "### 真偽預測和評估"
   ]
  },
  {
   "cell_type": "markdown",
   "metadata": {},
   "source": [
    "stratify 參數的主要用途如下：\n",
    "\n",
    "1. 維持類別分布的平衡  \n",
    "確保分割後的訓練集和測試集中，各個類別的比例與原始數據集相同  \n",
    "避免某些類別在分割後比例失衡的問題\n",
    "\n",
    "2. 處理不平衡數據  \n",
    "特別適用於處理類別不平衡的數據集  \n",
    "例如：如果原始數據中正例與負例的比例是 8:2，分割後的訓練集和測試集也會保持這個比例  \n",
    "\n",
    "3. 實際例子  \n",
    "```\n",
    "# 原始數據假設有100筆，正例:負例 = 80:20\n",
    "# 使用 stratify=y 分割後：\n",
    "# 訓練集(70筆)：正例:負例 = 56:14 (保持 8:2 的比例)\n",
    "# 測試集(30筆)：正例:負例 = 24:6 (保持 8:2 的比例)\n",
    "```"
   ]
  },
  {
   "cell_type": "code",
   "execution_count": 24,
   "metadata": {},
   "outputs": [
    {
     "name": "stdout",
     "output_type": "stream",
     "text": [
      "邏輯迴歸模型評估:\n",
      "--------------------------------------------------\n",
      "準確度: 0.875\n",
      "\n",
      "LinearSVC模型評估:\n",
      "--------------------------------------------------\n",
      "準確度: 0.875\n",
      "==================================================\n",
      "邏輯迴歸模型評估C=100:\n",
      "--------------------------------------------------\n",
      "準確度: 0.875\n",
      "\n",
      "LinearSVC模型評估C=100:\n",
      "--------------------------------------------------\n",
      "準確度: 0.875\n"
     ]
    }
   ],
   "source": [
    "import mglearn.datasets\n",
    "from sklearn.model_selection import train_test_split\n",
    "from sklearn.linear_model import LogisticRegression\n",
    "from sklearn.svm import LinearSVC\n",
    "from sklearn.metrics import accuracy_score, classification_report\n",
    "\n",
    "# 1. 產生資料集並分割成訓練集和測試集\n",
    "# random_state控制資料集分割的隨機性\n",
    "\n",
    "X, y = mglearn.datasets.make_forge()\n",
    "X_train, X_test, y_train, y_test = train_test_split(\n",
    "    X, y, test_size=0.3, random_state=42, stratify=y\n",
    ")\n",
    "\n",
    "# 2. 建立和訓練模型\n",
    "# 使用LogisticRegression\n",
    "#random_state控制模型訓練過程中的隨機性\n",
    "log_model = LogisticRegression(random_state=42)\n",
    "log_model.fit(X_train, y_train)\n",
    "\n",
    "# 使用LinearSVC\n",
    "svc_model = LinearSVC(random_state=42)\n",
    "svc_model.fit(X_train, y_train)\n",
    "\n",
    "# 3. 進行預測\n",
    "log_pred = log_model.predict(X_test)\n",
    "svc_pred = svc_model.predict(X_test)\n",
    "\n",
    "# 4. 評估模型\n",
    "print(\"邏輯迴歸模型評估:\")\n",
    "print(\"-\" * 50)\n",
    "print(f\"準確度: {accuracy_score(y_test, log_pred):.3f}\")\n",
    "#print(\"\\n分類報告:\")\n",
    "#print(classification_report(y_test, log_pred))\n",
    "\n",
    "print(\"\\nLinearSVC模型評估:\")\n",
    "print(\"-\" * 50)\n",
    "print(f\"準確度: {accuracy_score(y_test, svc_pred):.3f}\")\n",
    "#print(\"\\n分類報告:\")\n",
    "#print(classification_report(y_test, svc_pred))\n",
    "print(\"=\"*50)\n",
    "#============c設100================\n",
    "log_model_100 = LogisticRegression(random_state=42,C=100)\n",
    "log_model_100.fit(X_train, y_train)\n",
    "\n",
    "# 使用LinearSVC\n",
    "svc_model_100 = LinearSVC(random_state=42,C=100)\n",
    "svc_model_100.fit(X_train, y_train)\n",
    "\n",
    "# 3. 進行預測\n",
    "log_pred_100 = log_model_100.predict(X_test)\n",
    "svc_pred_100 = svc_model_100.predict(X_test)\n",
    "\n",
    "# 4. 評估模型\n",
    "print(\"邏輯迴歸模型評估C=100:\")\n",
    "print(\"-\" * 50)\n",
    "print(f\"準確度: {accuracy_score(y_test, log_pred_100):.3f}\")\n",
    "\n",
    "\n",
    "print(\"\\nLinearSVC模型評估C=100:\")\n",
    "print(\"-\" * 50)\n",
    "print(f\"準確度: {accuracy_score(y_test, svc_pred_100):.3f}\")\n"
   ]
  },
  {
   "cell_type": "markdown",
   "metadata": {},
   "source": [
    "## 使用特徵比較多的威斯康辛州乳癌資料集"
   ]
  },
  {
   "cell_type": "markdown",
   "metadata": {},
   "source": [
    "## 說明\n",
    "max_iter的意思?\n",
    "1. 優化過程\n",
    "   - 邏輯迴歸使用梯度下降等優化算法來找到最佳的模型參數\n",
    "   - 每次迭代都是調整模型參數的一個步驟\n",
    "   - 目標是最小化損失函數（通常是對數損失）\n",
    "2. 完整數據集的使用\n",
    "   - 在每次迭代中，算法都會使用完整的訓練數據集\n",
    "   - 這表示在一次迭代中，所有訓練樣本都被用來更新模型參數\n",
    "\n",
    "3. 停止條件\n",
    "   - 當算法達到收斂（模型參數幾乎不再變化）時會提前停止\n",
    "   - 如果達到 max_iter 設定的1000次仍未收斂，則強制停止"
   ]
  },
  {
   "cell_type": "markdown",
   "metadata": {},
   "source": [
    "### `fit_transform()`\n",
    "- 這個方法會**同時執行兩個步驟**：\n",
    "  1. **fit (擬合)**：計算訓練數據的統計量（平均值和標準差）\n",
    "  2. **transform (轉換)**：使用計算出的統計量來標準化數據\n",
    "- 主要用於**訓練數據集**\n",
    "- 只能在訓練集上使用一次\n",
    "\n",
    "### `transform()`\n",
    "- 只執行**轉換步驟**\n",
    "- 使用之前 `fit` 時計算好的統計量來進行標準化\n",
    "- 用於**測試數據集**\n",
    "- 可以重複使用在不同的數據集上\n",
    "\n",
    "### 為什麼要這樣區分？\n",
    "1. **數據洩漏問題**：\n",
    "   - 如果在測試集上使用 `fit_transform()`，會導致模型看到測試數據的分布，造成數據洩漏\n",
    "   - 正確做法是只用訓練集的統計量來轉換測試集\n",
    "\n",
    "2. **一致性**：\n",
    "   - 確保測試集使用相同的縮放參數\n",
    "   - 保持訓練集和測試集的轉換標準一致\n",
    "\n"
   ]
  },
  {
   "cell_type": "code",
   "execution_count": null,
   "metadata": {},
   "outputs": [
    {
     "name": "stdout",
     "output_type": "stream",
     "text": [
      "訓練時的分數:0.988\n",
      "測試時的分數:0.986\n"
     ]
    }
   ],
   "source": [
    "from sklearn.preprocessing import StandardScaler\n",
    "from sklearn.datasets import load_breast_cancer\n",
    "from sklearn.model_selection import train_test_split\n",
    "\n",
    "cancer = load_breast_cancer()\n",
    "X_train, X_test, y_train, y_test = train_test_split(\n",
    "cancer.data, cancer.target, stratify=cancer.target, random_state=42)\n",
    "\n",
    "# Scale the data 將數據進行標準化\n",
    "scaler = StandardScaler()\n",
    "X_train_scaled = scaler.fit_transform(X_train)\n",
    "X_test_scaled = scaler.transform(X_test)\n",
    "\n",
    "\n",
    "\n",
    "logreg = LogisticRegression(max_iter=1000).fit(X_train_scaled, y_train)\n",
    "print(\"訓練時的分數:{:.3f}\".format(logreg.score(X_train_scaled, y_train)))\n",
    "print(\"測試時的分數:{:.3f}\".format(logreg.score(X_test_scaled, y_test)))"
   ]
  },
  {
   "cell_type": "code",
   "execution_count": 26,
   "metadata": {},
   "outputs": [
    {
     "name": "stdout",
     "output_type": "stream",
     "text": [
      "訓練時的分數:0.998\n",
      "測試時的分數:0.944\n"
     ]
    }
   ],
   "source": [
    "## 請整c參數\n",
    "from sklearn.preprocessing import StandardScaler\n",
    "from sklearn.datasets import load_breast_cancer\n",
    "from sklearn.model_selection import train_test_split\n",
    "\n",
    "cancer = load_breast_cancer()\n",
    "X_train, X_test, y_train, y_test = train_test_split(\n",
    "cancer.data, cancer.target, stratify=cancer.target, random_state=42)\n",
    "\n",
    "# Scale the data 將數據進行標準化\n",
    "scaler = StandardScaler()\n",
    "X_train_scaled = scaler.fit_transform(X_train)\n",
    "X_test_scaled = scaler.transform(X_test)\n",
    "\n",
    "\n",
    "\n",
    "logreg100 = LogisticRegression(max_iter=1000,C=100).fit(X_train_scaled, y_train)\n",
    "print(\"訓練時的分數:{:.3f}\".format(logreg100.score(X_train_scaled, y_train)))\n",
    "print(\"測試時的分數:{:.3f}\".format(logreg100.score(X_test_scaled, y_test)))"
   ]
  }
 ],
 "metadata": {
  "kernelspec": {
   "display_name": "base",
   "language": "python",
   "name": "python3"
  },
  "language_info": {
   "codemirror_mode": {
    "name": "ipython",
    "version": 3
   },
   "file_extension": ".py",
   "mimetype": "text/x-python",
   "name": "python",
   "nbconvert_exporter": "python",
   "pygments_lexer": "ipython3",
   "version": "3.12.2"
  }
 },
 "nbformat": 4,
 "nbformat_minor": 2
}
