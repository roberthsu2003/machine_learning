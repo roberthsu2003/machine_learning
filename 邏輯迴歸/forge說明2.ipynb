{
  "cells": [
    {
      "cell_type": "markdown",
      "metadata": {
        "colab_type": "text",
        "id": "view-in-github"
      },
      "source": [
        "<a href=\"https://colab.research.google.com/github/roberthsu2003/machine_learning/blob/main/%E9%82%8F%E8%BC%AF%E8%BF%B4%E6%AD%B8/forge%E8%AA%AA%E6%98%8E2.ipynb\" target=\"_parent\"><img src=\"https://colab.research.google.com/assets/colab-badge.svg\" alt=\"Open In Colab\"/></a>"
      ]
    },
    {
      "cell_type": "markdown",
      "metadata": {},
      "source": [
        "## Linear models for classification\n",
        "線性模型也廣泛用於分類。我們先來看看二元分類。在這種情況下，使用以下公式進行預測:\n",
        "```\n",
        "ŷ = w[0] * x[0] + w[1] * x[1] + ... + w[p] * x[p] + b > 0\n",
        "```\n",
        "該公式看起來與線性迴歸公式非常相似，但不是僅僅返回特徵的加權和，這個公式看起來與線性迴歸公式非常相似，但我們不是僅僅返回特徵的加權和，而是將預測值門檻設為零。如果函數小於零，我們預測類別-1,如果它大於零，我們預測該類別為 +1。此預測規則對於所有分類線性模型都是通用的。同樣，有很多不同的方法來找到係數（w）和截距（b）。\n",
        "\n",
        "對於迴歸的線性模型，輸出 ŷ 是特徵的線性函數：直線、平面或超平面（在更高維度中）。對於分類的線性模型，決策邊界是輸入的線性函數。換句話說，（二元）線性分類器是使用線、平面或超平面分離兩個類別的分類器。下面有提供參考範例\n"
      ]
    },
    {
      "cell_type": "markdown",
      "metadata": {},
      "source": [
        "學習線性模型的算法有很多種，這些算法之間主要有兩個不同點：\n",
        "\n",
        "1. 它們如何判斷某個參數組合（比如斜率 w 和截距 b）是否很好地擬合了訓練數據。\n",
        "2. 它們是否使用正則化（一種防止模型過於複雜的技術），以及使用什麼類型的正則化。\n",
        "\n",
        "對於第一點，每個算法用不同的方式來衡量「模型是否很好地擬合訓練數據」，這種衡量方式被稱為損失函數。簡單來說，損失函數就像一個評分標準，用來檢查模型的預測與實際數據的差距有多大。\n",
        "\n",
        "你可能會希望通過調整參數 w 和 b，讓模型的錯誤分類（比如把貓分成了狗）數量降到最低。但因為數學上的限制，這麼做並不可行，也就是說，沒有一個簡單的方法能直接讓錯誤數量變成零。\n",
        "\n",
        "不過，好消息是，在大多數情況下（包括我們現在的目的），選擇哪種損失函數（即第一點的不同衡量方式）對最終結果的影響其實很小。所以，雖然算法之間的損失函數不同，但這對我們來說通常不是什麼大問題。\n"
      ]
    },
    {
      "cell_type": "markdown",
      "metadata": {},
      "source": [
        "兩種最常見的線性分類演算法是邏輯迴歸（在 linear_model.LogisticRegression 中實作）和線性支援向量機（線性 SVM），在 svm.LinearSVC 中實作（SVC 代表支援向量分類器）。儘管名字如此，LogisticRegression 是一種分類演算法，而不是回歸演算法，而且它不應與 LinearRegression 混淆。"
      ]
    },
    {
      "cell_type": "markdown",
      "metadata": {},
      "source": [
        "⬇︎我們可以將邏輯迴歸和線性 SVM 模型應用於 Forge 資料集，並視覺化線性模型發現的決策邊界"
      ]
    },
    {
      "cell_type": "code",
      "execution_count": 1,
      "metadata": {
        "colab": {
          "base_uri": "https://localhost:8080/"
        },
        "id": "i0KvnE4xDFBe",
        "outputId": "4f78176d-72d6-4213-e12a-e4393e8abac9"
      },
      "outputs": [],
      "source": [
        "%%capture\n",
        "%pip install wget mglearn"
      ]
    },
    {
      "cell_type": "code",
      "execution_count": 2,
      "metadata": {
        "colab": {
          "base_uri": "https://localhost:8080/",
          "height": 35
        },
        "id": "i4H3FXZ4DFBf",
        "outputId": "40119d1c-59cd-4887-b3dc-76d791f4716f"
      },
      "outputs": [
        {
          "data": {
            "application/vnd.google.colaboratory.intrinsic+json": {
              "type": "string"
            },
            "text/plain": [
              "'ChineseFont.ttf'"
            ]
          },
          "execution_count": 2,
          "metadata": {},
          "output_type": "execute_result"
        }
      ],
      "source": [
        "import wget\n",
        "\n",
        "wget.download(\"https://github.com/roberthsu2003/machine_learning/raw/refs/heads/main/source_data/ChineseFont.ttf\")"
      ]
    },
    {
      "cell_type": "code",
      "execution_count": 2,
      "metadata": {
        "id": "5dbYt2cEDFBf"
      },
      "outputs": [],
      "source": [
        "import matplotlib as mpl\n",
        "from matplotlib.font_manager import fontManager\n",
        "fontManager.addfont(\"ChineseFont.ttf\")\n",
        "mpl.rc('font', family=\"ChineseFont\")\n"
      ]
    },
    {
      "cell_type": "markdown",
      "metadata": {
        "id": "ISVGUirhDFBg"
      },
      "source": [
        "### 使用真偽資料集\n"
      ]
    },
    {
      "cell_type": "code",
      "execution_count": 3,
      "metadata": {
        "colab": {
          "base_uri": "https://localhost:8080/",
          "height": 883
        },
        "id": "LiVoQ_DiDFBg",
        "outputId": "a9c233df-73ed-470d-eba7-c97f353e5a89"
      },
      "outputs": [
        {
          "name": "stdout",
          "output_type": "stream",
          "text": [
            "[1 0 1 0 0 1 1 0 1 1 1 1 0 0 1 1 1 0 0 1 0 0 0 0 1 0]\n"
          ]
        },
        {
          "data": {
            "text/html": [
              "<div>\n",
              "<style scoped>\n",
              "    .dataframe tbody tr th:only-of-type {\n",
              "        vertical-align: middle;\n",
              "    }\n",
              "\n",
              "    .dataframe tbody tr th {\n",
              "        vertical-align: top;\n",
              "    }\n",
              "\n",
              "    .dataframe thead th {\n",
              "        text-align: right;\n",
              "    }\n",
              "</style>\n",
              "<table border=\"1\" class=\"dataframe\">\n",
              "  <thead>\n",
              "    <tr style=\"text-align: right;\">\n",
              "      <th></th>\n",
              "      <th>特徵0</th>\n",
              "      <th>特徵1</th>\n",
              "      <th>真偽</th>\n",
              "    </tr>\n",
              "  </thead>\n",
              "  <tbody>\n",
              "    <tr>\n",
              "      <th>0</th>\n",
              "      <td>9.963466</td>\n",
              "      <td>4.596765</td>\n",
              "      <td>1</td>\n",
              "    </tr>\n",
              "    <tr>\n",
              "      <th>1</th>\n",
              "      <td>11.032954</td>\n",
              "      <td>-0.168167</td>\n",
              "      <td>0</td>\n",
              "    </tr>\n",
              "    <tr>\n",
              "      <th>2</th>\n",
              "      <td>11.541558</td>\n",
              "      <td>5.211161</td>\n",
              "      <td>1</td>\n",
              "    </tr>\n",
              "    <tr>\n",
              "      <th>3</th>\n",
              "      <td>8.692890</td>\n",
              "      <td>1.543220</td>\n",
              "      <td>0</td>\n",
              "    </tr>\n",
              "    <tr>\n",
              "      <th>4</th>\n",
              "      <td>8.106227</td>\n",
              "      <td>4.286960</td>\n",
              "      <td>0</td>\n",
              "    </tr>\n",
              "    <tr>\n",
              "      <th>5</th>\n",
              "      <td>8.309889</td>\n",
              "      <td>4.806240</td>\n",
              "      <td>1</td>\n",
              "    </tr>\n",
              "    <tr>\n",
              "      <th>6</th>\n",
              "      <td>11.930271</td>\n",
              "      <td>4.648663</td>\n",
              "      <td>1</td>\n",
              "    </tr>\n",
              "    <tr>\n",
              "      <th>7</th>\n",
              "      <td>9.672847</td>\n",
              "      <td>-0.202832</td>\n",
              "      <td>0</td>\n",
              "    </tr>\n",
              "    <tr>\n",
              "      <th>8</th>\n",
              "      <td>8.348103</td>\n",
              "      <td>5.134156</td>\n",
              "      <td>1</td>\n",
              "    </tr>\n",
              "    <tr>\n",
              "      <th>9</th>\n",
              "      <td>8.674947</td>\n",
              "      <td>4.475731</td>\n",
              "      <td>1</td>\n",
              "    </tr>\n",
              "    <tr>\n",
              "      <th>10</th>\n",
              "      <td>9.177484</td>\n",
              "      <td>5.092832</td>\n",
              "      <td>1</td>\n",
              "    </tr>\n",
              "    <tr>\n",
              "      <th>11</th>\n",
              "      <td>10.240289</td>\n",
              "      <td>2.455444</td>\n",
              "      <td>1</td>\n",
              "    </tr>\n",
              "    <tr>\n",
              "      <th>12</th>\n",
              "      <td>8.689371</td>\n",
              "      <td>1.487096</td>\n",
              "      <td>0</td>\n",
              "    </tr>\n",
              "    <tr>\n",
              "      <th>13</th>\n",
              "      <td>8.922295</td>\n",
              "      <td>-0.639932</td>\n",
              "      <td>0</td>\n",
              "    </tr>\n",
              "    <tr>\n",
              "      <th>14</th>\n",
              "      <td>9.491235</td>\n",
              "      <td>4.332248</td>\n",
              "      <td>1</td>\n",
              "    </tr>\n",
              "    <tr>\n",
              "      <th>15</th>\n",
              "      <td>9.256942</td>\n",
              "      <td>5.132849</td>\n",
              "      <td>1</td>\n",
              "    </tr>\n",
              "    <tr>\n",
              "      <th>16</th>\n",
              "      <td>7.998153</td>\n",
              "      <td>4.852505</td>\n",
              "      <td>1</td>\n",
              "    </tr>\n",
              "    <tr>\n",
              "      <th>17</th>\n",
              "      <td>8.183781</td>\n",
              "      <td>1.295642</td>\n",
              "      <td>0</td>\n",
              "    </tr>\n",
              "    <tr>\n",
              "      <th>18</th>\n",
              "      <td>8.733709</td>\n",
              "      <td>2.491624</td>\n",
              "      <td>0</td>\n",
              "    </tr>\n",
              "    <tr>\n",
              "      <th>19</th>\n",
              "      <td>9.322983</td>\n",
              "      <td>5.098406</td>\n",
              "      <td>1</td>\n",
              "    </tr>\n",
              "    <tr>\n",
              "      <th>20</th>\n",
              "      <td>10.063938</td>\n",
              "      <td>0.990781</td>\n",
              "      <td>0</td>\n",
              "    </tr>\n",
              "    <tr>\n",
              "      <th>21</th>\n",
              "      <td>9.500490</td>\n",
              "      <td>-0.264303</td>\n",
              "      <td>0</td>\n",
              "    </tr>\n",
              "    <tr>\n",
              "      <th>22</th>\n",
              "      <td>8.344688</td>\n",
              "      <td>1.638243</td>\n",
              "      <td>0</td>\n",
              "    </tr>\n",
              "    <tr>\n",
              "      <th>23</th>\n",
              "      <td>9.501693</td>\n",
              "      <td>1.938246</td>\n",
              "      <td>0</td>\n",
              "    </tr>\n",
              "    <tr>\n",
              "      <th>24</th>\n",
              "      <td>9.150723</td>\n",
              "      <td>5.498322</td>\n",
              "      <td>1</td>\n",
              "    </tr>\n",
              "    <tr>\n",
              "      <th>25</th>\n",
              "      <td>11.563957</td>\n",
              "      <td>1.338940</td>\n",
              "      <td>0</td>\n",
              "    </tr>\n",
              "  </tbody>\n",
              "</table>\n",
              "</div>"
            ],
            "text/plain": [
              "          特徵0       特徵1  真偽\n",
              "0    9.963466  4.596765   1\n",
              "1   11.032954 -0.168167   0\n",
              "2   11.541558  5.211161   1\n",
              "3    8.692890  1.543220   0\n",
              "4    8.106227  4.286960   0\n",
              "5    8.309889  4.806240   1\n",
              "6   11.930271  4.648663   1\n",
              "7    9.672847 -0.202832   0\n",
              "8    8.348103  5.134156   1\n",
              "9    8.674947  4.475731   1\n",
              "10   9.177484  5.092832   1\n",
              "11  10.240289  2.455444   1\n",
              "12   8.689371  1.487096   0\n",
              "13   8.922295 -0.639932   0\n",
              "14   9.491235  4.332248   1\n",
              "15   9.256942  5.132849   1\n",
              "16   7.998153  4.852505   1\n",
              "17   8.183781  1.295642   0\n",
              "18   8.733709  2.491624   0\n",
              "19   9.322983  5.098406   1\n",
              "20  10.063938  0.990781   0\n",
              "21   9.500490 -0.264303   0\n",
              "22   8.344688  1.638243   0\n",
              "23   9.501693  1.938246   0\n",
              "24   9.150723  5.498322   1\n",
              "25  11.563957  1.338940   0"
            ]
          },
          "execution_count": 3,
          "metadata": {},
          "output_type": "execute_result"
        }
      ],
      "source": [
        "#使用表格檢驗資料集\n",
        "import mglearn.datasets\n",
        "import pandas as pd\n",
        "#X的維度(26,2),代表有2個特徵,\n",
        "# y的維度(26),內容為0和1,0是偽造,1是真\n",
        "X, y = mglearn.datasets.make_forge()\n",
        "#print(X.shape, y.shape)\n",
        "print(y)\n",
        "\n",
        "df = pd.DataFrame(X,columns=['特徵0','特徵1'])\n",
        "df['真偽'] = y\n",
        "df"
      ]
    },
    {
      "cell_type": "markdown",
      "metadata": {},
      "source": [
        "⬇︎使用mglearn畫圖"
      ]
    },
    {
      "cell_type": "code",
      "execution_count": 4,
      "metadata": {
        "colab": {
          "base_uri": "https://localhost:8080/",
          "height": 327
        },
        "id": "2RyhWRuqDFBh",
        "outputId": "214dfae6-9c12-470a-8de4-f6cecec3b413"
      },
      "outputs": [
        {
          "data": {
            "text/plain": [
              "<matplotlib.legend.Legend at 0xffff58ba28d0>"
            ]
          },
          "execution_count": 4,
          "metadata": {},
          "output_type": "execute_result"
        },
        {
          "data": {
            "image/png": "[encoded data removed]",
            "text/plain": [
              "<Figure size 1000x300 with 2 Axes>"
            ]
          },
          "metadata": {},
          "output_type": "display_data"
        }
      ],
      "source": [
        "#使用圖表檢驗資料集\n",
        "import mglearn.datasets\n",
        "from sklearn.linear_model import LogisticRegression\n",
        "from sklearn.svm import LinearSVC\n",
        "import mglearn\n",
        "import matplotlib.pyplot as plt\n",
        "\n",
        "X, y = mglearn.datasets.make_forge() #使用真偽資料集\n",
        "\n",
        "fig, axes = plt.subplots(1, 2, figsize = (10, 3))\n",
        "for model, ax in zip([LinearSVC(), LogisticRegression()], axes):\n",
        "    clf = model.fit(X, y)\n",
        "    #X特徵,fill是否填色,alpha,線段的不透明度\n",
        "    mglearn.plots.plot_2d_separator(clf, X, fill=False, eps=0.5, ax=ax, alpha=.7)\n",
        "    mglearn.discrete_scatter(X[:, 0], X[:,1], y, ax=ax)\n",
        "    ax.set_title(\"{}\".format(clf.__class__.__name__))\n",
        "    ax.set_xlabel(\"特徵0\")\n",
        "    ax.set_ylabel(\"特徵1\")\n",
        "axes[0].legend()"
      ]
    },
    {
      "cell_type": "markdown",
      "metadata": {},
      "source": [
        "⬇︎使用matplotlib畫圖"
      ]
    },
    {
      "cell_type": "code",
      "execution_count": null,
      "metadata": {},
      "outputs": [],
      "source": [
        "import numpy as np\n",
        "import matplotlib.pyplot as plt\n",
        "from sklearn.linear_model import LogisticRegression\n",
        "from sklearn.svm import LinearSVC\n",
        "from sklearn.datasets import make_blobs\n",
        "\n",
        "# 生成資料集\n",
        "X,y = mglearn.datasets.make_forge()\n",
        "\n",
        "# 創建子圖\n",
        "fig, axes = plt.subplots(1, 2, figsize=(10, 3))\n",
        "\n",
        "# 定義繪製決策邊界的函數\n",
        "def plot_decision_boundary(model, X, y, ax):\n",
        "    # 創建網格點,參考機器學習繪圖\n",
        "    x_min, x_max = X[:, 0].min() - 1, X[:, 0].max() + 1\n",
        "    y_min, y_max = X[:, 1].min() - 1, X[:, 1].max() + 1\n",
        "    xx, yy = np.meshgrid(np.arange(x_min, x_max, 0.02),\n",
        "                        np.arange(y_min, y_max, 0.02))\n",
        "    \n",
        "    # 預測網格點的類別\n",
        "    Z = model.predict(np.c_[xx.ravel(), yy.ravel()])\n",
        "    Z = Z.reshape(xx.shape)\n",
        "    \n",
        "    # 繪製決策邊界\n",
        "    ax.contour(xx, yy, Z, alpha=0.7)\n",
        "    \n",
        "    # 繪製散點圖\n",
        "    ax.scatter(X[y==0, 0], X[y==0, 1], c='blue', label='類別 0')\n",
        "    ax.scatter(X[y==1, 0], X[y==1, 1], c='red', label='類別 1')\n",
        "    \n",
        "    ax.set_xlabel('特徵 0')\n",
        "    ax.set_ylabel('特徵 1')\n",
        "    ax.set_title(f'{model.__class__.__name__}')\n",
        "\n",
        "# 訓練模型並繪製\n",
        "for model, ax in zip([LinearSVC(), LogisticRegression()], axes):\n",
        "    model.fit(X, y)\n",
        "    plot_decision_boundary(model, X, y, ax)\n",
        "\n",
        "axes[0].legend()\n",
        "plt.tight_layout()\n",
        "plt.show() "
      ]
    },
    {
      "cell_type": "markdown",
      "metadata": {},
      "source": []
    },
    {
      "cell_type": "markdown",
      "metadata": {},
      "source": [
        "- Linear Regression的Ridge模型 的 alpha：越高，係數越接近 0，正則化越強。\n",
        "- LogisticRegression/LinearSVC 的 C：越低，係數越接近 0，正則化越強。"
      ]
    },
    {
      "cell_type": "markdown",
      "metadata": {
        "id": "dUexzIu1DFBh"
      },
      "source": [
        "## 2個預設都使用L2正規化(Ridge)\n",
        "- 對於 LogisticRegression 和 LinearSVC，決定正規化強度的權衡參數稱為 C，C 值越高，正規化程度越低\n",
        "- 當使用較高的參數 C 值時，LogisticRegression 和 LinearSVC 會盡可能地擬合訓練集，而當參數 C 值較低時，模型會更重視尋找接近零的係數向量 (w)。\n",
        "- 使用較低的C值將導致演算法嘗試適應「大多數」資料點，而使用較高的 C 值會強調對每個單獨的資料點進行分類的重要性。\n",
        "正確配置。"
      ]
    },
    {
      "cell_type": "code",
      "execution_count": 7,
      "metadata": {
        "colab": {
          "base_uri": "https://localhost:8080/",
          "height": 367
        },
        "id": "VBC0Nfi7DFBi",
        "outputId": "445971a9-ebb5-49ec-d213-1ccd5dea656f"
      },
      "outputs": [
        {
          "data": {
            "image/png": "[encoded data removed]",
            "text/plain": [
              "<Figure size 1200x400 with 3 Axes>"
            ]
          },
          "metadata": {},
          "output_type": "display_data"
        }
      ],
      "source": [
        "mglearn.plots.plot_linear_svc_regularization()"
      ]
    },
    {
      "cell_type": "markdown",
      "metadata": {
        "id": "G2ZyyeOPDFBi"
      },
      "source": [
        "- 分類的線性模型在低維空間中可能看起來非常嚴格，只允許決策邊界是直線或平面。\n",
        "- 在高維度中，用於分類的線性模型變得非常強大，並且在考慮更多特徵時，防止過度擬合變得越來越重要。"
      ]
    },
    {
      "cell_type": "markdown",
      "metadata": {
        "id": "RoeeAafiDFBi"
      },
      "source": [
        "### 真偽預測和評估"
      ]
    },
    {
      "cell_type": "markdown",
      "metadata": {
        "id": "cFQHoDK5DFBi"
      },
      "source": [
        "stratify 參數的主要用途如下：\n",
        "\n",
        "1. 維持類別分布的平衡  \n",
        "確保分割後的訓練集和測試集中，各個類別的比例與原始數據集相同  \n",
        "避免某些類別在分割後比例失衡的問題\n",
        "\n",
        "2. 處理不平衡數據  \n",
        "特別適用於處理類別不平衡的數據集  \n",
        "例如：如果原始數據中正例與負例的比例是 8:2，分割後的訓練集和測試集也會保持這個比例  \n",
        "\n",
        "3. 實際例子  \n",
        "```\n",
        "# 原始數據假設有100筆，正例:負例 = 80:20\n",
        "# 使用 stratify=y 分割後：\n",
        "# 訓練集(70筆)：正例:負例 = 56:14 (保持 8:2 的比例)\n",
        "# 測試集(30筆)：正例:負例 = 24:6 (保持 8:2 的比例)\n",
        "```"
      ]
    },
    {
      "cell_type": "code",
      "execution_count": 8,
      "metadata": {
        "colab": {
          "base_uri": "https://localhost:8080/"
        },
        "id": "BgKY77s5DFBi",
        "outputId": "ba19c75c-5c7f-4a1e-d9a8-6af88c32c06d"
      },
      "outputs": [
        {
          "name": "stdout",
          "output_type": "stream",
          "text": [
            "邏輯迴歸模型評估:\n",
            "--------------------------------------------------\n",
            "準確度: 0.875\n",
            "\n",
            "LinearSVC模型評估:\n",
            "--------------------------------------------------\n",
            "準確度: 0.875\n",
            "==================================================\n",
            "邏輯迴歸模型評估C=100:\n",
            "--------------------------------------------------\n",
            "準確度: 0.875\n",
            "\n",
            "LinearSVC模型評估C=100:\n",
            "--------------------------------------------------\n",
            "準確度: 0.875\n"
          ]
        }
      ],
      "source": [
        "import mglearn.datasets\n",
        "from sklearn.model_selection import train_test_split\n",
        "from sklearn.linear_model import LogisticRegression\n",
        "from sklearn.svm import LinearSVC\n",
        "from sklearn.metrics import accuracy_score, classification_report\n",
        "\n",
        "# 1. 產生資料集並分割成訓練集和測試集\n",
        "# random_state控制資料集分割的隨機性\n",
        "\n",
        "X, y = mglearn.datasets.make_forge()\n",
        "X_train, X_test, y_train, y_test = train_test_split(\n",
        "    X, y, test_size=0.3, random_state=42, stratify=y\n",
        ")\n",
        "\n",
        "# 2. 建立和訓練模型\n",
        "# 使用LogisticRegression\n",
        "#random_state控制模型訓練過程中的隨機性\n",
        "log_model = LogisticRegression(random_state=42)\n",
        "log_model.fit(X_train, y_train)\n",
        "\n",
        "# 使用LinearSVC\n",
        "svc_model = LinearSVC(random_state=42)\n",
        "svc_model.fit(X_train, y_train)\n",
        "\n",
        "# 3. 進行預測\n",
        "log_pred = log_model.predict(X_test)\n",
        "svc_pred = svc_model.predict(X_test)\n",
        "\n",
        "# 4. 評估模型\n",
        "print(\"邏輯迴歸模型評估:\")\n",
        "print(\"-\" * 50)\n",
        "print(f\"準確度: {accuracy_score(y_test, log_pred):.3f}\")\n",
        "#print(\"\\n分類報告:\")\n",
        "#print(classification_report(y_test, log_pred))\n",
        "\n",
        "print(\"\\nLinearSVC模型評估:\")\n",
        "print(\"-\" * 50)\n",
        "print(f\"準確度: {accuracy_score(y_test, svc_pred):.3f}\")\n",
        "#print(\"\\n分類報告:\")\n",
        "#print(classification_report(y_test, svc_pred))\n",
        "print(\"=\"*50)\n",
        "#============c設100================\n",
        "log_model_100 = LogisticRegression(random_state=42,C=100)\n",
        "log_model_100.fit(X_train, y_train)\n",
        "\n",
        "# 使用LinearSVC\n",
        "svc_model_100 = LinearSVC(random_state=42,C=100)\n",
        "svc_model_100.fit(X_train, y_train)\n",
        "\n",
        "# 3. 進行預測\n",
        "log_pred_100 = log_model_100.predict(X_test)\n",
        "svc_pred_100 = svc_model_100.predict(X_test)\n",
        "\n",
        "# 4. 評估模型\n",
        "print(\"邏輯迴歸模型評估C=100:\")\n",
        "print(\"-\" * 50)\n",
        "print(f\"準確度: {accuracy_score(y_test, log_pred_100):.3f}\")\n",
        "\n",
        "\n",
        "print(\"\\nLinearSVC模型評估C=100:\")\n",
        "print(\"-\" * 50)\n",
        "print(f\"準確度: {accuracy_score(y_test, svc_pred_100):.3f}\")\n"
      ]
    }
  ],
  "metadata": {
    "colab": {
      "include_colab_link": true,
      "provenance": []
    },
    "kernelspec": {
      "display_name": "base",
      "language": "python",
      "name": "python3"
    },
    "language_info": {
      "codemirror_mode": {
        "name": "ipython",
        "version": 3
      },
      "file_extension": ".py",
      "mimetype": "text/x-python",
      "name": "python",
      "nbconvert_exporter": "python",
      "pygments_lexer": "ipython3",
      "version": "3.12.2"
    }
  },
  "nbformat": 4,
  "nbformat_minor": 0
}
