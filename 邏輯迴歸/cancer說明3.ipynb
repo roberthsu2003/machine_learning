{
  "cells": [
    {
      "cell_type": "markdown",
      "id": "a08004c9",
      "metadata": {
        "colab_type": "text",
        "id": "view-in-github"
      },
      "source": [
        "<a href=\"https://colab.research.google.com/github/roberthsu2003/machine_learning/blob/main/%E9%82%8F%E8%BC%AF%E8%BF%B4%E6%AD%B8/cancer%E8%AA%AA%E6%98%8E3.ipynb\" target=\"_parent\"><img src=\"https://colab.research.google.com/assets/colab-badge.svg\" alt=\"Open In Colab\"/></a>"
      ]
    },
    {
      "cell_type": "code",
      "execution_count": 1,
      "id": "a8641f22",
      "metadata": {
        "colab": {
          "base_uri": "https://localhost:8080/"
        },
        "id": "a8641f22",
        "outputId": "e8c8d2f9-a2c4-4b89-e39c-2111c0745b0f"
      },
      "outputs": [
        {
          "name": "stdout",
          "output_type": "stream",
          "text": [
            "Collecting wget\n",
            "  Downloading wget-3.2.zip (10 kB)\n",
            "  Preparing metadata (setup.py) ... \u001b[?25l\u001b[?25hdone\n",
            "Building wheels for collected packages: wget\n",
            "  Building wheel for wget (setup.py) ... \u001b[?25l\u001b[?25hdone\n",
            "  Created wheel for wget: filename=wget-3.2-py3-none-any.whl size=9655 sha256=e2d0fac4f936ea9c102e4b85891c575604fcf63567d3166e94dd90a6502d2502\n",
            "  Stored in directory: /root/.cache/pip/wheels/40/b3/0f/a40dbd1c6861731779f62cc4babcb234387e11d697df70ee97\n",
            "Successfully built wget\n",
            "Installing collected packages: wget\n",
            "Successfully installed wget-3.2\n"
          ]
        }
      ],
      "source": [
        "%pip install wget"
      ]
    },
    {
      "cell_type": "markdown",
      "id": "572e245f",
      "metadata": {},
      "source": [
        "### 檢視威斯康辛州乳癌資料集"
      ]
    },
    {
      "cell_type": "code",
      "execution_count": 10,
      "id": "d6ec7d5e",
      "metadata": {},
      "outputs": [
        {
          "data": {
            "text/html": [
              "<div>\n",
              "<style scoped>\n",
              "    .dataframe tbody tr th:only-of-type {\n",
              "        vertical-align: middle;\n",
              "    }\n",
              "\n",
              "    .dataframe tbody tr th {\n",
              "        vertical-align: top;\n",
              "    }\n",
              "\n",
              "    .dataframe thead th {\n",
              "        text-align: right;\n",
              "    }\n",
              "</style>\n",
              "<table border=\"1\" class=\"dataframe\">\n",
              "  <thead>\n",
              "    <tr style=\"text-align: right;\">\n",
              "      <th></th>\n",
              "      <th>平均半徑特徵0</th>\n",
              "      <th>平均紋理特徵1</th>\n",
              "      <th>平均周長特徵2</th>\n",
              "      <th>平均面積特徵3</th>\n",
              "      <th>平均平滑度特徵4</th>\n",
              "      <th>平均緊密度特徵5</th>\n",
              "      <th>平均凹度特徵6</th>\n",
              "      <th>平均凹點特徵7</th>\n",
              "      <th>平均對稱性特徵8</th>\n",
              "      <th>平均分形維度特徵9</th>\n",
              "      <th>...</th>\n",
              "      <th>最差紋理特徵21</th>\n",
              "      <th>最差周長特徵22</th>\n",
              "      <th>最差面積特徵23</th>\n",
              "      <th>最差平滑度特徵24</th>\n",
              "      <th>最差緊密度特徵25</th>\n",
              "      <th>最差凹度特徵26</th>\n",
              "      <th>最差凹點特徵27</th>\n",
              "      <th>最差對稱性特徵28</th>\n",
              "      <th>最差分形維度特徵29</th>\n",
              "      <th>label</th>\n",
              "    </tr>\n",
              "  </thead>\n",
              "  <tbody>\n",
              "    <tr>\n",
              "      <th>0</th>\n",
              "      <td>17.99</td>\n",
              "      <td>10.38</td>\n",
              "      <td>122.80</td>\n",
              "      <td>1001.0</td>\n",
              "      <td>0.11840</td>\n",
              "      <td>0.27760</td>\n",
              "      <td>0.3001</td>\n",
              "      <td>0.14710</td>\n",
              "      <td>0.2419</td>\n",
              "      <td>0.07871</td>\n",
              "      <td>...</td>\n",
              "      <td>17.33</td>\n",
              "      <td>184.60</td>\n",
              "      <td>2019.0</td>\n",
              "      <td>0.1622</td>\n",
              "      <td>0.6656</td>\n",
              "      <td>0.7119</td>\n",
              "      <td>0.2654</td>\n",
              "      <td>0.4601</td>\n",
              "      <td>0.11890</td>\n",
              "      <td>0</td>\n",
              "    </tr>\n",
              "    <tr>\n",
              "      <th>1</th>\n",
              "      <td>20.57</td>\n",
              "      <td>17.77</td>\n",
              "      <td>132.90</td>\n",
              "      <td>1326.0</td>\n",
              "      <td>0.08474</td>\n",
              "      <td>0.07864</td>\n",
              "      <td>0.0869</td>\n",
              "      <td>0.07017</td>\n",
              "      <td>0.1812</td>\n",
              "      <td>0.05667</td>\n",
              "      <td>...</td>\n",
              "      <td>23.41</td>\n",
              "      <td>158.80</td>\n",
              "      <td>1956.0</td>\n",
              "      <td>0.1238</td>\n",
              "      <td>0.1866</td>\n",
              "      <td>0.2416</td>\n",
              "      <td>0.1860</td>\n",
              "      <td>0.2750</td>\n",
              "      <td>0.08902</td>\n",
              "      <td>0</td>\n",
              "    </tr>\n",
              "    <tr>\n",
              "      <th>2</th>\n",
              "      <td>19.69</td>\n",
              "      <td>21.25</td>\n",
              "      <td>130.00</td>\n",
              "      <td>1203.0</td>\n",
              "      <td>0.10960</td>\n",
              "      <td>0.15990</td>\n",
              "      <td>0.1974</td>\n",
              "      <td>0.12790</td>\n",
              "      <td>0.2069</td>\n",
              "      <td>0.05999</td>\n",
              "      <td>...</td>\n",
              "      <td>25.53</td>\n",
              "      <td>152.50</td>\n",
              "      <td>1709.0</td>\n",
              "      <td>0.1444</td>\n",
              "      <td>0.4245</td>\n",
              "      <td>0.4504</td>\n",
              "      <td>0.2430</td>\n",
              "      <td>0.3613</td>\n",
              "      <td>0.08758</td>\n",
              "      <td>0</td>\n",
              "    </tr>\n",
              "    <tr>\n",
              "      <th>3</th>\n",
              "      <td>11.42</td>\n",
              "      <td>20.38</td>\n",
              "      <td>77.58</td>\n",
              "      <td>386.1</td>\n",
              "      <td>0.14250</td>\n",
              "      <td>0.28390</td>\n",
              "      <td>0.2414</td>\n",
              "      <td>0.10520</td>\n",
              "      <td>0.2597</td>\n",
              "      <td>0.09744</td>\n",
              "      <td>...</td>\n",
              "      <td>26.50</td>\n",
              "      <td>98.87</td>\n",
              "      <td>567.7</td>\n",
              "      <td>0.2098</td>\n",
              "      <td>0.8663</td>\n",
              "      <td>0.6869</td>\n",
              "      <td>0.2575</td>\n",
              "      <td>0.6638</td>\n",
              "      <td>0.17300</td>\n",
              "      <td>0</td>\n",
              "    </tr>\n",
              "    <tr>\n",
              "      <th>4</th>\n",
              "      <td>20.29</td>\n",
              "      <td>14.34</td>\n",
              "      <td>135.10</td>\n",
              "      <td>1297.0</td>\n",
              "      <td>0.10030</td>\n",
              "      <td>0.13280</td>\n",
              "      <td>0.1980</td>\n",
              "      <td>0.10430</td>\n",
              "      <td>0.1809</td>\n",
              "      <td>0.05883</td>\n",
              "      <td>...</td>\n",
              "      <td>16.67</td>\n",
              "      <td>152.20</td>\n",
              "      <td>1575.0</td>\n",
              "      <td>0.1374</td>\n",
              "      <td>0.2050</td>\n",
              "      <td>0.4000</td>\n",
              "      <td>0.1625</td>\n",
              "      <td>0.2364</td>\n",
              "      <td>0.07678</td>\n",
              "      <td>0</td>\n",
              "    </tr>\n",
              "  </tbody>\n",
              "</table>\n",
              "<p>5 rows × 31 columns</p>\n",
              "</div>"
            ],
            "text/plain": [
              "   平均半徑特徵0  平均紋理特徵1  平均周長特徵2  平均面積特徵3  平均平滑度特徵4  平均緊密度特徵5  平均凹度特徵6  平均凹點特徵7  \\\n",
              "0    17.99    10.38   122.80   1001.0   0.11840   0.27760   0.3001  0.14710   \n",
              "1    20.57    17.77   132.90   1326.0   0.08474   0.07864   0.0869  0.07017   \n",
              "2    19.69    21.25   130.00   1203.0   0.10960   0.15990   0.1974  0.12790   \n",
              "3    11.42    20.38    77.58    386.1   0.14250   0.28390   0.2414  0.10520   \n",
              "4    20.29    14.34   135.10   1297.0   0.10030   0.13280   0.1980  0.10430   \n",
              "\n",
              "   平均對稱性特徵8  平均分形維度特徵9  ...  最差紋理特徵21  最差周長特徵22  最差面積特徵23  最差平滑度特徵24  \\\n",
              "0    0.2419    0.07871  ...     17.33    184.60    2019.0     0.1622   \n",
              "1    0.1812    0.05667  ...     23.41    158.80    1956.0     0.1238   \n",
              "2    0.2069    0.05999  ...     25.53    152.50    1709.0     0.1444   \n",
              "3    0.2597    0.09744  ...     26.50     98.87     567.7     0.2098   \n",
              "4    0.1809    0.05883  ...     16.67    152.20    1575.0     0.1374   \n",
              "\n",
              "   最差緊密度特徵25  最差凹度特徵26  最差凹點特徵27  最差對稱性特徵28  最差分形維度特徵29  label  \n",
              "0     0.6656    0.7119    0.2654     0.4601     0.11890      0  \n",
              "1     0.1866    0.2416    0.1860     0.2750     0.08902      0  \n",
              "2     0.4245    0.4504    0.2430     0.3613     0.08758      0  \n",
              "3     0.8663    0.6869    0.2575     0.6638     0.17300      0  \n",
              "4     0.2050    0.4000    0.1625     0.2364     0.07678      0  \n",
              "\n",
              "[5 rows x 31 columns]"
            ]
          },
          "metadata": {},
          "output_type": "display_data"
        }
      ],
      "source": [
        "import pandas as pd\n",
        "import numpy as np\n",
        "from sklearn.datasets import load_breast_cancer\n",
        "\n",
        "# 載入資料集\n",
        "cancer = load_breast_cancer()\n",
        "\n",
        "# 建立特徵名稱的中文對照字典\n",
        "feature_names_zh = {\n",
        "    'mean radius': '平均半徑',\n",
        "    'mean texture': '平均紋理',\n",
        "    'mean perimeter': '平均周長',\n",
        "    'mean area': '平均面積',\n",
        "    'mean smoothness': '平均平滑度',\n",
        "    'mean compactness': '平均緊密度',\n",
        "    'mean concavity': '平均凹度',\n",
        "    'mean concave points': '平均凹點',\n",
        "    'mean symmetry': '平均對稱性',\n",
        "    'mean fractal dimension': '平均分形維度',\n",
        "    'radius error': '半徑誤差',\n",
        "    'texture error': '紋理誤差',\n",
        "    'perimeter error': '周長誤差',\n",
        "    'area error': '面積誤差',\n",
        "    'smoothness error': '平滑度誤差',\n",
        "    'compactness error': '緊密度誤差',\n",
        "    'concavity error': '凹度誤差',\n",
        "    'concave points error': '凹點誤差',\n",
        "    'symmetry error': '對稱性誤差',\n",
        "    'fractal dimension error': '分形維度誤差',\n",
        "    'worst radius': '最差半徑',\n",
        "    'worst texture': '最差紋理',\n",
        "    'worst perimeter': '最差周長',\n",
        "    'worst area': '最差面積',\n",
        "    'worst smoothness': '最差平滑度',\n",
        "    'worst compactness': '最差緊密度',\n",
        "    'worst concavity': '最差凹度',\n",
        "    'worst concave points': '最差凹點',\n",
        "    'worst symmetry': '最差對稱性',\n",
        "    'worst fractal dimension': '最差分形維度'\n",
        "}\n",
        "\n",
        "# 建立DataFrame\n",
        "df = pd.DataFrame(cancer.data, columns=[f\"{v}特徵{i}\" for i, v in enumerate(feature_names_zh.values())])\n",
        "\n",
        "# 加入target欄位\n",
        "df['label'] = cancer.target\n",
        "\n",
        "# 顯示DataFrame的前幾筆資料\n",
        "display(df.head())"
      ]
    },
    {
      "cell_type": "code",
      "execution_count": 2,
      "id": "0a7eb142",
      "metadata": {
        "colab": {
          "base_uri": "https://localhost:8080/",
          "height": 35
        },
        "id": "0a7eb142",
        "outputId": "43d38326-0fbe-4569-d811-c98f9b031c71"
      },
      "outputs": [
        {
          "data": {
            "application/vnd.google.colaboratory.intrinsic+json": {
              "type": "string"
            },
            "text/plain": [
              "'ChineseFont.ttf'"
            ]
          },
          "execution_count": 2,
          "metadata": {},
          "output_type": "execute_result"
        }
      ],
      "source": [
        "import wget\n",
        "\n",
        "wget.download(\"https://github.com/roberthsu2003/machine_learning/raw/refs/heads/main/source_data/ChineseFont.ttf\")"
      ]
    },
    {
      "cell_type": "code",
      "execution_count": 3,
      "id": "6629bc10",
      "metadata": {
        "id": "6629bc10"
      },
      "outputs": [],
      "source": [
        "import matplotlib as mpl\n",
        "from matplotlib.font_manager import fontManager\n",
        "fontManager.addfont(\"ChineseFont.ttf\")\n",
        "mpl.rc('font', family=\"ChineseFont\")"
      ]
    },
    {
      "cell_type": "markdown",
      "id": "d8ecbe98",
      "metadata": {
        "id": "d8ecbe98"
      },
      "source": [
        "## 使用特徵比較多的威斯康辛州乳癌資料集"
      ]
    },
    {
      "cell_type": "markdown",
      "id": "9aee0283",
      "metadata": {
        "id": "9aee0283"
      },
      "source": [
        "## 說明\n",
        "max_iter的意思?\n",
        "1. 優化過程\n",
        "   - 邏輯迴歸使用梯度下降等優化算法來找到最佳的模型參數\n",
        "   - 每次迭代都是調整模型參數的一個步驟\n",
        "   - 目標是最小化損失函數（通常是對數損失）\n",
        "2. 完整數據集的使用\n",
        "   - 在每次迭代中，算法都會使用完整的訓練數據集\n",
        "   - 這表示在一次迭代中，所有訓練樣本都被用來更新模型參數\n",
        "\n",
        "3. 停止條件\n",
        "   - 當算法達到收斂（模型參數幾乎不再變化）時會提前停止\n",
        "   - 如果達到 max_iter 設定的1000次仍未收斂，則強制停止"
      ]
    },
    {
      "cell_type": "markdown",
      "id": "bea54715",
      "metadata": {
        "id": "bea54715"
      },
      "source": [
        "### `fit_transform()`\n",
        "- 這個方法會**同時執行兩個步驟**：\n",
        "  1. **fit (擬合)**：計算訓練數據的統計量（平均值和標準差）\n",
        "  2. **transform (轉換)**：使用計算出的統計量來標準化數據\n",
        "- 主要用於**訓練數據集**\n",
        "- 只能在訓練集上使用一次\n",
        "\n",
        "### `transform()`\n",
        "- 只執行**轉換步驟**\n",
        "- 使用之前 `fit_transform` 時計算好的統計量來進行標準化\n",
        "- 用於**測試數據集**\n",
        "- 可以重複使用在不同的數據集上\n",
        "\n",
        "### 為什麼要這樣區分？\n",
        "1. **數據洩漏問題**：\n",
        "   - 如果在測試集上使用 `fit_transform()`，會導致模型看到測試數據的分布，造成數據洩漏\n",
        "   - 正確做法是只用訓練集的統計量來轉換測試集\n",
        "\n",
        "2. **一致性**：\n",
        "   - 確保測試集使用相同的縮放參數\n",
        "   - 保持訓練集和測試集的轉換標準一致\n",
        "\n"
      ]
    },
    {
      "cell_type": "code",
      "execution_count": 4,
      "id": "4ca9af0d",
      "metadata": {
        "colab": {
          "base_uri": "https://localhost:8080/"
        },
        "id": "4ca9af0d",
        "outputId": "ce392e8a-57ca-4a5f-b004-fc1da2af95b7"
      },
      "outputs": [
        {
          "name": "stdout",
          "output_type": "stream",
          "text": [
            "訓練時的分數:0.988\n",
            "測試時的分數:0.986\n"
          ]
        }
      ],
      "source": [
        "from sklearn.preprocessing import StandardScaler\n",
        "from sklearn.datasets import load_breast_cancer\n",
        "from sklearn.model_selection import train_test_split\n",
        "from sklearn.linear_model import LogisticRegression\n",
        "\n",
        "cancer = load_breast_cancer()\n",
        "X_train, X_test, y_train, y_test = train_test_split(\n",
        "cancer.data, cancer.target, stratify=cancer.target, random_state=42)\n",
        "\n",
        "# Scale the data 將數據進行標準化\n",
        "scaler = StandardScaler()\n",
        "X_train_scaled = scaler.fit_transform(X_train)\n",
        "X_test_scaled = scaler.transform(X_test)\n",
        "\n",
        "\n",
        "\n",
        "logreg = LogisticRegression(max_iter=1000).fit(X_train_scaled, y_train)\n",
        "print(\"訓練時的分數:{:.3f}\".format(logreg.score(X_train_scaled, y_train)))\n",
        "print(\"測試時的分數:{:.3f}\".format(logreg.score(X_test_scaled, y_test)))"
      ]
    },
    {
      "cell_type": "code",
      "execution_count": 5,
      "id": "1e9bb6d7",
      "metadata": {
        "colab": {
          "base_uri": "https://localhost:8080/"
        },
        "id": "1e9bb6d7",
        "outputId": "aa44ba29-439c-4c0b-ad12-2ece20aefff7"
      },
      "outputs": [
        {
          "name": "stdout",
          "output_type": "stream",
          "text": [
            "訓練時的分數:0.998\n",
            "測試時的分數:0.944\n"
          ]
        }
      ],
      "source": [
        "## 調整c參數\n",
        "from sklearn.preprocessing import StandardScaler\n",
        "from sklearn.datasets import load_breast_cancer\n",
        "from sklearn.model_selection import train_test_split\n",
        "\n",
        "cancer = load_breast_cancer()\n",
        "X_train, X_test, y_train, y_test = train_test_split(\n",
        "cancer.data, cancer.target, stratify=cancer.target, random_state=42)\n",
        "\n",
        "# Scale the data 將數據進行標準化\n",
        "scaler = StandardScaler()\n",
        "X_train_scaled = scaler.fit_transform(X_train)\n",
        "X_test_scaled = scaler.transform(X_test)\n",
        "\n",
        "\n",
        "\n",
        "logreg100 = LogisticRegression(max_iter=1000,C=100).fit(X_train_scaled, y_train)\n",
        "print(\"訓練時的分數:{:.3f}\".format(logreg100.score(X_train_scaled, y_train)))\n",
        "print(\"測試時的分數:{:.3f}\".format(logreg100.score(X_test_scaled, y_test)))"
      ]
    }
  ],
  "metadata": {
    "colab": {
      "include_colab_link": true,
      "provenance": []
    },
    "kernelspec": {
      "display_name": "base",
      "language": "python",
      "name": "python3"
    },
    "language_info": {
      "codemirror_mode": {
        "name": "ipython",
        "version": 3
      },
      "file_extension": ".py",
      "mimetype": "text/x-python",
      "name": "python",
      "nbconvert_exporter": "python",
      "pygments_lexer": "ipython3",
      "version": "3.12.2"
    }
  },
  "nbformat": 4,
  "nbformat_minor": 5
}
