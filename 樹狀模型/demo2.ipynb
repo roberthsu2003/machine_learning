{
  "cells": [
    {
      "cell_type": "markdown",
      "id": "195f0743",
      "metadata": {
        "colab_type": "text",
        "id": "view-in-github"
      },
      "source": [
        "<a href=\"https://colab.research.google.com/github/roberthsu2003/machine_learning/blob/main/%E6%A8%B9%E7%8B%80%E6%A8%A1%E5%9E%8B/demo2.ipynb\" target=\"_parent\"><img src=\"https://colab.research.google.com/assets/colab-badge.svg\" alt=\"Open In Colab\"/></a>"
      ]
    },
    {
      "cell_type": "markdown",
      "id": "0eb6a625",
      "metadata": {
        "id": "0eb6a625"
      },
      "source": [
        "- 我們使用完全開發樹的預設（生長樹直到所有葉子都pure）來建立模型。"
      ]
    },
    {
      "cell_type": "code",
      "execution_count": 1,
      "id": "03ba8ec4",
      "metadata": {
        "colab": {
          "base_uri": "https://localhost:8080/"
        },
        "id": "03ba8ec4",
        "outputId": "01a5a62f-e745-4508-8864-c6e9cd0fd087"
      },
      "outputs": [
        {
          "name": "stdout",
          "output_type": "stream",
          "text": [
            "訓練集的準確度: 1.000\n",
            "測試集的準確度: 0.937\n"
          ]
        }
      ],
      "source": [
        "from sklearn.datasets import load_breast_cancer\n",
        "from sklearn.model_selection import train_test_split\n",
        "from sklearn.tree import DecisionTreeClassifier\n",
        "\n",
        "cancer = load_breast_cancer()\n",
        "X_train, X_test, y_train, y_test = train_test_split(\n",
        "cancer.data, cancer.target, stratify=cancer.target, random_state=42)\n",
        "\n",
        "tree = DecisionTreeClassifier(random_state=0)\n",
        "tree.fit(X_train, y_train)\n",
        "print(\"訓練集的準確度: {:.3f}\".format(tree.score(X_train, y_train)))\n",
        "print(\"測試集的準確度: {:.3f}\".format(tree.score(X_test, y_test)))"
      ]
    },
    {
      "cell_type": "markdown",
      "id": "a021c765",
      "metadata": {
        "id": "a021c765"
      },
      "source": [
        "不出所料，在訓練集上的準確率是 100% - 因為leaf是pure的，樹的成長深度足以讓它完全記住訓練資料上的所有標籤。測試集的準確率比我們之前研究過的線性模型略差，後者的準確率約為 95%。\n",
        "\n",
        "如果我們不限制決策樹的深度，那麼樹可以變得任意深和複雜。因此，未修剪的樹容易過度擬合，並且不能很好地推廣到新數據。"
      ]
    }
  ],
  "metadata": {
    "colab": {
      "include_colab_link": true,
      "provenance": []
    },
    "kernelspec": {
      "display_name": "base",
      "language": "python",
      "name": "python3"
    },
    "language_info": {
      "codemirror_mode": {
        "name": "ipython",
        "version": 3
      },
      "file_extension": ".py",
      "mimetype": "text/x-python",
      "name": "python",
      "nbconvert_exporter": "python",
      "pygments_lexer": "ipython3",
      "version": "3.12.2"
    }
  },
  "nbformat": 4,
  "nbformat_minor": 5
}
