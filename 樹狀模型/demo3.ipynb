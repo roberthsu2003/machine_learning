{
  "cells": [
    {
      "cell_type": "markdown",
      "metadata": {
        "colab_type": "text",
        "id": "view-in-github"
      },
      "source": [
        "<a href=\"https://colab.research.google.com/github/roberthsu2003/machine_learning/blob/main/%E6%A8%B9%E7%8B%80%E6%A8%A1%E5%9E%8B/demo3.ipynb\" target=\"_parent\"><img src=\"https://colab.research.google.com/assets/colab-badge.svg\" alt=\"Open In Colab\"/></a>"
      ]
    },
    {
      "cell_type": "markdown",
      "id": "18b3690f",
      "metadata": {
        "id": "18b3690f"
      },
      "source": [
        "- 限制max_depth=4"
      ]
    },
    {
      "cell_type": "code",
      "execution_count": 5,
      "id": "76a9a9d9",
      "metadata": {
        "colab": {
          "base_uri": "https://localhost:8080/"
        },
        "id": "76a9a9d9",
        "outputId": "afcbfa18-e77d-401f-fed9-554c3c6d2aa9"
      },
      "outputs": [
        {
          "name": "stdout",
          "output_type": "stream",
          "text": [
            "資料集目標類別 (Target Names):\n",
            "- malignant: 惡性 (通常標記為 0)\n",
            "- benign: 良性 (通常標記為 1)\n",
            "\n",
            "部分特徵名稱 (Feature Names) :\n",
            "- mean radius: 平均半徑\n",
            "- mean texture: 平均紋理\n",
            "- mean perimeter: 平均周長\n",
            "- mean area: 平均面積\n",
            "- mean smoothness: 平均平滑度\n",
            "------------------------------\n",
            "訓練集的準確度: 0.988\n",
            "測試集的準確度: 0.951\n"
          ]
        }
      ],
      "source": [
        "from sklearn.datasets import load_breast_cancer\n",
        "from sklearn.model_selection import train_test_split\n",
        "from sklearn.tree import DecisionTreeClassifier\n",
        "import numpy as np # 匯入 numpy 以便操作 target_names\n",
        "\n",
        "# 載入威斯康辛乳癌資料集\n",
        "cancer = load_breast_cancer()\n",
        "\n",
        "# 顯示目標類別名稱及其繁體中文翻譯\n",
        "print(\"資料集目標類別 (Target Names):\")\n",
        "# scikit-learn 預設 0 代表 malignant, 1 代表 benign\n",
        "# 但有時順序可能不同，最好直接看 target_names\n",
        "# 為了確保對應正確，我們檢查第一個 target 的值\n",
        "# 通常 cancer.target[0] 對應 cancer.target_names[0] 的意義\n",
        "# 但更保險的方式是直接定義翻譯字典\n",
        "target_translation = {\n",
        "    'malignant': '惡性 (通常標記為 0)',\n",
        "    'benign': '良性 (通常標記為 1)'\n",
        "}\n",
        "for name in cancer.target_names:\n",
        "    print(f\"- {name}: {target_translation.get(name, '未知類別')}\") # 使用 .get 提供預設值\n",
        "\n",
        "\n",
        "print(\"\\n部分特徵名稱 (Feature Names) :\")\n",
        "feature_translation = {\n",
        "    'mean radius': '平均半徑',\n",
        "    'mean texture': '平均紋理',\n",
        "    'mean perimeter': '平均周長',\n",
        "    'mean area': '平均面積',\n",
        "    'mean smoothness': '平均平滑度'\n",
        "}\n",
        "for i, name in enumerate(cancer.feature_names[:5]): # 只顯示前 5 個\n",
        "    print(f\"- {name}: {feature_translation.get(name, name)}\") # 如果沒有翻譯，顯示原名\n",
        "\n",
        "print(\"-\" * 30) # 分隔線\n",
        "\n",
        "# 將資料分割為訓練集和測試集\n",
        "# stratify=cancer.target 確保分割後各類別比例與原始資料一致\n",
        "# random_state=42 確保每次分割結果相同，方便重現實驗\n",
        "X_train, X_test, y_train, y_test = train_test_split(\n",
        "    cancer.data, cancer.target, stratify=cancer.target, random_state=42)\n",
        "\n",
        "\n",
        "\n",
        "# 初始化決策樹分類器，限制最大深度為 4 以防止過度擬合\n",
        "# random_state=0 確保決策樹建構過程可重現\n",
        "tree = DecisionTreeClassifier(max_depth=4, random_state=0)\n",
        "\n",
        "# 使用訓練資料來訓練 (擬合) 決策樹模型\n",
        "tree.fit(X_train, y_train)\n",
        "\n",
        "# 評估模型在訓練集上的表現\n",
        "train_accuracy = tree.score(X_train, y_train)\n",
        "print(f\"訓練集的準確度: {train_accuracy:.3f}\")\n",
        "\n",
        "# 評估模型在測試集上的表現 (泛化能力)\n",
        "test_accuracy = tree.score(X_test, y_test)\n",
        "print(f\"測試集的準確度: {test_accuracy:.3f}\")\n",
        "\n",
        "\n",
        "\n"
      ]
    }
  ],
  "metadata": {
    "colab": {
      "include_colab_link": true,
      "provenance": []
    },
    "kernelspec": {
      "display_name": "base",
      "language": "python",
      "name": "python3"
    },
    "language_info": {
      "codemirror_mode": {
        "name": "ipython",
        "version": 3
      },
      "file_extension": ".py",
      "mimetype": "text/x-python",
      "name": "python",
      "nbconvert_exporter": "python",
      "pygments_lexer": "ipython3",
      "version": "3.12.2"
    }
  },
  "nbformat": 4,
  "nbformat_minor": 5
}
