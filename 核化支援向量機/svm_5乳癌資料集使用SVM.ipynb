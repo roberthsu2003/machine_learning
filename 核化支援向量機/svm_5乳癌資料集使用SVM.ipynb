{
  "cells": [
    {
      "cell_type": "markdown",
      "metadata": {
        "id": "view-in-github",
        "colab_type": "text"
      },
      "source": [
        "<a href=\"https://colab.research.google.com/github/roberthsu2003/machine_learning/blob/main/%E6%A0%B8%E5%8C%96%E6%94%AF%E6%8F%B4%E5%90%91%E9%87%8F%E6%A9%9F/svm_5%E4%B9%B3%E7%99%8C%E8%B3%87%E6%96%99%E9%9B%86%E4%BD%BF%E7%94%A8SVM.ipynb\" target=\"_parent\"><img src=\"https://colab.research.google.com/assets/colab-badge.svg\" alt=\"Open In Colab\"/></a>"
      ]
    },
    {
      "cell_type": "code",
      "source": [
        "%%capture\n",
        "%pip install mglearn"
      ],
      "metadata": {
        "id": "nHLT6NbLw_am"
      },
      "id": "nHLT6NbLw_am",
      "execution_count": 1,
      "outputs": []
    },
    {
      "cell_type": "markdown",
      "id": "d684a493",
      "metadata": {
        "id": "d684a493"
      },
      "source": [
        "### svm_5乳癌資料集使用SVM\n",
        "- 預設C=1\n",
        "- 預設gamma = 1/n_features"
      ]
    },
    {
      "cell_type": "code",
      "execution_count": 2,
      "id": "0ea190f9",
      "metadata": {
        "id": "0ea190f9",
        "outputId": "c108a6a7-2634-4201-8ded-d77d6823e374",
        "colab": {
          "base_uri": "https://localhost:8080/"
        }
      },
      "outputs": [
        {
          "output_type": "stream",
          "name": "stdout",
          "text": [
            "訓練集準確度:0.90\n",
            "測試集準確度:0.94\n"
          ]
        }
      ],
      "source": [
        "from sklearn.datasets import load_breast_cancer\n",
        "from sklearn.model_selection import train_test_split\n",
        "from sklearn.svm import SVC\n",
        "cancer = load_breast_cancer()\n",
        "X_train, X_test, y_train, y_test = train_test_split(cancer.data, cancer.target, random_state=0)\n",
        "\n",
        "svc = SVC(C=1).fit(X_train, y_train)\n",
        "\n",
        "print(\"訓練集準確度:{:.2f}\".format(svc.score(X_train, y_train)))\n",
        "print(\"測試集準確度:{:.2f}\".format(svc.score(X_test, y_test)))\n"
      ]
    },
    {
      "cell_type": "markdown",
      "id": "9efecf28",
      "metadata": {
        "id": "9efecf28"
      },
      "source": [
        "### 檢查乳癌每資料特徵的最大和最小數值\n",
        "- 從這幅圖中，我們可以判斷出乳癌資料集中的特徵在數量級上完全不同。\n",
        "- 對於其他模型（如線性模型）來說，這可能是一個問題，但對於核 SVM 來說，它具有毀滅性的影響。"
      ]
    },
    {
      "cell_type": "code",
      "execution_count": 3,
      "id": "967a1848",
      "metadata": {
        "id": "967a1848",
        "outputId": "076dcc3a-4110-47b6-dcbd-988d9304979e",
        "colab": {
          "base_uri": "https://localhost:8080/",
          "height": 449
        }
      },
      "outputs": [
        {
          "output_type": "display_data",
          "data": {
            "text/plain": [
              "<Figure size 640x480 with 1 Axes>"
            ],
            "image/png": "[encoded data removed]"
          },
          "metadata": {}
        }
      ],
      "source": [
        "import matplotlib.pyplot as plt\n",
        "\n",
        "plt.plot(X_train.min(axis=0), 'o', label=\"min\")\n",
        "plt.plot(X_train.max(axis=0), '^', label='max')\n",
        "plt.legend(loc=4)\n",
        "plt.xlabel(\"Feature index\")\n",
        "plt.ylabel(\"Feature magnitude\")\n",
        "plt.yscale(\"log\")"
      ]
    },
    {
      "cell_type": "markdown",
      "id": "ba296373",
      "metadata": {
        "id": "ba296373"
      },
      "source": [
        "⬆︎乳癌資料集的特徵範圍（請注意，y 軸具有對數刻度）"
      ]
    },
    {
      "cell_type": "markdown",
      "id": "7bde4d6b",
      "metadata": {
        "id": "7bde4d6b"
      },
      "source": [
        "### 支援向量機 (SVM) 的預處理數據\n",
        "\n",
        "⬇︎解決此問題的一種方法是重新縮放每個特徵，以使它們大致處於相同比例。核 SVM 的常見重新縮放方法是縮放數據，使得所有特徵都在 0 和 1 之間。我們將看到如何使用 MinMaxScaler 預處理方法來實現這一點"
      ]
    },
    {
      "cell_type": "code",
      "execution_count": 4,
      "id": "cfd2e920",
      "metadata": {
        "id": "cfd2e920",
        "outputId": "093d472e-d54e-4051-a761-7f535d7b3555",
        "colab": {
          "base_uri": "https://localhost:8080/"
        }
      },
      "outputs": [
        {
          "output_type": "stream",
          "name": "stdout",
          "text": [
            "訓練集每個特徵的最小值\n",
            "[0. 0. 0. 0. 0. 0. 0. 0. 0. 0. 0. 0. 0. 0. 0. 0. 0. 0. 0. 0. 0. 0. 0. 0.\n",
            " 0. 0. 0. 0. 0. 0.]\n",
            "訓練集每個特徵的最大值\n",
            "[1. 1. 1. 1. 1. 1. 1. 1. 1. 1. 1. 1. 1. 1. 1. 1. 1. 1. 1. 1. 1. 1. 1. 1.\n",
            " 1. 1. 1. 1. 1. 1.]\n",
            "測試集每個特徵的最小值\n",
            "[0. 0. 0. 0. 0. 0. 0. 0. 0. 0. 0. 0. 0. 0. 0. 0. 0. 0. 0. 0. 0. 0. 0. 0.\n",
            " 0. 0. 0. 0. 0. 0.]\n",
            "測試集每個特徵的最大值\n",
            "[1. 1. 1. 1. 1. 1. 1. 1. 1. 1. 1. 1. 1. 1. 1. 1. 1. 1. 1. 1. 1. 1. 1. 1.\n",
            " 1. 1. 1. 1. 1. 1.]\n"
          ]
        }
      ],
      "source": [
        "from sklearn.datasets import load_breast_cancer\n",
        "from sklearn.model_selection import train_test_split\n",
        "from sklearn.svm import SVC\n",
        "cancer = load_breast_cancer()\n",
        "X_train, X_test, y_train, y_test = train_test_split(cancer.data, cancer.target, random_state=0)\n",
        "\n",
        "#計算訓練集上每個特徵的最小值\n",
        "min_on_training = X_train.min(axis=0)\n",
        "\n",
        "#計算訓練集上每個特徵的範圍（最大值 - 最小值）\n",
        "range_on_training = (X_train - min_on_training).max(axis=0)\n",
        "\n",
        "# 減去最小值，然後除以範圍\n",
        "# 之後，每個特徵的最小值=0，最大值=1\n",
        "X_train_scaled = (X_train - min_on_training) / range_on_training\n",
        "\n",
        "print(\"訓練集每個特徵的最小值\\n{}\".format(X_train_scaled.min(axis=0)))\n",
        "print(\"訓練集每個特徵的最大值\\n{}\".format(X_train_scaled.max(axis=0)))\n",
        "\n",
        "#計算測試集上每個特徵的最小值\n",
        "min_on_testing = X_test.min(axis=0)\n",
        "#計算測試集上每個特徵的範圍（最大值 - 最小值)\n",
        "range_on_testing = (X_test - min_on_testing).max(axis=0)\n",
        "\n",
        "# 減去最小值，然後除以範圍\n",
        "# 之後，每個特徵的最小值=0，最大值=1\n",
        "X_test_scaled = (X_test - min_on_testing) / range_on_testing\n",
        "\n",
        "print(\"測試集每個特徵的最小值\\n{}\".format(X_test_scaled.min(axis=0)))\n",
        "print(\"測試集每個特徵的最大值\\n{}\".format(X_test_scaled.max(axis=0)))"
      ]
    },
    {
      "cell_type": "markdown",
      "id": "4875ad67",
      "metadata": {
        "id": "4875ad67"
      },
      "source": [
        "### 再訓練\n"
      ]
    },
    {
      "cell_type": "code",
      "execution_count": 5,
      "id": "b782ee43",
      "metadata": {
        "id": "b782ee43",
        "outputId": "6ac1be6b-61ad-4fa8-db06-82478b4179ee",
        "colab": {
          "base_uri": "https://localhost:8080/"
        }
      },
      "outputs": [
        {
          "output_type": "stream",
          "name": "stdout",
          "text": [
            "訓練集準確度:0.96\n",
            "測試集準確度:0.96\n"
          ]
        }
      ],
      "source": [
        "svc = SVC(C=1,gamma=0.07).fit(X_train_scaled, y_train)\n",
        "print(\"訓練集準確度:{:.2f}\".format(svc.score(X_train_scaled, y_train)))\n",
        "print(\"測試集準確度:{:.2f}\".format(svc.score(X_test_scaled, y_test)))"
      ]
    }
  ],
  "metadata": {
    "kernelspec": {
      "display_name": "base",
      "language": "python",
      "name": "python3"
    },
    "language_info": {
      "codemirror_mode": {
        "name": "ipython",
        "version": 3
      },
      "file_extension": ".py",
      "mimetype": "text/x-python",
      "name": "python",
      "nbconvert_exporter": "python",
      "pygments_lexer": "ipython3",
      "version": "3.12.2"
    },
    "colab": {
      "provenance": [],
      "include_colab_link": true
    }
  },
  "nbformat": 4,
  "nbformat_minor": 5
}