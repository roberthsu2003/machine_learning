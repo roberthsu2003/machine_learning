{
  "cells": [
    {
      "cell_type": "markdown",
      "metadata": {
        "colab_type": "text",
        "id": "view-in-github"
      },
      "source": [
        "<a href=\"https://colab.research.google.com/github/roberthsu2003/machine_learning/blob/main/%E6%A9%9F%E7%8E%87%E7%B5%B1%E8%A8%88/PMF%E6%A6%82%E7%8E%87%E8%B3%AA%E9%87%8F%E5%88%86%E4%BD%88.ipynb\" target=\"_parent\"><img src=\"https://colab.research.google.com/assets/colab-badge.svg\" alt=\"Open In Colab\"/></a>"
      ]
    },
    {
      "cell_type": "markdown",
      "metadata": {
        "id": "2wVYrXHWjBlX"
      },
      "source": [
        "# 解釋PMF\n",
        "- 以二項分佈(Binomial Distribution)為例\n",
        "1. 假設進行 10 次獨立試驗，每次成功機率為 0.5，計算成功次數的 PMF。  \n",
        "2. 假設你進行 10 次獨立試驗，每次試驗只有『成功』或『失敗』兩種結果，每次成功的機率都是 0.5。計算在這 10 次試驗中，『成功次數』這個隨機變數的所有可能值（0 到 10）對應的機率，也就是計算『成功次數的 PMF』。"
      ]
    },
    {
      "cell_type": "code",
      "execution_count": 1,
      "metadata": {
        "id": "YWo7HmZ6jBlY"
      },
      "outputs": [],
      "source": [
        "%%capture\n",
        "%pip install wget"
      ]
    },
    {
      "cell_type": "code",
      "execution_count": 3,
      "metadata": {
        "colab": {
          "base_uri": "https://localhost:8080/",
          "height": 35
        },
        "id": "BW7dPucIjBlZ",
        "outputId": "4c62b316-8d76-4f95-cdfe-0264f5cea1e8"
      },
      "outputs": [],
      "source": [
        "# 檢查字型檔案是否已經存在，若不存在才下載\n",
        "import os\n",
        "import wget\n",
        "\n",
        "font_path = \"ChineseFont.ttf\"\n",
        "if not os.path.exists(font_path):\n",
        "    wget.download(\"https://github.com/roberthsu2003/machine_learning/raw/refs/heads/main/source_data/ChineseFont.ttf\")"
      ]
    },
    {
      "cell_type": "code",
      "execution_count": 6,
      "metadata": {
        "colab": {
          "base_uri": "https://localhost:8080/",
          "height": 472
        },
        "id": "0RRsBeKHjBlZ",
        "outputId": "1cc8eb1a-6b7a-4225-8b88-c17de94a7ff9"
      },
      "outputs": [
        {
          "name": "stdout",
          "output_type": "stream",
          "text": [
            "[ 0  1  2  3  4  5  6  7  8  9 10]\n",
            "[0.00097656 0.00976563 0.04394531 0.1171875  0.20507812 0.24609375\n",
            " 0.20507812 0.1171875  0.04394531 0.00976563 0.00097656]\n"
          ]
        },
        {
          "data": {
            "image/png": "[encoded data removed]",
            "text/plain": [
              "<Figure size 640x480 with 1 Axes>"
            ]
          },
          "metadata": {},
          "output_type": "display_data"
        }
      ],
      "source": [
        "import numpy as np\n",
        "from scipy.stats import binom\n",
        "import matplotlib.pyplot as plt\n",
        "import matplotlib as mpl\n",
        "from matplotlib.font_manager import fontManager\n",
        "\n",
        "fontManager.addfont(\"ChineseFont.ttf\")\n",
        "mpl.rc('font', family=\"ChineseFont\")\n",
        "# 定義參數\n",
        "n = 10  # 試驗次數\n",
        "p = 0.5 # 成功機率\n",
        "x = np.arange(0, n+1)  # 可能取值 (0到10)\n",
        "print(x)\n",
        "\n",
        "# 計算 PMF\n",
        "pmf = binom.pmf(x, n, p) #說明1\n",
        "print(pmf)\n",
        "\n",
        "# 繪製 PMF 圖\n",
        "plt.bar(x, pmf)\n",
        "plt.xlabel('成功次數')\n",
        "plt.ylabel('機率')\n",
        "plt.title('二項分佈的 PMF (n=10, p=0.5)')\n",
        "plt.xticks(x)\n",
        "plt.show()"
      ]
    },
    {
      "cell_type": "markdown",
      "metadata": {},
      "source": [
        "### ⬆︎說明1\n",
        "binom：scipy.stats 套件中的二項分布物件，可以用來計算機率質量函數（pmf）、累積分布函數（cdf）等。\n",
        "x：表示「顯示可以成功的次數」。例如，如果你丟硬幣 10 次，x=3 就代表有 3 次正面朝上。\n",
        "n：總試驗次數。例如丟硬幣 10 次，n=10。\n",
        "p：每次試驗成功的機率。例如丟硬幣正面朝上的機率，p=0.5。"
      ]
    }
  ],
  "metadata": {
    "colab": {
      "include_colab_link": true,
      "provenance": []
    },
    "kernelspec": {
      "display_name": "machine_learning",
      "language": "python",
      "name": "python3"
    },
    "language_info": {
      "codemirror_mode": {
        "name": "ipython",
        "version": 3
      },
      "file_extension": ".py",
      "mimetype": "text/x-python",
      "name": "python",
      "nbconvert_exporter": "python",
      "pygments_lexer": "ipython3",
      "version": "3.10.18"
    }
  },
  "nbformat": 4,
  "nbformat_minor": 0
}
