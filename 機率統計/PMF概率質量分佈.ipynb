{
  "cells": [
    {
      "cell_type": "markdown",
      "metadata": {
        "id": "view-in-github",
        "colab_type": "text"
      },
      "source": [
        "<a href=\"https://colab.research.google.com/github/roberthsu2003/machine_learning/blob/main/%E6%A9%9F%E7%8E%87%E7%B5%B1%E8%A8%88/PMF%E6%A6%82%E7%8E%87%E8%B3%AA%E9%87%8F%E5%88%86%E4%BD%88.ipynb\" target=\"_parent\"><img src=\"https://colab.research.google.com/assets/colab-badge.svg\" alt=\"Open In Colab\"/></a>"
      ]
    },
    {
      "cell_type": "markdown",
      "metadata": {
        "id": "2wVYrXHWjBlX"
      },
      "source": [
        "# 解釋PMF\n",
        "假設進行 10 次獨立試驗，每次成功機率為 0.5，計算成功次數的 PMF。  \n",
        "假設你進行 10 次獨立試驗，每次試驗只有『成功』或『失敗』兩種結果，每次成功的機率都是 0.5。計算在這 10 次試驗中，『成功次數』這個隨機變數的所有可能值（0 到 10）對應的機率，也就是計算『成功次數的 PMF』。"
      ]
    },
    {
      "cell_type": "code",
      "execution_count": 1,
      "metadata": {
        "id": "YWo7HmZ6jBlY"
      },
      "outputs": [],
      "source": [
        "%%capture\n",
        "%pip install wget"
      ]
    },
    {
      "cell_type": "code",
      "execution_count": 2,
      "metadata": {
        "id": "BW7dPucIjBlZ",
        "outputId": "4c62b316-8d76-4f95-cdfe-0264f5cea1e8",
        "colab": {
          "base_uri": "https://localhost:8080/",
          "height": 35
        }
      },
      "outputs": [
        {
          "output_type": "execute_result",
          "data": {
            "text/plain": [
              "'ChineseFont.ttf'"
            ],
            "application/vnd.google.colaboratory.intrinsic+json": {
              "type": "string"
            }
          },
          "metadata": {},
          "execution_count": 2
        }
      ],
      "source": [
        "#下載字型\n",
        "import wget\n",
        "wget.download(\"https://github.com/roberthsu2003/machine_learning/raw/refs/heads/main/source_data/ChineseFont.ttf\")"
      ]
    },
    {
      "cell_type": "code",
      "execution_count": 3,
      "metadata": {
        "id": "0RRsBeKHjBlZ",
        "outputId": "1cc8eb1a-6b7a-4225-8b88-c17de94a7ff9",
        "colab": {
          "base_uri": "https://localhost:8080/",
          "height": 472
        }
      },
      "outputs": [
        {
          "output_type": "display_data",
          "data": {
            "text/plain": [
              "<Figure size 640x480 with 1 Axes>"
            ],
            "image/png": "[encoded data removed]"
          },
          "metadata": {}
        }
      ],
      "source": [
        "import numpy as np\n",
        "from scipy.stats import binom\n",
        "import matplotlib.pyplot as plt\n",
        "import matplotlib as mpl\n",
        "from matplotlib.font_manager import fontManager\n",
        "\n",
        "fontManager.addfont(\"ChineseFont.ttf\")\n",
        "mpl.rc('font', family=\"ChineseFont\")\n",
        "# 定義參數\n",
        "n = 10  # 試驗次數\n",
        "p = 0.5 # 成功機率\n",
        "x = np.arange(0, n+1)  # 可能取值 (0到10)\n",
        "\n",
        "# 計算 PMF\n",
        "pmf = binom.pmf(x, n, p)\n",
        "\n",
        "# 繪製 PMF 圖\n",
        "plt.bar(x, pmf)\n",
        "plt.xlabel('成功次數')\n",
        "plt.ylabel('機率')\n",
        "plt.title('二項分佈的 PMF (n=10, p=0.5)')\n",
        "plt.xticks(x)\n",
        "plt.show()"
      ]
    }
  ],
  "metadata": {
    "kernelspec": {
      "display_name": "base",
      "language": "python",
      "name": "python3"
    },
    "language_info": {
      "codemirror_mode": {
        "name": "ipython",
        "version": 3
      },
      "file_extension": ".py",
      "mimetype": "text/x-python",
      "name": "python",
      "nbconvert_exporter": "python",
      "pygments_lexer": "ipython3",
      "version": "3.12.2"
    },
    "colab": {
      "provenance": [],
      "include_colab_link": true
    }
  },
  "nbformat": 4,
  "nbformat_minor": 0
}